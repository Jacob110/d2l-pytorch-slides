{
 "cells": [
  {
   "cell_type": "markdown",
   "id": "d2f0c78f",
   "metadata": {
    "slideshow": {
     "slide_type": "-"
    }
   },
   "source": [
    "# File I/O\n",
    "\n"
   ]
  },
  {
   "cell_type": "code",
   "execution_count": 1,
   "id": "3c628a29",
   "metadata": {
    "execution": {
     "iopub.execute_input": "2023-08-14T16:33:31.108070Z",
     "iopub.status.busy": "2023-08-14T16:33:31.107279Z",
     "iopub.status.idle": "2023-08-14T16:33:32.940940Z",
     "shell.execute_reply": "2023-08-14T16:33:32.940022Z"
    },
    "origin_pos": 3,
    "tab": [
     "pytorch"
    ]
   },
   "outputs": [],
   "source": [
    "import torch\n",
    "from torch import nn\n",
    "from torch.nn import functional as F"
   ]
  },
  {
   "cell_type": "markdown",
   "id": "d6fcb442",
   "metadata": {
    "slideshow": {
     "slide_type": "-"
    }
   },
   "source": [
    "Loading and Saving Tensors"
   ]
  },
  {
   "cell_type": "code",
   "execution_count": 3,
   "id": "70b6c4d3",
   "metadata": {
    "execution": {
     "iopub.execute_input": "2023-08-14T16:33:32.972535Z",
     "iopub.status.busy": "2023-08-14T16:33:32.971987Z",
     "iopub.status.idle": "2023-08-14T16:33:32.981915Z",
     "shell.execute_reply": "2023-08-14T16:33:32.981057Z"
    },
    "origin_pos": 13,
    "tab": [
     "pytorch"
    ]
   },
   "outputs": [
    {
     "data": {
      "text/plain": [
       "tensor([0, 1, 2, 3])"
      ]
     },
     "execution_count": 3,
     "metadata": {},
     "output_type": "execute_result"
    }
   ],
   "source": [
    "x = torch.arange(4)\n",
    "torch.save(x, 'x-file')\n",
    "\n",
    "x2 = torch.load('x-file')\n",
    "x2"
   ]
  },
  {
   "cell_type": "markdown",
   "id": "55544908",
   "metadata": {
    "slideshow": {
     "slide_type": "slide"
    }
   },
   "source": [
    "Store a list of tensors and read them back into memory"
   ]
  },
  {
   "cell_type": "code",
   "execution_count": 4,
   "id": "e3ec26cf",
   "metadata": {
    "execution": {
     "iopub.execute_input": "2023-08-14T16:33:32.985297Z",
     "iopub.status.busy": "2023-08-14T16:33:32.984721Z",
     "iopub.status.idle": "2023-08-14T16:33:32.992181Z",
     "shell.execute_reply": "2023-08-14T16:33:32.991366Z"
    },
    "origin_pos": 18,
    "tab": [
     "pytorch"
    ]
   },
   "outputs": [
    {
     "data": {
      "text/plain": [
       "(tensor([0, 1, 2, 3]), tensor([0., 0., 0., 0.]))"
      ]
     },
     "execution_count": 4,
     "metadata": {},
     "output_type": "execute_result"
    }
   ],
   "source": [
    "y = torch.zeros(4)\n",
    "torch.save([x, y],'x-files')\n",
    "x2, y2 = torch.load('x-files')\n",
    "(x2, y2)"
   ]
  },
  {
   "cell_type": "markdown",
   "id": "fa7ea197",
   "metadata": {
    "slideshow": {
     "slide_type": "slide"
    }
   },
   "source": [
    "Write and read a dictionary that maps\n",
    "from strings to tensors"
   ]
  },
  {
   "cell_type": "code",
   "execution_count": 5,
   "id": "010c28bb",
   "metadata": {
    "execution": {
     "iopub.execute_input": "2023-08-14T16:33:32.995413Z",
     "iopub.status.busy": "2023-08-14T16:33:32.994880Z",
     "iopub.status.idle": "2023-08-14T16:33:33.002116Z",
     "shell.execute_reply": "2023-08-14T16:33:33.001286Z"
    },
    "origin_pos": 23,
    "tab": [
     "pytorch"
    ]
   },
   "outputs": [
    {
     "data": {
      "text/plain": [
       "{'x': tensor([0, 1, 2, 3]), 'y': tensor([0., 0., 0., 0.])}"
      ]
     },
     "execution_count": 5,
     "metadata": {},
     "output_type": "execute_result"
    }
   ],
   "source": [
    "mydict = {'x': x, 'y': y}\n",
    "torch.save(mydict, 'mydict')\n",
    "mydict2 = torch.load('mydict')\n",
    "mydict2"
   ]
  },
  {
   "cell_type": "markdown",
   "id": "9113bd13",
   "metadata": {
    "slideshow": {
     "slide_type": "slide"
    }
   },
   "source": [
    "Loading and Saving Model Parameters\n",
    "Let's start with our familiar MLP"
   ]
  },
  {
   "cell_type": "code",
   "execution_count": 6,
   "id": "4ee04b6a",
   "metadata": {
    "execution": {
     "iopub.execute_input": "2023-08-14T16:33:33.005317Z",
     "iopub.status.busy": "2023-08-14T16:33:33.004757Z",
     "iopub.status.idle": "2023-08-14T16:33:33.014859Z",
     "shell.execute_reply": "2023-08-14T16:33:33.014004Z"
    },
    "origin_pos": 28,
    "tab": [
     "pytorch"
    ]
   },
   "outputs": [],
   "source": [
    "class MLP(nn.Module):\n",
    "    def __init__(self):\n",
    "        super().__init__()\n",
    "        self.hidden = nn.LazyLinear(256)\n",
    "        self.output = nn.LazyLinear(10)\n",
    "\n",
    "    def forward(self, x):\n",
    "        return self.output(F.relu(self.hidden(x)))\n",
    "\n",
    "net = MLP()\n",
    "X = torch.randn(size=(2, 20))\n",
    "Y = net(X)"
   ]
  },
  {
   "cell_type": "markdown",
   "id": "c5ebc77f",
   "metadata": {
    "slideshow": {
     "slide_type": "slide"
    }
   },
   "source": [
    "Store the parameters of the model as a file"
   ]
  },
  {
   "cell_type": "code",
   "execution_count": 7,
   "id": "c91a46ea",
   "metadata": {
    "execution": {
     "iopub.execute_input": "2023-08-14T16:33:33.018327Z",
     "iopub.status.busy": "2023-08-14T16:33:33.017621Z",
     "iopub.status.idle": "2023-08-14T16:33:33.022251Z",
     "shell.execute_reply": "2023-08-14T16:33:33.021392Z"
    },
    "origin_pos": 33,
    "tab": [
     "pytorch"
    ]
   },
   "outputs": [],
   "source": [
    "torch.save(net.state_dict(), 'mlp.params')"
   ]
  },
  {
   "cell_type": "markdown",
   "id": "e2b7aa99",
   "metadata": {
    "slideshow": {
     "slide_type": "slide"
    }
   },
   "source": [
    "Read the parameters stored in the file directly"
   ]
  },
  {
   "cell_type": "code",
   "execution_count": 8,
   "id": "03f149c7",
   "metadata": {
    "execution": {
     "iopub.execute_input": "2023-08-14T16:33:33.025491Z",
     "iopub.status.busy": "2023-08-14T16:33:33.024984Z",
     "iopub.status.idle": "2023-08-14T16:33:33.032455Z",
     "shell.execute_reply": "2023-08-14T16:33:33.031674Z"
    },
    "origin_pos": 38,
    "tab": [
     "pytorch"
    ]
   },
   "outputs": [
    {
     "data": {
      "text/plain": [
       "MLP(\n",
       "  (hidden): LazyLinear(in_features=0, out_features=256, bias=True)\n",
       "  (output): LazyLinear(in_features=0, out_features=10, bias=True)\n",
       ")"
      ]
     },
     "execution_count": 8,
     "metadata": {},
     "output_type": "execute_result"
    }
   ],
   "source": [
    "clone = MLP()\n",
    "clone.load_state_dict(torch.load('mlp.params'))\n",
    "clone.eval()"
   ]
  },
  {
   "cell_type": "code",
   "execution_count": 9,
   "id": "ecdcfeed",
   "metadata": {
    "execution": {
     "iopub.execute_input": "2023-08-14T16:33:33.035941Z",
     "iopub.status.busy": "2023-08-14T16:33:33.035255Z",
     "iopub.status.idle": "2023-08-14T16:33:33.041145Z",
     "shell.execute_reply": "2023-08-14T16:33:33.040363Z"
    },
    "origin_pos": 42,
    "tab": [
     "pytorch"
    ]
   },
   "outputs": [
    {
     "data": {
      "text/plain": [
       "tensor([[True, True, True, True, True, True, True, True, True, True],\n",
       "        [True, True, True, True, True, True, True, True, True, True]])"
      ]
     },
     "execution_count": 9,
     "metadata": {},
     "output_type": "execute_result"
    }
   ],
   "source": [
    "Y_clone = clone(X)\n",
    "Y_clone == Y"
   ]
  }
 ],
 "metadata": {
  "celltoolbar": "Slideshow",
  "language_info": {
   "name": "python"
  },
  "required_libs": [],
  "rise": {
   "autolaunch": true,
   "enable_chalkboard": true,
   "overlay": "<div class='my-top-right'><img height=80px src='http://d2l.ai/_static/logo-with-text.png'/></div><div class='my-top-left'></div>",
   "scroll": true
  }
 },
 "nbformat": 4,
 "nbformat_minor": 5
}