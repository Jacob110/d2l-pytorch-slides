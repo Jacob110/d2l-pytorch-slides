{
 "cells": [
  {
   "cell_type": "markdown",
   "id": "6a6ce9ed",
   "metadata": {
    "slideshow": {
     "slide_type": "-"
    }
   },
   "source": [
    "# File I/O\n",
    "\n"
   ]
  },
  {
   "cell_type": "code",
   "execution_count": 1,
   "id": "323ee84d",
   "metadata": {
    "execution": {
     "iopub.execute_input": "2023-08-18T07:12:23.459272Z",
     "iopub.status.busy": "2023-08-18T07:12:23.458920Z",
     "iopub.status.idle": "2023-08-18T07:12:25.321538Z",
     "shell.execute_reply": "2023-08-18T07:12:25.320079Z"
    },
    "origin_pos": 3,
    "tab": [
     "pytorch"
    ]
   },
   "outputs": [],
   "source": [
    "import torch\n",
    "from torch import nn\n",
    "from torch.nn import functional as F"
   ]
  },
  {
   "cell_type": "markdown",
   "id": "2e40733c",
   "metadata": {
    "slideshow": {
     "slide_type": "-"
    }
   },
   "source": [
    "Loading and Saving Tensors"
   ]
  },
  {
   "cell_type": "code",
   "execution_count": 3,
   "id": "e662f004",
   "metadata": {
    "execution": {
     "iopub.execute_input": "2023-08-18T07:12:25.353372Z",
     "iopub.status.busy": "2023-08-18T07:12:25.352681Z",
     "iopub.status.idle": "2023-08-18T07:12:25.362736Z",
     "shell.execute_reply": "2023-08-18T07:12:25.361964Z"
    },
    "origin_pos": 13,
    "tab": [
     "pytorch"
    ]
   },
   "outputs": [
    {
     "data": {
      "text/plain": [
       "tensor([0, 1, 2, 3])"
      ]
     },
     "execution_count": 3,
     "metadata": {},
     "output_type": "execute_result"
    }
   ],
   "source": [
    "x = torch.arange(4)\n",
    "torch.save(x, 'x-file')\n",
    "\n",
    "x2 = torch.load('x-file')\n",
    "x2"
   ]
  },
  {
   "cell_type": "markdown",
   "id": "3b6b40dc",
   "metadata": {
    "slideshow": {
     "slide_type": "slide"
    }
   },
   "source": [
    "Store a list of tensors and read them back into memory"
   ]
  },
  {
   "cell_type": "code",
   "execution_count": 4,
   "id": "58a82bbe",
   "metadata": {
    "execution": {
     "iopub.execute_input": "2023-08-18T07:12:25.367007Z",
     "iopub.status.busy": "2023-08-18T07:12:25.366139Z",
     "iopub.status.idle": "2023-08-18T07:12:25.375275Z",
     "shell.execute_reply": "2023-08-18T07:12:25.374030Z"
    },
    "origin_pos": 18,
    "tab": [
     "pytorch"
    ]
   },
   "outputs": [
    {
     "data": {
      "text/plain": [
       "(tensor([0, 1, 2, 3]), tensor([0., 0., 0., 0.]))"
      ]
     },
     "execution_count": 4,
     "metadata": {},
     "output_type": "execute_result"
    }
   ],
   "source": [
    "y = torch.zeros(4)\n",
    "torch.save([x, y],'x-files')\n",
    "x2, y2 = torch.load('x-files')\n",
    "(x2, y2)"
   ]
  },
  {
   "cell_type": "markdown",
   "id": "f8f88b15",
   "metadata": {
    "slideshow": {
     "slide_type": "slide"
    }
   },
   "source": [
    "Write and read a dictionary that maps\n",
    "from strings to tensors"
   ]
  },
  {
   "cell_type": "code",
   "execution_count": 5,
   "id": "d2fb28c3",
   "metadata": {
    "execution": {
     "iopub.execute_input": "2023-08-18T07:12:25.380171Z",
     "iopub.status.busy": "2023-08-18T07:12:25.379530Z",
     "iopub.status.idle": "2023-08-18T07:12:25.387956Z",
     "shell.execute_reply": "2023-08-18T07:12:25.386775Z"
    },
    "origin_pos": 23,
    "tab": [
     "pytorch"
    ]
   },
   "outputs": [
    {
     "data": {
      "text/plain": [
       "{'x': tensor([0, 1, 2, 3]), 'y': tensor([0., 0., 0., 0.])}"
      ]
     },
     "execution_count": 5,
     "metadata": {},
     "output_type": "execute_result"
    }
   ],
   "source": [
    "mydict = {'x': x, 'y': y}\n",
    "torch.save(mydict, 'mydict')\n",
    "mydict2 = torch.load('mydict')\n",
    "mydict2"
   ]
  },
  {
   "cell_type": "markdown",
   "id": "d5249d4c",
   "metadata": {
    "slideshow": {
     "slide_type": "slide"
    }
   },
   "source": [
    "Loading and Saving Model Parameters\n",
    "Let's start with our familiar MLP"
   ]
  },
  {
   "cell_type": "code",
   "execution_count": 6,
   "id": "7c2d26e7",
   "metadata": {
    "execution": {
     "iopub.execute_input": "2023-08-18T07:12:25.392096Z",
     "iopub.status.busy": "2023-08-18T07:12:25.391529Z",
     "iopub.status.idle": "2023-08-18T07:12:25.401762Z",
     "shell.execute_reply": "2023-08-18T07:12:25.400893Z"
    },
    "origin_pos": 28,
    "tab": [
     "pytorch"
    ]
   },
   "outputs": [],
   "source": [
    "class MLP(nn.Module):\n",
    "    def __init__(self):\n",
    "        super().__init__()\n",
    "        self.hidden = nn.LazyLinear(256)\n",
    "        self.output = nn.LazyLinear(10)\n",
    "\n",
    "    def forward(self, x):\n",
    "        return self.output(F.relu(self.hidden(x)))\n",
    "\n",
    "net = MLP()\n",
    "X = torch.randn(size=(2, 20))\n",
    "Y = net(X)"
   ]
  },
  {
   "cell_type": "markdown",
   "id": "936c01e7",
   "metadata": {
    "slideshow": {
     "slide_type": "slide"
    }
   },
   "source": [
    "Store the parameters of the model as a file"
   ]
  },
  {
   "cell_type": "code",
   "execution_count": 7,
   "id": "b593c9a0",
   "metadata": {
    "execution": {
     "iopub.execute_input": "2023-08-18T07:12:25.404883Z",
     "iopub.status.busy": "2023-08-18T07:12:25.404611Z",
     "iopub.status.idle": "2023-08-18T07:12:25.409316Z",
     "shell.execute_reply": "2023-08-18T07:12:25.408490Z"
    },
    "origin_pos": 33,
    "tab": [
     "pytorch"
    ]
   },
   "outputs": [],
   "source": [
    "torch.save(net.state_dict(), 'mlp.params')"
   ]
  },
  {
   "cell_type": "markdown",
   "id": "189204f6",
   "metadata": {
    "slideshow": {
     "slide_type": "slide"
    }
   },
   "source": [
    "Read the parameters stored in the file directly"
   ]
  },
  {
   "cell_type": "code",
   "execution_count": 8,
   "id": "dfd3bae0",
   "metadata": {
    "execution": {
     "iopub.execute_input": "2023-08-18T07:12:25.412751Z",
     "iopub.status.busy": "2023-08-18T07:12:25.412039Z",
     "iopub.status.idle": "2023-08-18T07:12:25.419529Z",
     "shell.execute_reply": "2023-08-18T07:12:25.418772Z"
    },
    "origin_pos": 38,
    "tab": [
     "pytorch"
    ]
   },
   "outputs": [
    {
     "data": {
      "text/plain": [
       "MLP(\n",
       "  (hidden): LazyLinear(in_features=0, out_features=256, bias=True)\n",
       "  (output): LazyLinear(in_features=0, out_features=10, bias=True)\n",
       ")"
      ]
     },
     "execution_count": 8,
     "metadata": {},
     "output_type": "execute_result"
    }
   ],
   "source": [
    "clone = MLP()\n",
    "clone.load_state_dict(torch.load('mlp.params'))\n",
    "clone.eval()"
   ]
  },
  {
   "cell_type": "code",
   "execution_count": 9,
   "id": "81a8d025",
   "metadata": {
    "execution": {
     "iopub.execute_input": "2023-08-18T07:12:25.423034Z",
     "iopub.status.busy": "2023-08-18T07:12:25.422471Z",
     "iopub.status.idle": "2023-08-18T07:12:25.429361Z",
     "shell.execute_reply": "2023-08-18T07:12:25.428225Z"
    },
    "origin_pos": 42,
    "tab": [
     "pytorch"
    ]
   },
   "outputs": [
    {
     "data": {
      "text/plain": [
       "tensor([[True, True, True, True, True, True, True, True, True, True],\n",
       "        [True, True, True, True, True, True, True, True, True, True]])"
      ]
     },
     "execution_count": 9,
     "metadata": {},
     "output_type": "execute_result"
    }
   ],
   "source": [
    "Y_clone = clone(X)\n",
    "Y_clone == Y"
   ]
  }
 ],
 "metadata": {
  "celltoolbar": "Slideshow",
  "language_info": {
   "name": "python"
  },
  "required_libs": [],
  "rise": {
   "autolaunch": true,
   "enable_chalkboard": true,
   "overlay": "<div class='my-top-right'><img height=80px src='http://d2l.ai/_static/logo-with-text.png'/></div><div class='my-top-left'></div>",
   "scroll": true
  }
 },
 "nbformat": 4,
 "nbformat_minor": 5
}