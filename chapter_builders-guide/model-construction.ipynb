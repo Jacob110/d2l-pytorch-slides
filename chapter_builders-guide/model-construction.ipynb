{
 "cells": [
  {
   "cell_type": "markdown",
   "id": "7292c5c2",
   "metadata": {
    "slideshow": {
     "slide_type": "-"
    }
   },
   "source": [
    "# Layers and Modules\n",
    "\n"
   ]
  },
  {
   "cell_type": "code",
   "execution_count": 1,
   "id": "ef2c064e",
   "metadata": {
    "execution": {
     "iopub.execute_input": "2023-08-14T16:30:45.085008Z",
     "iopub.status.busy": "2023-08-14T16:30:45.084462Z",
     "iopub.status.idle": "2023-08-14T16:30:46.824137Z",
     "shell.execute_reply": "2023-08-14T16:30:46.823220Z"
    },
    "origin_pos": 3,
    "tab": [
     "pytorch"
    ]
   },
   "outputs": [],
   "source": [
    "import torch\n",
    "from torch import nn\n",
    "from torch.nn import functional as F"
   ]
  },
  {
   "cell_type": "markdown",
   "id": "728e2794",
   "metadata": {
    "slideshow": {
     "slide_type": "slide"
    }
   },
   "source": [
    "To begin, we revisit the code\n",
    "that we used to implement MLPs"
   ]
  },
  {
   "cell_type": "code",
   "execution_count": 2,
   "id": "d2d7a886",
   "metadata": {
    "execution": {
     "iopub.execute_input": "2023-08-14T16:30:46.829290Z",
     "iopub.status.busy": "2023-08-14T16:30:46.828600Z",
     "iopub.status.idle": "2023-08-14T16:30:46.860625Z",
     "shell.execute_reply": "2023-08-14T16:30:46.859764Z"
    },
    "origin_pos": 8,
    "tab": [
     "pytorch"
    ]
   },
   "outputs": [
    {
     "data": {
      "text/plain": [
       "torch.Size([2, 10])"
      ]
     },
     "execution_count": 2,
     "metadata": {},
     "output_type": "execute_result"
    }
   ],
   "source": [
    "net = nn.Sequential(nn.LazyLinear(256), nn.ReLU(), nn.LazyLinear(10))\n",
    "\n",
    "X = torch.rand(2, 20)\n",
    "net(X).shape"
   ]
  },
  {
   "cell_type": "markdown",
   "id": "c20de588",
   "metadata": {
    "slideshow": {
     "slide_type": "-"
    }
   },
   "source": [
    "`nn.Sequential` defines a special kind of `Module`"
   ]
  },
  {
   "cell_type": "markdown",
   "id": "f4c6a350",
   "metadata": {
    "slideshow": {
     "slide_type": "slide"
    }
   },
   "source": [
    "A Custom Module"
   ]
  },
  {
   "cell_type": "code",
   "execution_count": 3,
   "id": "21fd5dfe",
   "metadata": {
    "execution": {
     "iopub.execute_input": "2023-08-14T16:30:46.866286Z",
     "iopub.status.busy": "2023-08-14T16:30:46.865691Z",
     "iopub.status.idle": "2023-08-14T16:30:46.870700Z",
     "shell.execute_reply": "2023-08-14T16:30:46.869913Z"
    },
    "origin_pos": 16,
    "tab": [
     "pytorch"
    ]
   },
   "outputs": [],
   "source": [
    "class MLP(nn.Module):\n",
    "    def __init__(self):\n",
    "        super().__init__()\n",
    "        self.hidden = nn.LazyLinear(256)\n",
    "        self.out = nn.LazyLinear(10)\n",
    "\n",
    "    def forward(self, X):\n",
    "        return self.out(F.relu(self.hidden(X)))"
   ]
  },
  {
   "cell_type": "markdown",
   "id": "d859f7c3",
   "metadata": {
    "slideshow": {
     "slide_type": "slide"
    }
   },
   "source": [
    "Instantiate the MLP's layers\n",
    "and subsequently invoke these layers"
   ]
  },
  {
   "cell_type": "code",
   "execution_count": 4,
   "id": "bf3f76a2",
   "metadata": {
    "execution": {
     "iopub.execute_input": "2023-08-14T16:30:46.875179Z",
     "iopub.status.busy": "2023-08-14T16:30:46.874627Z",
     "iopub.status.idle": "2023-08-14T16:30:46.881190Z",
     "shell.execute_reply": "2023-08-14T16:30:46.880395Z"
    },
    "origin_pos": 20,
    "tab": [
     "pytorch"
    ]
   },
   "outputs": [
    {
     "data": {
      "text/plain": [
       "torch.Size([2, 10])"
      ]
     },
     "execution_count": 4,
     "metadata": {},
     "output_type": "execute_result"
    }
   ],
   "source": [
    "net = MLP()\n",
    "net(X).shape"
   ]
  },
  {
   "cell_type": "markdown",
   "id": "fe8a4bb8",
   "metadata": {
    "slideshow": {
     "slide_type": "slide"
    }
   },
   "source": [
    "The Sequential Module"
   ]
  },
  {
   "cell_type": "code",
   "execution_count": 6,
   "id": "9f42c5b5",
   "metadata": {
    "execution": {
     "iopub.execute_input": "2023-08-14T16:30:46.894763Z",
     "iopub.status.busy": "2023-08-14T16:30:46.894182Z",
     "iopub.status.idle": "2023-08-14T16:30:46.901168Z",
     "shell.execute_reply": "2023-08-14T16:30:46.900380Z"
    },
    "origin_pos": 31,
    "tab": [
     "pytorch"
    ]
   },
   "outputs": [
    {
     "data": {
      "text/plain": [
       "torch.Size([2, 10])"
      ]
     },
     "execution_count": 6,
     "metadata": {},
     "output_type": "execute_result"
    }
   ],
   "source": [
    "class MySequential(nn.Module):\n",
    "    def __init__(self, *args):\n",
    "        super().__init__()\n",
    "        for idx, module in enumerate(args):\n",
    "            self.add_module(str(idx), module)\n",
    "\n",
    "    def forward(self, X):\n",
    "        for module in self.children():\n",
    "            X = module(X)\n",
    "        return X\n",
    "\n",
    "net = MySequential(nn.LazyLinear(256), nn.ReLU(), nn.LazyLinear(10))\n",
    "net(X).shape"
   ]
  },
  {
   "cell_type": "markdown",
   "id": "7968f358",
   "metadata": {
    "slideshow": {
     "slide_type": "slide"
    }
   },
   "source": [
    "Executing Code in the Forward Propagation Method"
   ]
  },
  {
   "cell_type": "code",
   "execution_count": 8,
   "id": "0d5a2748",
   "metadata": {
    "execution": {
     "iopub.execute_input": "2023-08-14T16:30:46.915018Z",
     "iopub.status.busy": "2023-08-14T16:30:46.914731Z",
     "iopub.status.idle": "2023-08-14T16:30:46.922329Z",
     "shell.execute_reply": "2023-08-14T16:30:46.921536Z"
    },
    "origin_pos": 40,
    "tab": [
     "pytorch"
    ]
   },
   "outputs": [
    {
     "data": {
      "text/plain": [
       "tensor(-0.2638, grad_fn=<SumBackward0>)"
      ]
     },
     "execution_count": 8,
     "metadata": {},
     "output_type": "execute_result"
    }
   ],
   "source": [
    "class FixedHiddenMLP(nn.Module):\n",
    "    def __init__(self):\n",
    "        super().__init__()\n",
    "        self.rand_weight = torch.rand((20, 20))\n",
    "        self.linear = nn.LazyLinear(20)\n",
    "\n",
    "    def forward(self, X):\n",
    "        X = self.linear(X)\n",
    "        X = F.relu(X @ self.rand_weight + 1)\n",
    "        X = self.linear(X)\n",
    "        while X.abs().sum() > 1:\n",
    "            X /= 2\n",
    "        return X.sum()\n",
    "\n",
    "net = FixedHiddenMLP()\n",
    "net(X)"
   ]
  },
  {
   "cell_type": "markdown",
   "id": "ecca8164",
   "metadata": {
    "slideshow": {
     "slide_type": "slide"
    }
   },
   "source": [
    "Mix and match various\n",
    "ways of assembling modules together"
   ]
  },
  {
   "cell_type": "code",
   "execution_count": 9,
   "id": "b3ba9768",
   "metadata": {
    "execution": {
     "iopub.execute_input": "2023-08-14T16:30:46.926899Z",
     "iopub.status.busy": "2023-08-14T16:30:46.926343Z",
     "iopub.status.idle": "2023-08-14T16:30:46.937519Z",
     "shell.execute_reply": "2023-08-14T16:30:46.936657Z"
    },
    "origin_pos": 44,
    "tab": [
     "pytorch"
    ]
   },
   "outputs": [
    {
     "data": {
      "text/plain": [
       "tensor(-0.1517, grad_fn=<SumBackward0>)"
      ]
     },
     "execution_count": 9,
     "metadata": {},
     "output_type": "execute_result"
    }
   ],
   "source": [
    "class NestMLP(nn.Module):\n",
    "    def __init__(self):\n",
    "        super().__init__()\n",
    "        self.net = nn.Sequential(nn.LazyLinear(64), nn.ReLU(),\n",
    "                                 nn.LazyLinear(32), nn.ReLU())\n",
    "        self.linear = nn.LazyLinear(16)\n",
    "\n",
    "    def forward(self, X):\n",
    "        return self.linear(self.net(X))\n",
    "\n",
    "chimera = nn.Sequential(NestMLP(), nn.LazyLinear(20), FixedHiddenMLP())\n",
    "chimera(X)"
   ]
  }
 ],
 "metadata": {
  "celltoolbar": "Slideshow",
  "language_info": {
   "name": "python"
  },
  "required_libs": [],
  "rise": {
   "autolaunch": true,
   "enable_chalkboard": true,
   "overlay": "<div class='my-top-right'><img height=80px src='http://d2l.ai/_static/logo-with-text.png'/></div><div class='my-top-left'></div>",
   "scroll": true
  }
 },
 "nbformat": 4,
 "nbformat_minor": 5
}