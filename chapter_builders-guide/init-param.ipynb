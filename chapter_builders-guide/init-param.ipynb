{
 "cells": [
  {
   "cell_type": "markdown",
   "id": "e00551b3",
   "metadata": {
    "slideshow": {
     "slide_type": "-"
    }
   },
   "source": [
    "# Parameter Initialization\n",
    "\n"
   ]
  },
  {
   "cell_type": "code",
   "execution_count": 2,
   "id": "0b1df029",
   "metadata": {
    "execution": {
     "iopub.execute_input": "2023-08-14T16:30:37.583227Z",
     "iopub.status.busy": "2023-08-14T16:30:37.582419Z",
     "iopub.status.idle": "2023-08-14T16:30:37.615938Z",
     "shell.execute_reply": "2023-08-14T16:30:37.615102Z"
    },
    "origin_pos": 11,
    "tab": [
     "pytorch"
    ]
   },
   "outputs": [
    {
     "data": {
      "text/plain": [
       "torch.Size([2, 1])"
      ]
     },
     "execution_count": 2,
     "metadata": {},
     "output_type": "execute_result"
    }
   ],
   "source": [
    "import torch\n",
    "from torch import nn\n",
    "\n",
    "net = nn.Sequential(nn.LazyLinear(8), nn.ReLU(), nn.LazyLinear(1))\n",
    "X = torch.rand(size=(2, 4))\n",
    "net(X).shape"
   ]
  },
  {
   "cell_type": "markdown",
   "id": "48820119",
   "metadata": {
    "slideshow": {
     "slide_type": "slide"
    }
   },
   "source": [
    "Built-in Initialization"
   ]
  },
  {
   "cell_type": "code",
   "execution_count": 3,
   "id": "5384d539",
   "metadata": {
    "execution": {
     "iopub.execute_input": "2023-08-14T16:30:37.619368Z",
     "iopub.status.busy": "2023-08-14T16:30:37.618828Z",
     "iopub.status.idle": "2023-08-14T16:30:37.627138Z",
     "shell.execute_reply": "2023-08-14T16:30:37.626330Z"
    },
    "origin_pos": 16,
    "tab": [
     "pytorch"
    ]
   },
   "outputs": [
    {
     "data": {
      "text/plain": [
       "(tensor([-0.0009,  0.0117,  0.0128, -0.0063]), tensor(0.))"
      ]
     },
     "execution_count": 3,
     "metadata": {},
     "output_type": "execute_result"
    }
   ],
   "source": [
    "def init_normal(module):\n",
    "    if type(module) == nn.Linear:\n",
    "        nn.init.normal_(module.weight, mean=0, std=0.01)\n",
    "        nn.init.zeros_(module.bias)\n",
    "\n",
    "net.apply(init_normal)\n",
    "net[0].weight.data[0], net[0].bias.data[0]"
   ]
  },
  {
   "cell_type": "code",
   "execution_count": 4,
   "id": "03ea871b",
   "metadata": {
    "execution": {
     "iopub.execute_input": "2023-08-14T16:30:37.630544Z",
     "iopub.status.busy": "2023-08-14T16:30:37.630019Z",
     "iopub.status.idle": "2023-08-14T16:30:37.637218Z",
     "shell.execute_reply": "2023-08-14T16:30:37.636358Z"
    },
    "origin_pos": 21,
    "tab": [
     "pytorch"
    ]
   },
   "outputs": [
    {
     "data": {
      "text/plain": [
       "(tensor([1., 1., 1., 1.]), tensor(0.))"
      ]
     },
     "execution_count": 4,
     "metadata": {},
     "output_type": "execute_result"
    }
   ],
   "source": [
    "def init_constant(module):\n",
    "    if type(module) == nn.Linear:\n",
    "        nn.init.constant_(module.weight, 1)\n",
    "        nn.init.zeros_(module.bias)\n",
    "\n",
    "net.apply(init_constant)\n",
    "net[0].weight.data[0], net[0].bias.data[0]"
   ]
  },
  {
   "cell_type": "markdown",
   "id": "6b8dd148",
   "metadata": {
    "slideshow": {
     "slide_type": "slide"
    }
   },
   "source": [
    "We can also apply different initializers for certain blocks"
   ]
  },
  {
   "cell_type": "code",
   "execution_count": 5,
   "id": "a337d2af",
   "metadata": {
    "execution": {
     "iopub.execute_input": "2023-08-14T16:30:37.640652Z",
     "iopub.status.busy": "2023-08-14T16:30:37.640123Z",
     "iopub.status.idle": "2023-08-14T16:30:37.647342Z",
     "shell.execute_reply": "2023-08-14T16:30:37.646479Z"
    },
    "origin_pos": 26,
    "tab": [
     "pytorch"
    ]
   },
   "outputs": [
    {
     "name": "stdout",
     "output_type": "stream",
     "text": [
      "tensor([-0.1772,  0.3763, -0.2045, -0.4718])\n",
      "tensor([[42., 42., 42., 42., 42., 42., 42., 42.]])\n"
     ]
    }
   ],
   "source": [
    "def init_xavier(module):\n",
    "    if type(module) == nn.Linear:\n",
    "        nn.init.xavier_uniform_(module.weight)\n",
    "\n",
    "def init_42(module):\n",
    "    if type(module) == nn.Linear:\n",
    "        nn.init.constant_(module.weight, 42)\n",
    "\n",
    "net[0].apply(init_xavier)\n",
    "net[2].apply(init_42)\n",
    "print(net[0].weight.data[0])\n",
    "print(net[2].weight.data)"
   ]
  },
  {
   "cell_type": "markdown",
   "id": "009eb2bc",
   "metadata": {
    "slideshow": {
     "slide_type": "slide"
    }
   },
   "source": [
    "Custom Initialization"
   ]
  },
  {
   "cell_type": "code",
   "execution_count": 6,
   "id": "b1bb3dc9",
   "metadata": {
    "execution": {
     "iopub.execute_input": "2023-08-14T16:30:37.650507Z",
     "iopub.status.busy": "2023-08-14T16:30:37.650234Z",
     "iopub.status.idle": "2023-08-14T16:30:37.658971Z",
     "shell.execute_reply": "2023-08-14T16:30:37.658137Z"
    },
    "origin_pos": 35,
    "tab": [
     "pytorch"
    ]
   },
   "outputs": [
    {
     "name": "stdout",
     "output_type": "stream",
     "text": [
      "Init weight torch.Size([8, 4])\n",
      "Init weight torch.Size([1, 8])\n"
     ]
    },
    {
     "data": {
      "text/plain": [
       "tensor([[-5.7965,  0.0000,  0.0000,  7.4710],\n",
       "        [ 8.6491, -8.7056, -5.9450,  9.1539]], grad_fn=<SliceBackward0>)"
      ]
     },
     "execution_count": 6,
     "metadata": {},
     "output_type": "execute_result"
    }
   ],
   "source": [
    "def my_init(module):\n",
    "    if type(module) == nn.Linear:\n",
    "        print(\"Init\", *[(name, param.shape)\n",
    "                        for name, param in module.named_parameters()][0])\n",
    "        nn.init.uniform_(module.weight, -10, 10)\n",
    "        module.weight.data *= module.weight.data.abs() >= 5\n",
    "\n",
    "net.apply(my_init)\n",
    "net[0].weight[:2]"
   ]
  },
  {
   "cell_type": "code",
   "execution_count": 7,
   "id": "15274d78",
   "metadata": {
    "execution": {
     "iopub.execute_input": "2023-08-14T16:30:37.662046Z",
     "iopub.status.busy": "2023-08-14T16:30:37.661774Z",
     "iopub.status.idle": "2023-08-14T16:30:37.668374Z",
     "shell.execute_reply": "2023-08-14T16:30:37.667571Z"
    },
    "origin_pos": 41,
    "tab": [
     "pytorch"
    ]
   },
   "outputs": [
    {
     "data": {
      "text/plain": [
       "tensor([42.0000,  1.0000,  1.0000,  8.4710])"
      ]
     },
     "execution_count": 7,
     "metadata": {},
     "output_type": "execute_result"
    }
   ],
   "source": [
    "net[0].weight.data[:] += 1\n",
    "net[0].weight.data[0, 0] = 42\n",
    "net[0].weight.data[0]"
   ]
  }
 ],
 "metadata": {
  "celltoolbar": "Slideshow",
  "language_info": {
   "name": "python"
  },
  "required_libs": [],
  "rise": {
   "autolaunch": true,
   "enable_chalkboard": true,
   "overlay": "<div class='my-top-right'><img height=80px src='http://d2l.ai/_static/logo-with-text.png'/></div><div class='my-top-left'></div>",
   "scroll": true
  }
 },
 "nbformat": 4,
 "nbformat_minor": 5
}