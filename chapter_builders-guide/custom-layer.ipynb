{
 "cells": [
  {
   "cell_type": "markdown",
   "id": "5f50f80b",
   "metadata": {
    "slideshow": {
     "slide_type": "-"
    }
   },
   "source": [
    "# Custom Layers\n",
    "\n"
   ]
  },
  {
   "cell_type": "code",
   "execution_count": 1,
   "id": "4700686a",
   "metadata": {
    "execution": {
     "iopub.execute_input": "2023-08-14T16:32:29.231598Z",
     "iopub.status.busy": "2023-08-14T16:32:29.231175Z",
     "iopub.status.idle": "2023-08-14T16:32:32.393864Z",
     "shell.execute_reply": "2023-08-14T16:32:32.392888Z"
    },
    "origin_pos": 3,
    "tab": [
     "pytorch"
    ]
   },
   "outputs": [],
   "source": [
    "import torch\n",
    "from torch import nn\n",
    "from torch.nn import functional as F\n",
    "from d2l import torch as d2l"
   ]
  },
  {
   "cell_type": "markdown",
   "id": "a204f3b5",
   "metadata": {
    "slideshow": {
     "slide_type": "-"
    }
   },
   "source": [
    "Layers without Parameters"
   ]
  },
  {
   "cell_type": "code",
   "execution_count": 3,
   "id": "00ab40f3",
   "metadata": {
    "execution": {
     "iopub.execute_input": "2023-08-14T16:32:32.406289Z",
     "iopub.status.busy": "2023-08-14T16:32:32.405410Z",
     "iopub.status.idle": "2023-08-14T16:32:32.431946Z",
     "shell.execute_reply": "2023-08-14T16:32:32.431032Z"
    },
    "origin_pos": 12,
    "tab": [
     "pytorch"
    ]
   },
   "outputs": [
    {
     "data": {
      "text/plain": [
       "tensor([-2., -1.,  0.,  1.,  2.])"
      ]
     },
     "execution_count": 3,
     "metadata": {},
     "output_type": "execute_result"
    }
   ],
   "source": [
    "class CenteredLayer(nn.Module):\n",
    "    def __init__(self):\n",
    "        super().__init__()\n",
    "\n",
    "    def forward(self, X):\n",
    "        return X - X.mean()\n",
    "\n",
    "layer = CenteredLayer()\n",
    "layer(torch.tensor([1.0, 2, 3, 4, 5]))"
   ]
  },
  {
   "cell_type": "markdown",
   "id": "c1b6bd5b",
   "metadata": {
    "slideshow": {
     "slide_type": "slide"
    }
   },
   "source": [
    "Incorporate our layer as a component\n",
    "in constructing more complex models"
   ]
  },
  {
   "cell_type": "code",
   "execution_count": 5,
   "id": "226a80ed",
   "metadata": {
    "execution": {
     "iopub.execute_input": "2023-08-14T16:32:32.443888Z",
     "iopub.status.busy": "2023-08-14T16:32:32.443366Z",
     "iopub.status.idle": "2023-08-14T16:32:32.454477Z",
     "shell.execute_reply": "2023-08-14T16:32:32.453662Z"
    },
    "origin_pos": 20,
    "tab": [
     "pytorch"
    ]
   },
   "outputs": [
    {
     "data": {
      "text/plain": [
       "tensor(-3.7253e-09, grad_fn=<MeanBackward0>)"
      ]
     },
     "execution_count": 5,
     "metadata": {},
     "output_type": "execute_result"
    }
   ],
   "source": [
    "net = nn.Sequential(nn.LazyLinear(128), CenteredLayer())\n",
    "\n",
    "Y = net(torch.rand(4, 8))\n",
    "Y.mean()"
   ]
  },
  {
   "cell_type": "markdown",
   "id": "a4601ba7",
   "metadata": {
    "slideshow": {
     "slide_type": "slide"
    }
   },
   "source": [
    "Layers with Parameters"
   ]
  },
  {
   "cell_type": "code",
   "execution_count": 7,
   "id": "f855fde8",
   "metadata": {
    "execution": {
     "iopub.execute_input": "2023-08-14T16:32:32.467466Z",
     "iopub.status.busy": "2023-08-14T16:32:32.466439Z",
     "iopub.status.idle": "2023-08-14T16:32:32.475269Z",
     "shell.execute_reply": "2023-08-14T16:32:32.474180Z"
    },
    "origin_pos": 31,
    "tab": [
     "pytorch"
    ]
   },
   "outputs": [
    {
     "data": {
      "text/plain": [
       "Parameter containing:\n",
       "tensor([[-0.0508, -0.3592,  0.0689],\n",
       "        [-0.6911,  0.9781,  0.7885],\n",
       "        [ 0.3686, -0.6090,  0.7788],\n",
       "        [ 0.2550,  0.1543, -0.7385],\n",
       "        [ 0.7041, -0.5031,  0.6874]], requires_grad=True)"
      ]
     },
     "execution_count": 7,
     "metadata": {},
     "output_type": "execute_result"
    }
   ],
   "source": [
    "class MyLinear(nn.Module):\n",
    "    def __init__(self, in_units, units):\n",
    "        super().__init__()\n",
    "        self.weight = nn.Parameter(torch.randn(in_units, units))\n",
    "        self.bias = nn.Parameter(torch.randn(units,))\n",
    "\n",
    "    def forward(self, X):\n",
    "        linear = torch.matmul(X, self.weight.data) + self.bias.data\n",
    "        return F.relu(linear)\n",
    "\n",
    "linear = MyLinear(5, 3)\n",
    "linear.weight"
   ]
  },
  {
   "cell_type": "markdown",
   "id": "e7aba62b",
   "metadata": {
    "slideshow": {
     "slide_type": "slide"
    }
   },
   "source": [
    "Directly carry out forward propagation calculations using custom layers"
   ]
  },
  {
   "cell_type": "code",
   "execution_count": 8,
   "id": "5b21cfbf",
   "metadata": {
    "execution": {
     "iopub.execute_input": "2023-08-14T16:32:32.478965Z",
     "iopub.status.busy": "2023-08-14T16:32:32.478221Z",
     "iopub.status.idle": "2023-08-14T16:32:32.487014Z",
     "shell.execute_reply": "2023-08-14T16:32:32.485757Z"
    },
    "origin_pos": 36,
    "tab": [
     "pytorch"
    ]
   },
   "outputs": [
    {
     "data": {
      "text/plain": [
       "tensor([[0.1612, 0.0000, 1.7147],\n",
       "        [0.7104, 0.0000, 1.7341]])"
      ]
     },
     "execution_count": 8,
     "metadata": {},
     "output_type": "execute_result"
    }
   ],
   "source": [
    "linear(torch.rand(2, 5))"
   ]
  },
  {
   "cell_type": "markdown",
   "id": "222ee83a",
   "metadata": {
    "slideshow": {
     "slide_type": "-"
    }
   },
   "source": [
    "Construct models using custom layers"
   ]
  },
  {
   "cell_type": "code",
   "execution_count": 9,
   "id": "2ec92489",
   "metadata": {
    "execution": {
     "iopub.execute_input": "2023-08-14T16:32:32.490450Z",
     "iopub.status.busy": "2023-08-14T16:32:32.490004Z",
     "iopub.status.idle": "2023-08-14T16:32:32.497737Z",
     "shell.execute_reply": "2023-08-14T16:32:32.496628Z"
    },
    "origin_pos": 41,
    "tab": [
     "pytorch"
    ]
   },
   "outputs": [
    {
     "data": {
      "text/plain": [
       "tensor([[0.],\n",
       "        [0.]])"
      ]
     },
     "execution_count": 9,
     "metadata": {},
     "output_type": "execute_result"
    }
   ],
   "source": [
    "net = nn.Sequential(MyLinear(64, 8), MyLinear(8, 1))\n",
    "net(torch.rand(2, 64))"
   ]
  }
 ],
 "metadata": {
  "celltoolbar": "Slideshow",
  "language_info": {
   "name": "python"
  },
  "required_libs": [],
  "rise": {
   "autolaunch": true,
   "enable_chalkboard": true,
   "overlay": "<div class='my-top-right'><img height=80px src='http://d2l.ai/_static/logo-with-text.png'/></div><div class='my-top-left'></div>",
   "scroll": true
  }
 },
 "nbformat": 4,
 "nbformat_minor": 5
}