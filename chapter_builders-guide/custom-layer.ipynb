{
 "cells": [
  {
   "cell_type": "markdown",
   "id": "96ed888e",
   "metadata": {
    "slideshow": {
     "slide_type": "-"
    }
   },
   "source": [
    "# Custom Layers\n",
    "\n"
   ]
  },
  {
   "cell_type": "code",
   "execution_count": 1,
   "id": "9fe58dd1",
   "metadata": {
    "execution": {
     "iopub.execute_input": "2023-08-18T07:08:01.509651Z",
     "iopub.status.busy": "2023-08-18T07:08:01.509057Z",
     "iopub.status.idle": "2023-08-18T07:08:04.377633Z",
     "shell.execute_reply": "2023-08-18T07:08:04.376649Z"
    },
    "origin_pos": 3,
    "tab": [
     "pytorch"
    ]
   },
   "outputs": [],
   "source": [
    "import torch\n",
    "from torch import nn\n",
    "from torch.nn import functional as F\n",
    "from d2l import torch as d2l"
   ]
  },
  {
   "cell_type": "markdown",
   "id": "bb0254cd",
   "metadata": {
    "slideshow": {
     "slide_type": "-"
    }
   },
   "source": [
    "Layers without Parameters"
   ]
  },
  {
   "cell_type": "code",
   "execution_count": 3,
   "id": "6b1de0e6",
   "metadata": {
    "execution": {
     "iopub.execute_input": "2023-08-18T07:08:04.389305Z",
     "iopub.status.busy": "2023-08-18T07:08:04.388618Z",
     "iopub.status.idle": "2023-08-18T07:08:04.415777Z",
     "shell.execute_reply": "2023-08-18T07:08:04.414999Z"
    },
    "origin_pos": 12,
    "tab": [
     "pytorch"
    ]
   },
   "outputs": [
    {
     "data": {
      "text/plain": [
       "tensor([-2., -1.,  0.,  1.,  2.])"
      ]
     },
     "execution_count": 3,
     "metadata": {},
     "output_type": "execute_result"
    }
   ],
   "source": [
    "class CenteredLayer(nn.Module):\n",
    "    def __init__(self):\n",
    "        super().__init__()\n",
    "\n",
    "    def forward(self, X):\n",
    "        return X - X.mean()\n",
    "\n",
    "layer = CenteredLayer()\n",
    "layer(torch.tensor([1.0, 2, 3, 4, 5]))"
   ]
  },
  {
   "cell_type": "markdown",
   "id": "05da33fc",
   "metadata": {
    "slideshow": {
     "slide_type": "slide"
    }
   },
   "source": [
    "Incorporate our layer as a component\n",
    "in constructing more complex models"
   ]
  },
  {
   "cell_type": "code",
   "execution_count": 5,
   "id": "ed37bf7a",
   "metadata": {
    "execution": {
     "iopub.execute_input": "2023-08-18T07:08:04.426435Z",
     "iopub.status.busy": "2023-08-18T07:08:04.425877Z",
     "iopub.status.idle": "2023-08-18T07:08:04.435077Z",
     "shell.execute_reply": "2023-08-18T07:08:04.434263Z"
    },
    "origin_pos": 20,
    "tab": [
     "pytorch"
    ]
   },
   "outputs": [
    {
     "data": {
      "text/plain": [
       "tensor(-8.3819e-09, grad_fn=<MeanBackward0>)"
      ]
     },
     "execution_count": 5,
     "metadata": {},
     "output_type": "execute_result"
    }
   ],
   "source": [
    "net = nn.Sequential(nn.LazyLinear(128), CenteredLayer())\n",
    "\n",
    "Y = net(torch.rand(4, 8))\n",
    "Y.mean()"
   ]
  },
  {
   "cell_type": "markdown",
   "id": "2230c0ae",
   "metadata": {
    "slideshow": {
     "slide_type": "slide"
    }
   },
   "source": [
    "Layers with Parameters"
   ]
  },
  {
   "cell_type": "code",
   "execution_count": 7,
   "id": "583b57bb",
   "metadata": {
    "execution": {
     "iopub.execute_input": "2023-08-18T07:08:04.446339Z",
     "iopub.status.busy": "2023-08-18T07:08:04.445672Z",
     "iopub.status.idle": "2023-08-18T07:08:04.451742Z",
     "shell.execute_reply": "2023-08-18T07:08:04.450954Z"
    },
    "origin_pos": 31,
    "tab": [
     "pytorch"
    ]
   },
   "outputs": [
    {
     "data": {
      "text/plain": [
       "Parameter containing:\n",
       "tensor([[-0.5519, -0.3220,  1.2418],\n",
       "        [ 0.3559,  2.2357, -0.5870],\n",
       "        [ 1.1292, -0.0048, -0.7610],\n",
       "        [-1.5225, -0.2633,  0.1360],\n",
       "        [-1.8041, -0.6308, -0.0188]], requires_grad=True)"
      ]
     },
     "execution_count": 7,
     "metadata": {},
     "output_type": "execute_result"
    }
   ],
   "source": [
    "class MyLinear(nn.Module):\n",
    "    def __init__(self, in_units, units):\n",
    "        super().__init__()\n",
    "        self.weight = nn.Parameter(torch.randn(in_units, units))\n",
    "        self.bias = nn.Parameter(torch.randn(units,))\n",
    "\n",
    "    def forward(self, X):\n",
    "        linear = torch.matmul(X, self.weight.data) + self.bias.data\n",
    "        return F.relu(linear)\n",
    "\n",
    "linear = MyLinear(5, 3)\n",
    "linear.weight"
   ]
  },
  {
   "cell_type": "markdown",
   "id": "a0b7b7eb",
   "metadata": {
    "slideshow": {
     "slide_type": "slide"
    }
   },
   "source": [
    "Directly carry out forward propagation calculations using custom layers"
   ]
  },
  {
   "cell_type": "code",
   "execution_count": 8,
   "id": "809379ae",
   "metadata": {
    "execution": {
     "iopub.execute_input": "2023-08-18T07:08:04.455153Z",
     "iopub.status.busy": "2023-08-18T07:08:04.454506Z",
     "iopub.status.idle": "2023-08-18T07:08:04.460481Z",
     "shell.execute_reply": "2023-08-18T07:08:04.459703Z"
    },
    "origin_pos": 36,
    "tab": [
     "pytorch"
    ]
   },
   "outputs": [
    {
     "data": {
      "text/plain": [
       "tensor([[0.0000, 0.0000, 0.0000],\n",
       "        [0.0000, 0.0000, 0.1040]])"
      ]
     },
     "execution_count": 8,
     "metadata": {},
     "output_type": "execute_result"
    }
   ],
   "source": [
    "linear(torch.rand(2, 5))"
   ]
  },
  {
   "cell_type": "markdown",
   "id": "90831588",
   "metadata": {
    "slideshow": {
     "slide_type": "-"
    }
   },
   "source": [
    "Construct models using custom layers"
   ]
  },
  {
   "cell_type": "code",
   "execution_count": 9,
   "id": "3e6a244a",
   "metadata": {
    "execution": {
     "iopub.execute_input": "2023-08-18T07:08:04.463848Z",
     "iopub.status.busy": "2023-08-18T07:08:04.463293Z",
     "iopub.status.idle": "2023-08-18T07:08:04.469711Z",
     "shell.execute_reply": "2023-08-18T07:08:04.468891Z"
    },
    "origin_pos": 41,
    "tab": [
     "pytorch"
    ]
   },
   "outputs": [
    {
     "data": {
      "text/plain": [
       "tensor([[0.],\n",
       "        [0.]])"
      ]
     },
     "execution_count": 9,
     "metadata": {},
     "output_type": "execute_result"
    }
   ],
   "source": [
    "net = nn.Sequential(MyLinear(64, 8), MyLinear(8, 1))\n",
    "net(torch.rand(2, 64))"
   ]
  }
 ],
 "metadata": {
  "celltoolbar": "Slideshow",
  "language_info": {
   "name": "python"
  },
  "required_libs": [],
  "rise": {
   "autolaunch": true,
   "enable_chalkboard": true,
   "overlay": "<div class='my-top-right'><img height=80px src='http://d2l.ai/_static/logo-with-text.png'/></div><div class='my-top-left'></div>",
   "scroll": true
  }
 },
 "nbformat": 4,
 "nbformat_minor": 5
}