{
 "cells": [
  {
   "cell_type": "markdown",
   "id": "f293bb95",
   "metadata": {
    "slideshow": {
     "slide_type": "-"
    }
   },
   "source": [
    "# GPUs\n",
    "\n",
    "View the graphics card information"
   ]
  },
  {
   "cell_type": "code",
   "execution_count": 1,
   "id": "dd3d92c3",
   "metadata": {
    "execution": {
     "iopub.execute_input": "2023-08-18T07:01:21.912873Z",
     "iopub.status.busy": "2023-08-18T07:01:21.912240Z",
     "iopub.status.idle": "2023-08-18T07:01:27.738997Z",
     "shell.execute_reply": "2023-08-18T07:01:27.737886Z"
    },
    "origin_pos": 6,
    "tab": [
     "pytorch"
    ]
   },
   "outputs": [],
   "source": [
    "import torch\n",
    "from torch import nn\n",
    "from d2l import torch as d2l"
   ]
  },
  {
   "cell_type": "markdown",
   "id": "c2a894ac",
   "metadata": {
    "slideshow": {
     "slide_type": "slide"
    }
   },
   "source": [
    "Computing Devices"
   ]
  },
  {
   "cell_type": "code",
   "execution_count": 2,
   "id": "9de8d99c",
   "metadata": {
    "execution": {
     "iopub.execute_input": "2023-08-18T07:01:27.743398Z",
     "iopub.status.busy": "2023-08-18T07:01:27.742576Z",
     "iopub.status.idle": "2023-08-18T07:01:27.751657Z",
     "shell.execute_reply": "2023-08-18T07:01:27.750616Z"
    },
    "origin_pos": 12,
    "tab": [
     "pytorch"
    ]
   },
   "outputs": [
    {
     "data": {
      "text/plain": [
       "(device(type='cpu'),\n",
       " device(type='cuda', index=0),\n",
       " device(type='cuda', index=1))"
      ]
     },
     "execution_count": 2,
     "metadata": {},
     "output_type": "execute_result"
    }
   ],
   "source": [
    "def cpu():  \n",
    "    \"\"\"Get the CPU device.\"\"\"\n",
    "    return torch.device('cpu')\n",
    "\n",
    "def gpu(i=0):  \n",
    "    \"\"\"Get a GPU device.\"\"\"\n",
    "    return torch.device(f'cuda:{i}')\n",
    "\n",
    "cpu(), gpu(), gpu(1)"
   ]
  },
  {
   "cell_type": "markdown",
   "id": "be494558",
   "metadata": {
    "slideshow": {
     "slide_type": "-"
    }
   },
   "source": [
    "Query the number of available GPUs"
   ]
  },
  {
   "cell_type": "code",
   "execution_count": 3,
   "id": "923fb15b",
   "metadata": {
    "execution": {
     "iopub.execute_input": "2023-08-18T07:01:27.755240Z",
     "iopub.status.busy": "2023-08-18T07:01:27.754513Z",
     "iopub.status.idle": "2023-08-18T07:01:27.760824Z",
     "shell.execute_reply": "2023-08-18T07:01:27.759825Z"
    },
    "origin_pos": 15,
    "tab": [
     "pytorch"
    ]
   },
   "outputs": [
    {
     "data": {
      "text/plain": [
       "2"
      ]
     },
     "execution_count": 3,
     "metadata": {},
     "output_type": "execute_result"
    }
   ],
   "source": [
    "def num_gpus():  \n",
    "    \"\"\"Get the number of available GPUs.\"\"\"\n",
    "    return torch.cuda.device_count()\n",
    "\n",
    "num_gpus()"
   ]
  },
  {
   "cell_type": "markdown",
   "id": "888d1725",
   "metadata": {
    "slideshow": {
     "slide_type": "slide"
    }
   },
   "source": [
    "Define two convenient functions that allow us\n",
    "to run code even if the requested GPUs do not exist"
   ]
  },
  {
   "cell_type": "code",
   "execution_count": 4,
   "id": "d138000e",
   "metadata": {
    "execution": {
     "iopub.execute_input": "2023-08-18T07:01:27.764193Z",
     "iopub.status.busy": "2023-08-18T07:01:27.763708Z",
     "iopub.status.idle": "2023-08-18T07:01:27.771068Z",
     "shell.execute_reply": "2023-08-18T07:01:27.770062Z"
    },
    "origin_pos": 18,
    "tab": [
     "pytorch"
    ]
   },
   "outputs": [
    {
     "data": {
      "text/plain": [
       "(device(type='cuda', index=0),\n",
       " device(type='cpu'),\n",
       " [device(type='cuda', index=0), device(type='cuda', index=1)])"
      ]
     },
     "execution_count": 4,
     "metadata": {},
     "output_type": "execute_result"
    }
   ],
   "source": [
    "def try_gpu(i=0):  \n",
    "    \"\"\"Return gpu(i) if exists, otherwise return cpu().\"\"\"\n",
    "    if num_gpus() >= i + 1:\n",
    "        return gpu(i)\n",
    "    return cpu()\n",
    "\n",
    "def try_all_gpus():  \n",
    "    \"\"\"Return all available GPUs, or [cpu(),] if no GPU exists.\"\"\"\n",
    "    return [gpu(i) for i in range(num_gpus())]\n",
    "\n",
    "try_gpu(), try_gpu(10), try_all_gpus()"
   ]
  },
  {
   "cell_type": "markdown",
   "id": "4a97e87a",
   "metadata": {
    "slideshow": {
     "slide_type": "slide"
    }
   },
   "source": [
    "Query the device where the tensor is located"
   ]
  },
  {
   "cell_type": "code",
   "execution_count": 5,
   "id": "53d9c114",
   "metadata": {
    "execution": {
     "iopub.execute_input": "2023-08-18T07:01:27.774348Z",
     "iopub.status.busy": "2023-08-18T07:01:27.773794Z",
     "iopub.status.idle": "2023-08-18T07:01:27.780034Z",
     "shell.execute_reply": "2023-08-18T07:01:27.779070Z"
    },
    "origin_pos": 24,
    "tab": [
     "pytorch"
    ]
   },
   "outputs": [
    {
     "data": {
      "text/plain": [
       "device(type='cpu')"
      ]
     },
     "execution_count": 5,
     "metadata": {},
     "output_type": "execute_result"
    }
   ],
   "source": [
    "x = torch.tensor([1, 2, 3])\n",
    "x.device"
   ]
  },
  {
   "cell_type": "markdown",
   "id": "60811c1a",
   "metadata": {
    "slideshow": {
     "slide_type": "slide"
    }
   },
   "source": [
    "Store a tensor on the GPU"
   ]
  },
  {
   "cell_type": "code",
   "execution_count": 6,
   "id": "8980261c",
   "metadata": {
    "execution": {
     "iopub.execute_input": "2023-08-18T07:01:27.783515Z",
     "iopub.status.busy": "2023-08-18T07:01:27.782717Z",
     "iopub.status.idle": "2023-08-18T07:01:28.118221Z",
     "shell.execute_reply": "2023-08-18T07:01:28.117365Z"
    },
    "origin_pos": 29,
    "tab": [
     "pytorch"
    ]
   },
   "outputs": [
    {
     "data": {
      "text/plain": [
       "tensor([[1., 1., 1.],\n",
       "        [1., 1., 1.]], device='cuda:0')"
      ]
     },
     "execution_count": 6,
     "metadata": {},
     "output_type": "execute_result"
    }
   ],
   "source": [
    "X = torch.ones(2, 3, device=try_gpu())\n",
    "X"
   ]
  },
  {
   "cell_type": "markdown",
   "id": "2c95adde",
   "metadata": {
    "slideshow": {
     "slide_type": "-"
    }
   },
   "source": [
    "Create a random tensor, `Y`, on the second GPU"
   ]
  },
  {
   "cell_type": "code",
   "execution_count": 7,
   "id": "7962ce19",
   "metadata": {
    "execution": {
     "iopub.execute_input": "2023-08-18T07:01:28.121845Z",
     "iopub.status.busy": "2023-08-18T07:01:28.121266Z",
     "iopub.status.idle": "2023-08-18T07:01:28.341505Z",
     "shell.execute_reply": "2023-08-18T07:01:28.340639Z"
    },
    "origin_pos": 34,
    "tab": [
     "pytorch"
    ]
   },
   "outputs": [
    {
     "data": {
      "text/plain": [
       "tensor([[0.6195, 0.6906, 0.3363],\n",
       "        [0.6355, 0.5201, 1.0000]], device='cuda:1')"
      ]
     },
     "execution_count": 7,
     "metadata": {},
     "output_type": "execute_result"
    }
   ],
   "source": [
    "Y = torch.rand(2, 3, device=try_gpu(1))\n",
    "Y"
   ]
  },
  {
   "cell_type": "markdown",
   "id": "d2459dd4",
   "metadata": {
    "slideshow": {
     "slide_type": "slide"
    }
   },
   "source": [
    "If we want to compute `X + Y`,\n",
    "we need to decide where to perform this operation"
   ]
  },
  {
   "cell_type": "code",
   "execution_count": 8,
   "id": "e92bb03d",
   "metadata": {
    "execution": {
     "iopub.execute_input": "2023-08-18T07:01:28.345017Z",
     "iopub.status.busy": "2023-08-18T07:01:28.344423Z",
     "iopub.status.idle": "2023-08-18T07:01:28.351823Z",
     "shell.execute_reply": "2023-08-18T07:01:28.350982Z"
    },
    "origin_pos": 39,
    "tab": [
     "pytorch"
    ]
   },
   "outputs": [
    {
     "name": "stdout",
     "output_type": "stream",
     "text": [
      "tensor([[1., 1., 1.],\n",
      "        [1., 1., 1.]], device='cuda:0')\n",
      "tensor([[1., 1., 1.],\n",
      "        [1., 1., 1.]], device='cuda:1')\n"
     ]
    }
   ],
   "source": [
    "Z = X.cuda(1)\n",
    "print(X)\n",
    "print(Z)"
   ]
  },
  {
   "cell_type": "markdown",
   "id": "116dde76",
   "metadata": {
    "slideshow": {
     "slide_type": "slide"
    }
   },
   "source": [
    "The data (both `Z` and `Y`) are on the same GPU), we can add them up"
   ]
  },
  {
   "cell_type": "code",
   "execution_count": 9,
   "id": "a10435d0",
   "metadata": {
    "execution": {
     "iopub.execute_input": "2023-08-18T07:01:28.355403Z",
     "iopub.status.busy": "2023-08-18T07:01:28.354761Z",
     "iopub.status.idle": "2023-08-18T07:01:28.380831Z",
     "shell.execute_reply": "2023-08-18T07:01:28.380021Z"
    },
    "origin_pos": 43,
    "tab": [
     "pytorch"
    ]
   },
   "outputs": [
    {
     "data": {
      "text/plain": [
       "tensor([[1.6195, 1.6906, 1.3363],\n",
       "        [1.6355, 1.5201, 2.0000]], device='cuda:1')"
      ]
     },
     "execution_count": 9,
     "metadata": {},
     "output_type": "execute_result"
    }
   ],
   "source": [
    "Y + Z"
   ]
  },
  {
   "cell_type": "code",
   "execution_count": 10,
   "id": "76a74bd6",
   "metadata": {
    "execution": {
     "iopub.execute_input": "2023-08-18T07:01:28.384160Z",
     "iopub.status.busy": "2023-08-18T07:01:28.383624Z",
     "iopub.status.idle": "2023-08-18T07:01:28.388765Z",
     "shell.execute_reply": "2023-08-18T07:01:28.387990Z"
    },
    "origin_pos": 49,
    "tab": [
     "pytorch"
    ]
   },
   "outputs": [
    {
     "data": {
      "text/plain": [
       "True"
      ]
     },
     "execution_count": 10,
     "metadata": {},
     "output_type": "execute_result"
    }
   ],
   "source": [
    "Z.cuda(1) is Z"
   ]
  },
  {
   "cell_type": "markdown",
   "id": "d29f2a44",
   "metadata": {
    "slideshow": {
     "slide_type": "slide"
    }
   },
   "source": [
    "Neural Networks and GPUs"
   ]
  },
  {
   "cell_type": "code",
   "execution_count": 12,
   "id": "79060dcb",
   "metadata": {
    "execution": {
     "iopub.execute_input": "2023-08-18T07:01:28.399625Z",
     "iopub.status.busy": "2023-08-18T07:01:28.398971Z",
     "iopub.status.idle": "2023-08-18T07:01:28.428388Z",
     "shell.execute_reply": "2023-08-18T07:01:28.427604Z"
    },
    "origin_pos": 58,
    "tab": [
     "pytorch"
    ]
   },
   "outputs": [
    {
     "data": {
      "text/plain": [
       "tensor([[0.1320],\n",
       "        [0.1320]], device='cuda:0', grad_fn=<AddmmBackward0>)"
      ]
     },
     "execution_count": 12,
     "metadata": {},
     "output_type": "execute_result"
    }
   ],
   "source": [
    "net = nn.Sequential(nn.LazyLinear(1))\n",
    "net = net.to(device=try_gpu())\n",
    "\n",
    "net(X)"
   ]
  },
  {
   "cell_type": "markdown",
   "id": "84978792",
   "metadata": {
    "slideshow": {
     "slide_type": "-"
    }
   },
   "source": [
    "Confirm that the model parameters are stored on the same GPU"
   ]
  },
  {
   "cell_type": "code",
   "execution_count": 13,
   "id": "a33c6b46",
   "metadata": {
    "execution": {
     "iopub.execute_input": "2023-08-18T07:01:28.431702Z",
     "iopub.status.busy": "2023-08-18T07:01:28.431172Z",
     "iopub.status.idle": "2023-08-18T07:01:28.436318Z",
     "shell.execute_reply": "2023-08-18T07:01:28.435535Z"
    },
    "origin_pos": 62,
    "tab": [
     "pytorch"
    ]
   },
   "outputs": [
    {
     "data": {
      "text/plain": [
       "device(type='cuda', index=0)"
      ]
     },
     "execution_count": 13,
     "metadata": {},
     "output_type": "execute_result"
    }
   ],
   "source": [
    "net[0].weight.data.device"
   ]
  },
  {
   "cell_type": "code",
   "execution_count": 14,
   "id": "b3cf362b",
   "metadata": {
    "execution": {
     "iopub.execute_input": "2023-08-18T07:01:28.439660Z",
     "iopub.status.busy": "2023-08-18T07:01:28.439051Z",
     "iopub.status.idle": "2023-08-18T07:01:28.445486Z",
     "shell.execute_reply": "2023-08-18T07:01:28.444667Z"
    },
    "origin_pos": 67,
    "tab": [
     "pytorch"
    ]
   },
   "outputs": [],
   "source": [
    "@d2l.add_to_class(d2l.Trainer)  \n",
    "def __init__(self, max_epochs, num_gpus=0, gradient_clip_val=0):\n",
    "    self.save_hyperparameters()\n",
    "    self.gpus = [d2l.gpu(i) for i in range(min(num_gpus, d2l.num_gpus()))]\n",
    "\n",
    "@d2l.add_to_class(d2l.Trainer)  \n",
    "def prepare_batch(self, batch):\n",
    "    if self.gpus:\n",
    "        batch = [a.to(self.gpus[0]) for a in batch]\n",
    "    return batch\n",
    "\n",
    "@d2l.add_to_class(d2l.Trainer)  \n",
    "def prepare_model(self, model):\n",
    "    model.trainer = self\n",
    "    model.board.xlim = [0, self.max_epochs]\n",
    "    if self.gpus:\n",
    "        model.to(self.gpus[0])\n",
    "    self.model = model"
   ]
  }
 ],
 "metadata": {
  "celltoolbar": "Slideshow",
  "language_info": {
   "name": "python"
  },
  "required_libs": [],
  "rise": {
   "autolaunch": true,
   "enable_chalkboard": true,
   "overlay": "<div class='my-top-right'><img height=80px src='http://d2l.ai/_static/logo-with-text.png'/></div><div class='my-top-left'></div>",
   "scroll": true
  }
 },
 "nbformat": 4,
 "nbformat_minor": 5
}