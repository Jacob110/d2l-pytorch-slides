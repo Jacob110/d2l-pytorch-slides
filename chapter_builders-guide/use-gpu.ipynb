{
 "cells": [
  {
   "cell_type": "markdown",
   "id": "93fcaace",
   "metadata": {
    "slideshow": {
     "slide_type": "-"
    }
   },
   "source": [
    "# GPUs\n",
    "\n",
    "View the graphics card information"
   ]
  },
  {
   "cell_type": "code",
   "execution_count": 1,
   "id": "12da32cc",
   "metadata": {
    "execution": {
     "iopub.execute_input": "2023-08-14T16:28:50.929554Z",
     "iopub.status.busy": "2023-08-14T16:28:50.928908Z",
     "iopub.status.idle": "2023-08-14T16:28:56.939920Z",
     "shell.execute_reply": "2023-08-14T16:28:56.938886Z"
    },
    "origin_pos": 6,
    "tab": [
     "pytorch"
    ]
   },
   "outputs": [],
   "source": [
    "import torch\n",
    "from torch import nn\n",
    "from d2l import torch as d2l"
   ]
  },
  {
   "cell_type": "markdown",
   "id": "f38cb236",
   "metadata": {
    "slideshow": {
     "slide_type": "slide"
    }
   },
   "source": [
    "Computing Devices"
   ]
  },
  {
   "cell_type": "code",
   "execution_count": 2,
   "id": "41be08e5",
   "metadata": {
    "execution": {
     "iopub.execute_input": "2023-08-14T16:28:56.944186Z",
     "iopub.status.busy": "2023-08-14T16:28:56.943386Z",
     "iopub.status.idle": "2023-08-14T16:28:56.951348Z",
     "shell.execute_reply": "2023-08-14T16:28:56.950591Z"
    },
    "origin_pos": 12,
    "tab": [
     "pytorch"
    ]
   },
   "outputs": [
    {
     "data": {
      "text/plain": [
       "(device(type='cpu'),\n",
       " device(type='cuda', index=0),\n",
       " device(type='cuda', index=1))"
      ]
     },
     "execution_count": 2,
     "metadata": {},
     "output_type": "execute_result"
    }
   ],
   "source": [
    "def cpu():  \n",
    "    \"\"\"Get the CPU device.\"\"\"\n",
    "    return torch.device('cpu')\n",
    "\n",
    "def gpu(i=0):  \n",
    "    \"\"\"Get a GPU device.\"\"\"\n",
    "    return torch.device(f'cuda:{i}')\n",
    "\n",
    "cpu(), gpu(), gpu(1)"
   ]
  },
  {
   "cell_type": "markdown",
   "id": "cab34798",
   "metadata": {
    "slideshow": {
     "slide_type": "-"
    }
   },
   "source": [
    "Query the number of available GPUs"
   ]
  },
  {
   "cell_type": "code",
   "execution_count": 3,
   "id": "37d042e8",
   "metadata": {
    "execution": {
     "iopub.execute_input": "2023-08-14T16:28:56.954726Z",
     "iopub.status.busy": "2023-08-14T16:28:56.954188Z",
     "iopub.status.idle": "2023-08-14T16:28:56.959404Z",
     "shell.execute_reply": "2023-08-14T16:28:56.958649Z"
    },
    "origin_pos": 15,
    "tab": [
     "pytorch"
    ]
   },
   "outputs": [
    {
     "data": {
      "text/plain": [
       "2"
      ]
     },
     "execution_count": 3,
     "metadata": {},
     "output_type": "execute_result"
    }
   ],
   "source": [
    "def num_gpus():  \n",
    "    \"\"\"Get the number of available GPUs.\"\"\"\n",
    "    return torch.cuda.device_count()\n",
    "\n",
    "num_gpus()"
   ]
  },
  {
   "cell_type": "markdown",
   "id": "284925fc",
   "metadata": {
    "slideshow": {
     "slide_type": "slide"
    }
   },
   "source": [
    "Define two convenient functions that allow us\n",
    "to run code even if the requested GPUs do not exist"
   ]
  },
  {
   "cell_type": "code",
   "execution_count": 4,
   "id": "ec068c3e",
   "metadata": {
    "execution": {
     "iopub.execute_input": "2023-08-14T16:28:56.962628Z",
     "iopub.status.busy": "2023-08-14T16:28:56.962100Z",
     "iopub.status.idle": "2023-08-14T16:28:56.968507Z",
     "shell.execute_reply": "2023-08-14T16:28:56.967753Z"
    },
    "origin_pos": 18,
    "tab": [
     "pytorch"
    ]
   },
   "outputs": [
    {
     "data": {
      "text/plain": [
       "(device(type='cuda', index=0),\n",
       " device(type='cpu'),\n",
       " [device(type='cuda', index=0), device(type='cuda', index=1)])"
      ]
     },
     "execution_count": 4,
     "metadata": {},
     "output_type": "execute_result"
    }
   ],
   "source": [
    "def try_gpu(i=0):  \n",
    "    \"\"\"Return gpu(i) if exists, otherwise return cpu().\"\"\"\n",
    "    if num_gpus() >= i + 1:\n",
    "        return gpu(i)\n",
    "    return cpu()\n",
    "\n",
    "def try_all_gpus():  \n",
    "    \"\"\"Return all available GPUs, or [cpu(),] if no GPU exists.\"\"\"\n",
    "    return [gpu(i) for i in range(num_gpus())]\n",
    "\n",
    "try_gpu(), try_gpu(10), try_all_gpus()"
   ]
  },
  {
   "cell_type": "markdown",
   "id": "0e635c69",
   "metadata": {
    "slideshow": {
     "slide_type": "slide"
    }
   },
   "source": [
    "Query the device where the tensor is located"
   ]
  },
  {
   "cell_type": "code",
   "execution_count": 5,
   "id": "75edad2b",
   "metadata": {
    "execution": {
     "iopub.execute_input": "2023-08-14T16:28:56.971772Z",
     "iopub.status.busy": "2023-08-14T16:28:56.971243Z",
     "iopub.status.idle": "2023-08-14T16:28:56.976581Z",
     "shell.execute_reply": "2023-08-14T16:28:56.975817Z"
    },
    "origin_pos": 25,
    "tab": [
     "pytorch"
    ]
   },
   "outputs": [
    {
     "data": {
      "text/plain": [
       "device(type='cpu')"
      ]
     },
     "execution_count": 5,
     "metadata": {},
     "output_type": "execute_result"
    }
   ],
   "source": [
    "x = torch.tensor([1, 2, 3])\n",
    "x.device"
   ]
  },
  {
   "cell_type": "markdown",
   "id": "c56c2427",
   "metadata": {
    "slideshow": {
     "slide_type": "slide"
    }
   },
   "source": [
    "Store a tensor on the GPU"
   ]
  },
  {
   "cell_type": "code",
   "execution_count": 6,
   "id": "6128bb89",
   "metadata": {
    "execution": {
     "iopub.execute_input": "2023-08-14T16:28:56.979809Z",
     "iopub.status.busy": "2023-08-14T16:28:56.979284Z",
     "iopub.status.idle": "2023-08-14T16:28:57.321321Z",
     "shell.execute_reply": "2023-08-14T16:28:57.320449Z"
    },
    "origin_pos": 30,
    "tab": [
     "pytorch"
    ]
   },
   "outputs": [
    {
     "data": {
      "text/plain": [
       "tensor([[1., 1., 1.],\n",
       "        [1., 1., 1.]], device='cuda:0')"
      ]
     },
     "execution_count": 6,
     "metadata": {},
     "output_type": "execute_result"
    }
   ],
   "source": [
    "X = torch.ones(2, 3, device=try_gpu())\n",
    "X"
   ]
  },
  {
   "cell_type": "markdown",
   "id": "96852d00",
   "metadata": {
    "slideshow": {
     "slide_type": "-"
    }
   },
   "source": [
    "Create a random tensor, `Y`, on the second GPU"
   ]
  },
  {
   "cell_type": "code",
   "execution_count": 7,
   "id": "90413a53",
   "metadata": {
    "execution": {
     "iopub.execute_input": "2023-08-14T16:28:57.324731Z",
     "iopub.status.busy": "2023-08-14T16:28:57.324159Z",
     "iopub.status.idle": "2023-08-14T16:28:57.548358Z",
     "shell.execute_reply": "2023-08-14T16:28:57.547522Z"
    },
    "origin_pos": 35,
    "tab": [
     "pytorch"
    ]
   },
   "outputs": [
    {
     "data": {
      "text/plain": [
       "tensor([[0.0955, 0.5193, 0.5440],\n",
       "        [0.7175, 0.7883, 0.9223]], device='cuda:1')"
      ]
     },
     "execution_count": 7,
     "metadata": {},
     "output_type": "execute_result"
    }
   ],
   "source": [
    "Y = torch.rand(2, 3, device=try_gpu(1))\n",
    "Y"
   ]
  },
  {
   "cell_type": "markdown",
   "id": "e7c9fec9",
   "metadata": {
    "slideshow": {
     "slide_type": "slide"
    }
   },
   "source": [
    "If we want to compute `X + Y`,\n",
    "we need to decide where to perform this operation"
   ]
  },
  {
   "cell_type": "code",
   "execution_count": 8,
   "id": "1415ea49",
   "metadata": {
    "execution": {
     "iopub.execute_input": "2023-08-14T16:28:57.551900Z",
     "iopub.status.busy": "2023-08-14T16:28:57.551339Z",
     "iopub.status.idle": "2023-08-14T16:28:57.558792Z",
     "shell.execute_reply": "2023-08-14T16:28:57.557976Z"
    },
    "origin_pos": 40,
    "tab": [
     "pytorch"
    ]
   },
   "outputs": [
    {
     "name": "stdout",
     "output_type": "stream",
     "text": [
      "tensor([[1., 1., 1.],\n",
      "        [1., 1., 1.]], device='cuda:0')\n",
      "tensor([[1., 1., 1.],\n",
      "        [1., 1., 1.]], device='cuda:1')\n"
     ]
    }
   ],
   "source": [
    "Z = X.cuda(1)\n",
    "print(X)\n",
    "print(Z)"
   ]
  },
  {
   "cell_type": "markdown",
   "id": "567b1421",
   "metadata": {
    "slideshow": {
     "slide_type": "slide"
    }
   },
   "source": [
    "The data (both `Z` and `Y`) are on the same GPU), we can add them up"
   ]
  },
  {
   "cell_type": "code",
   "execution_count": 9,
   "id": "d7d8c6ef",
   "metadata": {
    "execution": {
     "iopub.execute_input": "2023-08-14T16:28:57.562044Z",
     "iopub.status.busy": "2023-08-14T16:28:57.561520Z",
     "iopub.status.idle": "2023-08-14T16:28:57.583537Z",
     "shell.execute_reply": "2023-08-14T16:28:57.582737Z"
    },
    "origin_pos": 44,
    "tab": [
     "pytorch"
    ]
   },
   "outputs": [
    {
     "data": {
      "text/plain": [
       "tensor([[1.0955, 1.5193, 1.5440],\n",
       "        [1.7175, 1.7883, 1.9223]], device='cuda:1')"
      ]
     },
     "execution_count": 9,
     "metadata": {},
     "output_type": "execute_result"
    }
   ],
   "source": [
    "Y + Z"
   ]
  },
  {
   "cell_type": "code",
   "execution_count": 10,
   "id": "acfadadd",
   "metadata": {
    "execution": {
     "iopub.execute_input": "2023-08-14T16:28:57.586793Z",
     "iopub.status.busy": "2023-08-14T16:28:57.586253Z",
     "iopub.status.idle": "2023-08-14T16:28:57.591381Z",
     "shell.execute_reply": "2023-08-14T16:28:57.590560Z"
    },
    "origin_pos": 50,
    "tab": [
     "pytorch"
    ]
   },
   "outputs": [
    {
     "data": {
      "text/plain": [
       "True"
      ]
     },
     "execution_count": 10,
     "metadata": {},
     "output_type": "execute_result"
    }
   ],
   "source": [
    "Z.cuda(1) is Z"
   ]
  },
  {
   "cell_type": "markdown",
   "id": "10f79a11",
   "metadata": {
    "slideshow": {
     "slide_type": "slide"
    }
   },
   "source": [
    "Neural Networks and GPUs"
   ]
  },
  {
   "cell_type": "code",
   "execution_count": 12,
   "id": "7d048ed8",
   "metadata": {
    "execution": {
     "iopub.execute_input": "2023-08-14T16:28:57.602046Z",
     "iopub.status.busy": "2023-08-14T16:28:57.601524Z",
     "iopub.status.idle": "2023-08-14T16:28:57.630726Z",
     "shell.execute_reply": "2023-08-14T16:28:57.629917Z"
    },
    "origin_pos": 59,
    "tab": [
     "pytorch"
    ]
   },
   "outputs": [
    {
     "data": {
      "text/plain": [
       "tensor([[-0.2016],\n",
       "        [-0.2016]], device='cuda:0', grad_fn=<AddmmBackward0>)"
      ]
     },
     "execution_count": 12,
     "metadata": {},
     "output_type": "execute_result"
    }
   ],
   "source": [
    "net = nn.Sequential(nn.LazyLinear(1))\n",
    "net = net.to(device=try_gpu())\n",
    "\n",
    "net(X)"
   ]
  },
  {
   "cell_type": "markdown",
   "id": "92fd3dc2",
   "metadata": {
    "slideshow": {
     "slide_type": "-"
    }
   },
   "source": [
    "Confirm that the model parameters are stored on the same GPU"
   ]
  },
  {
   "cell_type": "code",
   "execution_count": 13,
   "id": "b1497dd9",
   "metadata": {
    "execution": {
     "iopub.execute_input": "2023-08-14T16:28:57.633995Z",
     "iopub.status.busy": "2023-08-14T16:28:57.633476Z",
     "iopub.status.idle": "2023-08-14T16:28:57.638697Z",
     "shell.execute_reply": "2023-08-14T16:28:57.637881Z"
    },
    "origin_pos": 63,
    "tab": [
     "pytorch"
    ]
   },
   "outputs": [
    {
     "data": {
      "text/plain": [
       "device(type='cuda', index=0)"
      ]
     },
     "execution_count": 13,
     "metadata": {},
     "output_type": "execute_result"
    }
   ],
   "source": [
    "net[0].weight.data.device"
   ]
  },
  {
   "cell_type": "code",
   "execution_count": 14,
   "id": "8af99d91",
   "metadata": {
    "execution": {
     "iopub.execute_input": "2023-08-14T16:28:57.642033Z",
     "iopub.status.busy": "2023-08-14T16:28:57.641497Z",
     "iopub.status.idle": "2023-08-14T16:28:57.647849Z",
     "shell.execute_reply": "2023-08-14T16:28:57.647058Z"
    },
    "origin_pos": 68,
    "tab": [
     "pytorch"
    ]
   },
   "outputs": [],
   "source": [
    "@d2l.add_to_class(d2l.Trainer)  \n",
    "def __init__(self, max_epochs, num_gpus=0, gradient_clip_val=0):\n",
    "    self.save_hyperparameters()\n",
    "    self.gpus = [d2l.gpu(i) for i in range(min(num_gpus, d2l.num_gpus()))]\n",
    "\n",
    "@d2l.add_to_class(d2l.Trainer)  \n",
    "def prepare_batch(self, batch):\n",
    "    if self.gpus:\n",
    "        batch = [a.to(self.gpus[0]) for a in batch]\n",
    "    return batch\n",
    "\n",
    "@d2l.add_to_class(d2l.Trainer)  \n",
    "def prepare_model(self, model):\n",
    "    model.trainer = self\n",
    "    model.board.xlim = [0, self.max_epochs]\n",
    "    if self.gpus:\n",
    "        model.to(self.gpus[0])\n",
    "    self.model = model"
   ]
  }
 ],
 "metadata": {
  "celltoolbar": "Slideshow",
  "language_info": {
   "name": "python"
  },
  "required_libs": [],
  "rise": {
   "autolaunch": true,
   "enable_chalkboard": true,
   "overlay": "<div class='my-top-right'><img height=80px src='http://d2l.ai/_static/logo-with-text.png'/></div><div class='my-top-left'></div>",
   "scroll": true
  }
 },
 "nbformat": 4,
 "nbformat_minor": 5
}