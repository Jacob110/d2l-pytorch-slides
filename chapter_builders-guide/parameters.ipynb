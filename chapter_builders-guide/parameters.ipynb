{
 "cells": [
  {
   "cell_type": "markdown",
   "id": "fc2d89c2",
   "metadata": {
    "slideshow": {
     "slide_type": "-"
    }
   },
   "source": [
    "# Parameter Management\n",
    "\n"
   ]
  },
  {
   "cell_type": "code",
   "execution_count": 1,
   "id": "103cea81",
   "metadata": {
    "execution": {
     "iopub.execute_input": "2023-08-14T16:44:48.403979Z",
     "iopub.status.busy": "2023-08-14T16:44:48.403393Z",
     "iopub.status.idle": "2023-08-14T16:44:50.450674Z",
     "shell.execute_reply": "2023-08-14T16:44:50.449719Z"
    },
    "origin_pos": 3,
    "tab": [
     "pytorch"
    ]
   },
   "outputs": [],
   "source": [
    "import torch\n",
    "from torch import nn"
   ]
  },
  {
   "cell_type": "markdown",
   "id": "59ec1ad0",
   "metadata": {
    "slideshow": {
     "slide_type": "-"
    }
   },
   "source": [
    "We start by focusing on an MLP with one hidden layer"
   ]
  },
  {
   "cell_type": "code",
   "execution_count": 2,
   "id": "3860a978",
   "metadata": {
    "execution": {
     "iopub.execute_input": "2023-08-14T16:44:50.455643Z",
     "iopub.status.busy": "2023-08-14T16:44:50.454961Z",
     "iopub.status.idle": "2023-08-14T16:44:50.472611Z",
     "shell.execute_reply": "2023-08-14T16:44:50.471651Z"
    },
    "origin_pos": 8,
    "tab": [
     "pytorch"
    ]
   },
   "outputs": [
    {
     "data": {
      "text/plain": [
       "torch.Size([2, 1])"
      ]
     },
     "execution_count": 2,
     "metadata": {},
     "output_type": "execute_result"
    }
   ],
   "source": [
    "net = nn.Sequential(nn.LazyLinear(8),\n",
    "                    nn.ReLU(),\n",
    "                    nn.LazyLinear(1))\n",
    "\n",
    "X = torch.rand(size=(2, 4))\n",
    "net(X).shape"
   ]
  },
  {
   "cell_type": "markdown",
   "id": "662a5ebe",
   "metadata": {
    "slideshow": {
     "slide_type": "slide"
    }
   },
   "source": [
    "Parameter Access"
   ]
  },
  {
   "cell_type": "code",
   "execution_count": 3,
   "id": "d960ea85",
   "metadata": {
    "execution": {
     "iopub.execute_input": "2023-08-14T16:44:50.478408Z",
     "iopub.status.busy": "2023-08-14T16:44:50.477612Z",
     "iopub.status.idle": "2023-08-14T16:44:50.486101Z",
     "shell.execute_reply": "2023-08-14T16:44:50.485131Z"
    },
    "origin_pos": 16,
    "tab": [
     "pytorch"
    ]
   },
   "outputs": [
    {
     "data": {
      "text/plain": [
       "OrderedDict([('weight',\n",
       "              tensor([[ 0.1808, -0.1623, -0.1131, -0.0101,  0.1746,  0.1805, -0.0883, -0.2324]])),\n",
       "             ('bias', tensor([-0.2734]))])"
      ]
     },
     "execution_count": 3,
     "metadata": {},
     "output_type": "execute_result"
    }
   ],
   "source": [
    "net[2].state_dict()"
   ]
  },
  {
   "cell_type": "markdown",
   "id": "3523039e",
   "metadata": {
    "slideshow": {
     "slide_type": "slide"
    }
   },
   "source": [
    "Targeted Parameters"
   ]
  },
  {
   "cell_type": "code",
   "execution_count": 4,
   "id": "945c19fe",
   "metadata": {
    "execution": {
     "iopub.execute_input": "2023-08-14T16:44:50.490066Z",
     "iopub.status.busy": "2023-08-14T16:44:50.489540Z",
     "iopub.status.idle": "2023-08-14T16:44:50.498291Z",
     "shell.execute_reply": "2023-08-14T16:44:50.496959Z"
    },
    "origin_pos": 21,
    "tab": [
     "pytorch"
    ]
   },
   "outputs": [
    {
     "data": {
      "text/plain": [
       "(torch.nn.parameter.Parameter, tensor([-0.2734]))"
      ]
     },
     "execution_count": 4,
     "metadata": {},
     "output_type": "execute_result"
    }
   ],
   "source": [
    "type(net[2].bias), net[2].bias.data"
   ]
  },
  {
   "cell_type": "code",
   "execution_count": 5,
   "id": "d17b149e",
   "metadata": {
    "execution": {
     "iopub.execute_input": "2023-08-14T16:44:50.503202Z",
     "iopub.status.busy": "2023-08-14T16:44:50.502354Z",
     "iopub.status.idle": "2023-08-14T16:44:50.510142Z",
     "shell.execute_reply": "2023-08-14T16:44:50.508848Z"
    },
    "origin_pos": 27,
    "tab": [
     "pytorch"
    ]
   },
   "outputs": [
    {
     "data": {
      "text/plain": [
       "True"
      ]
     },
     "execution_count": 5,
     "metadata": {},
     "output_type": "execute_result"
    }
   ],
   "source": [
    "net[2].weight.grad == None"
   ]
  },
  {
   "cell_type": "markdown",
   "id": "80b2d27a",
   "metadata": {
    "slideshow": {
     "slide_type": "slide"
    }
   },
   "source": [
    "All Parameters at Once"
   ]
  },
  {
   "cell_type": "code",
   "execution_count": 6,
   "id": "40ee16ca",
   "metadata": {
    "execution": {
     "iopub.execute_input": "2023-08-14T16:44:50.513987Z",
     "iopub.status.busy": "2023-08-14T16:44:50.513451Z",
     "iopub.status.idle": "2023-08-14T16:44:50.521504Z",
     "shell.execute_reply": "2023-08-14T16:44:50.520255Z"
    },
    "origin_pos": 30,
    "tab": [
     "pytorch"
    ]
   },
   "outputs": [
    {
     "data": {
      "text/plain": [
       "[('0.weight', torch.Size([8, 4])),\n",
       " ('0.bias', torch.Size([8])),\n",
       " ('2.weight', torch.Size([1, 8])),\n",
       " ('2.bias', torch.Size([1]))]"
      ]
     },
     "execution_count": 6,
     "metadata": {},
     "output_type": "execute_result"
    }
   ],
   "source": [
    "[(name, param.shape) for name, param in net.named_parameters()]"
   ]
  },
  {
   "cell_type": "markdown",
   "id": "d0f2d6b2",
   "metadata": {
    "slideshow": {
     "slide_type": "slide"
    }
   },
   "source": [
    "Tied Parameters"
   ]
  },
  {
   "cell_type": "code",
   "execution_count": 7,
   "id": "53a5abb8",
   "metadata": {
    "execution": {
     "iopub.execute_input": "2023-08-14T16:44:50.525799Z",
     "iopub.status.busy": "2023-08-14T16:44:50.525065Z",
     "iopub.status.idle": "2023-08-14T16:44:50.536777Z",
     "shell.execute_reply": "2023-08-14T16:44:50.535782Z"
    },
    "origin_pos": 35,
    "tab": [
     "pytorch"
    ]
   },
   "outputs": [
    {
     "name": "stdout",
     "output_type": "stream",
     "text": [
      "tensor([True, True, True, True, True, True, True, True])\n",
      "tensor([True, True, True, True, True, True, True, True])\n"
     ]
    }
   ],
   "source": [
    "shared = nn.LazyLinear(8)\n",
    "net = nn.Sequential(nn.LazyLinear(8), nn.ReLU(),\n",
    "                    shared, nn.ReLU(),\n",
    "                    shared, nn.ReLU(),\n",
    "                    nn.LazyLinear(1))\n",
    "\n",
    "net(X)\n",
    "print(net[2].weight.data[0] == net[4].weight.data[0])\n",
    "net[2].weight.data[0, 0] = 100\n",
    "print(net[2].weight.data[0] == net[4].weight.data[0])"
   ]
  }
 ],
 "metadata": {
  "celltoolbar": "Slideshow",
  "language_info": {
   "name": "python"
  },
  "required_libs": [],
  "rise": {
   "autolaunch": true,
   "enable_chalkboard": true,
   "overlay": "<div class='my-top-right'><img height=80px src='http://d2l.ai/_static/logo-with-text.png'/></div><div class='my-top-left'></div>",
   "scroll": true
  }
 },
 "nbformat": 4,
 "nbformat_minor": 5
}