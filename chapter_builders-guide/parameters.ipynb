{
 "cells": [
  {
   "cell_type": "markdown",
   "id": "022946cf",
   "metadata": {
    "slideshow": {
     "slide_type": "-"
    }
   },
   "source": [
    "# Parameter Management\n",
    "\n"
   ]
  },
  {
   "cell_type": "code",
   "execution_count": 1,
   "id": "28c3500f",
   "metadata": {
    "execution": {
     "iopub.execute_input": "2023-08-18T07:03:16.267500Z",
     "iopub.status.busy": "2023-08-18T07:03:16.266934Z",
     "iopub.status.idle": "2023-08-18T07:03:18.028370Z",
     "shell.execute_reply": "2023-08-18T07:03:18.027494Z"
    },
    "origin_pos": 3,
    "tab": [
     "pytorch"
    ]
   },
   "outputs": [],
   "source": [
    "import torch\n",
    "from torch import nn"
   ]
  },
  {
   "cell_type": "markdown",
   "id": "16ab44e7",
   "metadata": {
    "slideshow": {
     "slide_type": "-"
    }
   },
   "source": [
    "We start by focusing on an MLP with one hidden layer"
   ]
  },
  {
   "cell_type": "code",
   "execution_count": 2,
   "id": "4a5271ed",
   "metadata": {
    "execution": {
     "iopub.execute_input": "2023-08-18T07:03:18.032610Z",
     "iopub.status.busy": "2023-08-18T07:03:18.031951Z",
     "iopub.status.idle": "2023-08-18T07:03:18.064091Z",
     "shell.execute_reply": "2023-08-18T07:03:18.063329Z"
    },
    "origin_pos": 8,
    "tab": [
     "pytorch"
    ]
   },
   "outputs": [
    {
     "data": {
      "text/plain": [
       "torch.Size([2, 1])"
      ]
     },
     "execution_count": 2,
     "metadata": {},
     "output_type": "execute_result"
    }
   ],
   "source": [
    "net = nn.Sequential(nn.LazyLinear(8),\n",
    "                    nn.ReLU(),\n",
    "                    nn.LazyLinear(1))\n",
    "\n",
    "X = torch.rand(size=(2, 4))\n",
    "net(X).shape"
   ]
  },
  {
   "cell_type": "markdown",
   "id": "acd1ac93",
   "metadata": {
    "slideshow": {
     "slide_type": "slide"
    }
   },
   "source": [
    "Parameter Access"
   ]
  },
  {
   "cell_type": "code",
   "execution_count": 3,
   "id": "173c1f4f",
   "metadata": {
    "execution": {
     "iopub.execute_input": "2023-08-18T07:03:18.067481Z",
     "iopub.status.busy": "2023-08-18T07:03:18.067185Z",
     "iopub.status.idle": "2023-08-18T07:03:18.074263Z",
     "shell.execute_reply": "2023-08-18T07:03:18.073500Z"
    },
    "origin_pos": 16,
    "tab": [
     "pytorch"
    ]
   },
   "outputs": [
    {
     "data": {
      "text/plain": [
       "OrderedDict([('weight',\n",
       "              tensor([[-0.0915,  0.2323,  0.0672,  0.0951,  0.0561,  0.2846,  0.3074, -0.2919]])),\n",
       "             ('bias', tensor([0.2610]))])"
      ]
     },
     "execution_count": 3,
     "metadata": {},
     "output_type": "execute_result"
    }
   ],
   "source": [
    "net[2].state_dict()"
   ]
  },
  {
   "cell_type": "markdown",
   "id": "5e51bbb6",
   "metadata": {
    "slideshow": {
     "slide_type": "slide"
    }
   },
   "source": [
    "Targeted Parameters"
   ]
  },
  {
   "cell_type": "code",
   "execution_count": 4,
   "id": "490d8858",
   "metadata": {
    "execution": {
     "iopub.execute_input": "2023-08-18T07:03:18.078157Z",
     "iopub.status.busy": "2023-08-18T07:03:18.077641Z",
     "iopub.status.idle": "2023-08-18T07:03:18.083771Z",
     "shell.execute_reply": "2023-08-18T07:03:18.083009Z"
    },
    "origin_pos": 21,
    "tab": [
     "pytorch"
    ]
   },
   "outputs": [
    {
     "data": {
      "text/plain": [
       "(torch.nn.parameter.Parameter, tensor([0.2610]))"
      ]
     },
     "execution_count": 4,
     "metadata": {},
     "output_type": "execute_result"
    }
   ],
   "source": [
    "type(net[2].bias), net[2].bias.data"
   ]
  },
  {
   "cell_type": "code",
   "execution_count": 5,
   "id": "d2f52b89",
   "metadata": {
    "execution": {
     "iopub.execute_input": "2023-08-18T07:03:18.087332Z",
     "iopub.status.busy": "2023-08-18T07:03:18.086588Z",
     "iopub.status.idle": "2023-08-18T07:03:18.091863Z",
     "shell.execute_reply": "2023-08-18T07:03:18.091037Z"
    },
    "origin_pos": 27,
    "tab": [
     "pytorch"
    ]
   },
   "outputs": [
    {
     "data": {
      "text/plain": [
       "True"
      ]
     },
     "execution_count": 5,
     "metadata": {},
     "output_type": "execute_result"
    }
   ],
   "source": [
    "net[2].weight.grad == None"
   ]
  },
  {
   "cell_type": "markdown",
   "id": "8e7dbdec",
   "metadata": {
    "slideshow": {
     "slide_type": "slide"
    }
   },
   "source": [
    "All Parameters at Once"
   ]
  },
  {
   "cell_type": "code",
   "execution_count": 6,
   "id": "d9e7339f",
   "metadata": {
    "execution": {
     "iopub.execute_input": "2023-08-18T07:03:18.095233Z",
     "iopub.status.busy": "2023-08-18T07:03:18.094688Z",
     "iopub.status.idle": "2023-08-18T07:03:18.100280Z",
     "shell.execute_reply": "2023-08-18T07:03:18.099481Z"
    },
    "origin_pos": 30,
    "tab": [
     "pytorch"
    ]
   },
   "outputs": [
    {
     "data": {
      "text/plain": [
       "[('0.weight', torch.Size([8, 4])),\n",
       " ('0.bias', torch.Size([8])),\n",
       " ('2.weight', torch.Size([1, 8])),\n",
       " ('2.bias', torch.Size([1]))]"
      ]
     },
     "execution_count": 6,
     "metadata": {},
     "output_type": "execute_result"
    }
   ],
   "source": [
    "[(name, param.shape) for name, param in net.named_parameters()]"
   ]
  },
  {
   "cell_type": "markdown",
   "id": "7fc1972b",
   "metadata": {
    "slideshow": {
     "slide_type": "slide"
    }
   },
   "source": [
    "Tied Parameters"
   ]
  },
  {
   "cell_type": "code",
   "execution_count": 7,
   "id": "3468f1ab",
   "metadata": {
    "execution": {
     "iopub.execute_input": "2023-08-18T07:03:18.103707Z",
     "iopub.status.busy": "2023-08-18T07:03:18.103163Z",
     "iopub.status.idle": "2023-08-18T07:03:18.112542Z",
     "shell.execute_reply": "2023-08-18T07:03:18.111715Z"
    },
    "origin_pos": 35,
    "tab": [
     "pytorch"
    ]
   },
   "outputs": [
    {
     "name": "stdout",
     "output_type": "stream",
     "text": [
      "tensor([True, True, True, True, True, True, True, True])\n",
      "tensor([True, True, True, True, True, True, True, True])\n"
     ]
    }
   ],
   "source": [
    "shared = nn.LazyLinear(8)\n",
    "net = nn.Sequential(nn.LazyLinear(8), nn.ReLU(),\n",
    "                    shared, nn.ReLU(),\n",
    "                    shared, nn.ReLU(),\n",
    "                    nn.LazyLinear(1))\n",
    "\n",
    "net(X)\n",
    "print(net[2].weight.data[0] == net[4].weight.data[0])\n",
    "net[2].weight.data[0, 0] = 100\n",
    "print(net[2].weight.data[0] == net[4].weight.data[0])"
   ]
  }
 ],
 "metadata": {
  "celltoolbar": "Slideshow",
  "language_info": {
   "name": "python"
  },
  "required_libs": [],
  "rise": {
   "autolaunch": true,
   "enable_chalkboard": true,
   "overlay": "<div class='my-top-right'><img height=80px src='http://d2l.ai/_static/logo-with-text.png'/></div><div class='my-top-left'></div>",
   "scroll": true
  }
 },
 "nbformat": 4,
 "nbformat_minor": 5
}