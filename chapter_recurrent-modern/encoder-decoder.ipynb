{
 "cells": [
  {
   "cell_type": "markdown",
   "id": "bf4249e0",
   "metadata": {
    "slideshow": {
     "slide_type": "-"
    }
   },
   "source": [
    "# The Encoder--Decoder Architecture\n",
    "\n"
   ]
  },
  {
   "cell_type": "code",
   "execution_count": 1,
   "id": "f94afa40",
   "metadata": {
    "execution": {
     "iopub.execute_input": "2023-08-18T07:01:57.574369Z",
     "iopub.status.busy": "2023-08-18T07:01:57.573733Z",
     "iopub.status.idle": "2023-08-18T07:02:00.333889Z",
     "shell.execute_reply": "2023-08-18T07:02:00.332968Z"
    },
    "origin_pos": 3,
    "tab": [
     "pytorch"
    ]
   },
   "outputs": [],
   "source": [
    "from torch import nn\n",
    "from d2l import torch as d2l"
   ]
  },
  {
   "cell_type": "markdown",
   "id": "a621767c",
   "metadata": {
    "slideshow": {
     "slide_type": "-"
    }
   },
   "source": [
    "Encoder"
   ]
  },
  {
   "cell_type": "code",
   "execution_count": 2,
   "id": "8eaf6264",
   "metadata": {
    "execution": {
     "iopub.execute_input": "2023-08-18T07:02:00.338791Z",
     "iopub.status.busy": "2023-08-18T07:02:00.337711Z",
     "iopub.status.idle": "2023-08-18T07:02:00.344764Z",
     "shell.execute_reply": "2023-08-18T07:02:00.343706Z"
    },
    "origin_pos": 8,
    "tab": [
     "pytorch"
    ]
   },
   "outputs": [],
   "source": [
    "class Encoder(nn.Module):  \n",
    "    \"\"\"The base encoder interface for the encoder--decoder architecture.\"\"\"\n",
    "    def __init__(self):\n",
    "        super().__init__()\n",
    "\n",
    "    def forward(self, X, *args):\n",
    "        raise NotImplementedError"
   ]
  },
  {
   "cell_type": "markdown",
   "id": "c8d2bd72",
   "metadata": {
    "slideshow": {
     "slide_type": "slide"
    }
   },
   "source": [
    "Decoder"
   ]
  },
  {
   "cell_type": "code",
   "execution_count": 3,
   "id": "b4392535",
   "metadata": {
    "execution": {
     "iopub.execute_input": "2023-08-18T07:02:00.348639Z",
     "iopub.status.busy": "2023-08-18T07:02:00.348028Z",
     "iopub.status.idle": "2023-08-18T07:02:00.354570Z",
     "shell.execute_reply": "2023-08-18T07:02:00.353499Z"
    },
    "origin_pos": 13,
    "tab": [
     "pytorch"
    ]
   },
   "outputs": [],
   "source": [
    "class Decoder(nn.Module):  \n",
    "    \"\"\"The base decoder interface for the encoder--decoder architecture.\"\"\"\n",
    "    def __init__(self):\n",
    "        super().__init__()\n",
    "\n",
    "    def init_state(self, enc_all_outputs, *args):\n",
    "        raise NotImplementedError\n",
    "\n",
    "    def forward(self, X, state):\n",
    "        raise NotImplementedError"
   ]
  },
  {
   "cell_type": "markdown",
   "id": "c108922d",
   "metadata": {
    "slideshow": {
     "slide_type": "slide"
    }
   },
   "source": [
    "Putting the Encoder and Decoder Together"
   ]
  },
  {
   "cell_type": "code",
   "execution_count": 4,
   "id": "ca7ada5f",
   "metadata": {
    "execution": {
     "iopub.execute_input": "2023-08-18T07:02:00.358642Z",
     "iopub.status.busy": "2023-08-18T07:02:00.357827Z",
     "iopub.status.idle": "2023-08-18T07:02:00.365392Z",
     "shell.execute_reply": "2023-08-18T07:02:00.364301Z"
    },
    "origin_pos": 17,
    "tab": [
     "pytorch"
    ]
   },
   "outputs": [],
   "source": [
    "class EncoderDecoder(d2l.Classifier):  \n",
    "    \"\"\"The base class for the encoder--decoder architecture.\"\"\"\n",
    "    def __init__(self, encoder, decoder):\n",
    "        super().__init__()\n",
    "        self.encoder = encoder\n",
    "        self.decoder = decoder\n",
    "\n",
    "    def forward(self, enc_X, dec_X, *args):\n",
    "        enc_all_outputs = self.encoder(enc_X, *args)\n",
    "        dec_state = self.decoder.init_state(enc_all_outputs, *args)\n",
    "        return self.decoder(dec_X, dec_state)[0]"
   ]
  }
 ],
 "metadata": {
  "celltoolbar": "Slideshow",
  "language_info": {
   "name": "python"
  },
  "required_libs": [],
  "rise": {
   "autolaunch": true,
   "enable_chalkboard": true,
   "overlay": "<div class='my-top-right'><img height=80px src='http://d2l.ai/_static/logo-with-text.png'/></div><div class='my-top-left'></div>",
   "scroll": true
  }
 },
 "nbformat": 4,
 "nbformat_minor": 5
}