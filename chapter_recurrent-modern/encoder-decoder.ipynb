{
 "cells": [
  {
   "cell_type": "markdown",
   "id": "20d32f1c",
   "metadata": {
    "slideshow": {
     "slide_type": "-"
    }
   },
   "source": [
    "# The Encoder--Decoder Architecture\n",
    "\n"
   ]
  },
  {
   "cell_type": "code",
   "execution_count": 1,
   "id": "822c4fc6",
   "metadata": {
    "execution": {
     "iopub.execute_input": "2023-08-14T16:34:47.372985Z",
     "iopub.status.busy": "2023-08-14T16:34:47.372459Z",
     "iopub.status.idle": "2023-08-14T16:34:50.483076Z",
     "shell.execute_reply": "2023-08-14T16:34:50.481712Z"
    },
    "origin_pos": 3,
    "tab": [
     "pytorch"
    ]
   },
   "outputs": [],
   "source": [
    "from torch import nn\n",
    "from d2l import torch as d2l"
   ]
  },
  {
   "cell_type": "markdown",
   "id": "bd190433",
   "metadata": {
    "slideshow": {
     "slide_type": "-"
    }
   },
   "source": [
    "Encoder"
   ]
  },
  {
   "cell_type": "code",
   "execution_count": 2,
   "id": "084d8f84",
   "metadata": {
    "execution": {
     "iopub.execute_input": "2023-08-14T16:34:50.488193Z",
     "iopub.status.busy": "2023-08-14T16:34:50.487124Z",
     "iopub.status.idle": "2023-08-14T16:34:50.493175Z",
     "shell.execute_reply": "2023-08-14T16:34:50.492363Z"
    },
    "origin_pos": 8,
    "tab": [
     "pytorch"
    ]
   },
   "outputs": [],
   "source": [
    "class Encoder(nn.Module):  \n",
    "    \"\"\"The base encoder interface for the encoder--decoder architecture.\"\"\"\n",
    "    def __init__(self):\n",
    "        super().__init__()\n",
    "\n",
    "    def forward(self, X, *args):\n",
    "        raise NotImplementedError"
   ]
  },
  {
   "cell_type": "markdown",
   "id": "7fa7dadc",
   "metadata": {
    "slideshow": {
     "slide_type": "slide"
    }
   },
   "source": [
    "Decoder"
   ]
  },
  {
   "cell_type": "code",
   "execution_count": 3,
   "id": "8bf68fe3",
   "metadata": {
    "execution": {
     "iopub.execute_input": "2023-08-14T16:34:50.496271Z",
     "iopub.status.busy": "2023-08-14T16:34:50.495987Z",
     "iopub.status.idle": "2023-08-14T16:34:50.500663Z",
     "shell.execute_reply": "2023-08-14T16:34:50.499846Z"
    },
    "origin_pos": 13,
    "tab": [
     "pytorch"
    ]
   },
   "outputs": [],
   "source": [
    "class Decoder(nn.Module):  \n",
    "    \"\"\"The base decoder interface for the encoder--decoder architecture.\"\"\"\n",
    "    def __init__(self):\n",
    "        super().__init__()\n",
    "\n",
    "    def init_state(self, enc_all_outputs, *args):\n",
    "        raise NotImplementedError\n",
    "\n",
    "    def forward(self, X, state):\n",
    "        raise NotImplementedError"
   ]
  },
  {
   "cell_type": "markdown",
   "id": "47e4bb14",
   "metadata": {
    "slideshow": {
     "slide_type": "slide"
    }
   },
   "source": [
    "Putting the Encoder and Decoder Together"
   ]
  },
  {
   "cell_type": "code",
   "execution_count": 4,
   "id": "d232a673",
   "metadata": {
    "execution": {
     "iopub.execute_input": "2023-08-14T16:34:50.504104Z",
     "iopub.status.busy": "2023-08-14T16:34:50.503424Z",
     "iopub.status.idle": "2023-08-14T16:34:50.508813Z",
     "shell.execute_reply": "2023-08-14T16:34:50.508007Z"
    },
    "origin_pos": 17,
    "tab": [
     "pytorch"
    ]
   },
   "outputs": [],
   "source": [
    "class EncoderDecoder(d2l.Classifier):  \n",
    "    \"\"\"The base class for the encoder--decoder architecture.\"\"\"\n",
    "    def __init__(self, encoder, decoder):\n",
    "        super().__init__()\n",
    "        self.encoder = encoder\n",
    "        self.decoder = decoder\n",
    "\n",
    "    def forward(self, enc_X, dec_X, *args):\n",
    "        enc_all_outputs = self.encoder(enc_X, *args)\n",
    "        dec_state = self.decoder.init_state(enc_all_outputs, *args)\n",
    "        return self.decoder(dec_X, dec_state)[0]"
   ]
  }
 ],
 "metadata": {
  "celltoolbar": "Slideshow",
  "language_info": {
   "name": "python"
  },
  "required_libs": [],
  "rise": {
   "autolaunch": true,
   "enable_chalkboard": true,
   "overlay": "<div class='my-top-right'><img height=80px src='http://d2l.ai/_static/logo-with-text.png'/></div><div class='my-top-left'></div>",
   "scroll": true
  }
 },
 "nbformat": 4,
 "nbformat_minor": 5
}