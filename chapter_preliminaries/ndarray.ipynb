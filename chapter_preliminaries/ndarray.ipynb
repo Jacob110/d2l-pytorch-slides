{
 "cells": [
  {
   "cell_type": "markdown",
   "id": "94a0ae58",
   "metadata": {
    "slideshow": {
     "slide_type": "-"
    }
   },
   "source": [
    "# Data Manipulation\n",
    "\n"
   ]
  },
  {
   "cell_type": "markdown",
   "id": "5bcb9f7c",
   "metadata": {
    "slideshow": {
     "slide_type": "-"
    }
   },
   "source": [
    "To start, we import the PyTorch library.\n",
    "Note that the package name is `torch`"
   ]
  },
  {
   "cell_type": "code",
   "execution_count": 1,
   "id": "bd5df2f8",
   "metadata": {
    "execution": {
     "iopub.execute_input": "2023-08-14T16:43:13.357010Z",
     "iopub.status.busy": "2023-08-14T16:43:13.356362Z",
     "iopub.status.idle": "2023-08-14T16:43:15.401337Z",
     "shell.execute_reply": "2023-08-14T16:43:15.400162Z"
    },
    "origin_pos": 6,
    "tab": [
     "pytorch"
    ]
   },
   "outputs": [],
   "source": [
    "import torch"
   ]
  },
  {
   "cell_type": "markdown",
   "id": "495989d4",
   "metadata": {
    "slideshow": {
     "slide_type": "slide"
    }
   },
   "source": [
    "A tensor represents a (possibly multidimensional) array of numerical values"
   ]
  },
  {
   "cell_type": "code",
   "execution_count": 2,
   "id": "ddea1dcf",
   "metadata": {
    "execution": {
     "iopub.execute_input": "2023-08-14T16:43:15.405453Z",
     "iopub.status.busy": "2023-08-14T16:43:15.405052Z",
     "iopub.status.idle": "2023-08-14T16:43:15.434362Z",
     "shell.execute_reply": "2023-08-14T16:43:15.433488Z"
    },
    "origin_pos": 14,
    "tab": [
     "pytorch"
    ]
   },
   "outputs": [
    {
     "data": {
      "text/plain": [
       "tensor([ 0.,  1.,  2.,  3.,  4.,  5.,  6.,  7.,  8.,  9., 10., 11.])"
      ]
     },
     "execution_count": 2,
     "metadata": {},
     "output_type": "execute_result"
    }
   ],
   "source": [
    "x = torch.arange(12, dtype=torch.float32)\n",
    "x"
   ]
  },
  {
   "cell_type": "code",
   "execution_count": 3,
   "id": "4274747e",
   "metadata": {
    "execution": {
     "iopub.execute_input": "2023-08-14T16:43:15.439292Z",
     "iopub.status.busy": "2023-08-14T16:43:15.438318Z",
     "iopub.status.idle": "2023-08-14T16:43:15.444699Z",
     "shell.execute_reply": "2023-08-14T16:43:15.443644Z"
    },
    "origin_pos": 21,
    "tab": [
     "pytorch"
    ]
   },
   "outputs": [
    {
     "data": {
      "text/plain": [
       "12"
      ]
     },
     "execution_count": 3,
     "metadata": {},
     "output_type": "execute_result"
    }
   ],
   "source": [
    "x.numel()"
   ]
  },
  {
   "cell_type": "markdown",
   "id": "3297e3da",
   "metadata": {
    "slideshow": {
     "slide_type": "-"
    }
   },
   "source": [
    "We can access a tensor's *shape*"
   ]
  },
  {
   "cell_type": "code",
   "execution_count": 4,
   "id": "040c0307",
   "metadata": {
    "execution": {
     "iopub.execute_input": "2023-08-14T16:43:15.448502Z",
     "iopub.status.busy": "2023-08-14T16:43:15.447857Z",
     "iopub.status.idle": "2023-08-14T16:43:15.454347Z",
     "shell.execute_reply": "2023-08-14T16:43:15.453353Z"
    },
    "origin_pos": 24,
    "tab": [
     "pytorch"
    ]
   },
   "outputs": [
    {
     "data": {
      "text/plain": [
       "torch.Size([12])"
      ]
     },
     "execution_count": 4,
     "metadata": {},
     "output_type": "execute_result"
    }
   ],
   "source": [
    "x.shape"
   ]
  },
  {
   "cell_type": "markdown",
   "id": "41fe18fe",
   "metadata": {
    "slideshow": {
     "slide_type": "slide"
    }
   },
   "source": [
    "Change the shape of a tensor\n",
    "without altering its size or values"
   ]
  },
  {
   "cell_type": "code",
   "execution_count": 5,
   "id": "6d31543d",
   "metadata": {
    "execution": {
     "iopub.execute_input": "2023-08-14T16:43:15.458283Z",
     "iopub.status.busy": "2023-08-14T16:43:15.457626Z",
     "iopub.status.idle": "2023-08-14T16:43:15.465021Z",
     "shell.execute_reply": "2023-08-14T16:43:15.464013Z"
    },
    "origin_pos": 26,
    "tab": [
     "pytorch"
    ]
   },
   "outputs": [
    {
     "data": {
      "text/plain": [
       "tensor([[ 0.,  1.,  2.,  3.],\n",
       "        [ 4.,  5.,  6.,  7.],\n",
       "        [ 8.,  9., 10., 11.]])"
      ]
     },
     "execution_count": 5,
     "metadata": {},
     "output_type": "execute_result"
    }
   ],
   "source": [
    "X = x.reshape(3, 4)\n",
    "X"
   ]
  },
  {
   "cell_type": "markdown",
   "id": "8439bb31",
   "metadata": {
    "slideshow": {
     "slide_type": "slide"
    }
   },
   "source": [
    "We can construct a tensor with all elements set to 0\n",
    "or one"
   ]
  },
  {
   "cell_type": "code",
   "execution_count": 6,
   "id": "2fef3f9c",
   "metadata": {
    "execution": {
     "iopub.execute_input": "2023-08-14T16:43:15.469123Z",
     "iopub.status.busy": "2023-08-14T16:43:15.468507Z",
     "iopub.status.idle": "2023-08-14T16:43:15.476197Z",
     "shell.execute_reply": "2023-08-14T16:43:15.475128Z"
    },
    "origin_pos": 30,
    "tab": [
     "pytorch"
    ]
   },
   "outputs": [
    {
     "data": {
      "text/plain": [
       "tensor([[[0., 0., 0., 0.],\n",
       "         [0., 0., 0., 0.],\n",
       "         [0., 0., 0., 0.]],\n",
       "\n",
       "        [[0., 0., 0., 0.],\n",
       "         [0., 0., 0., 0.],\n",
       "         [0., 0., 0., 0.]]])"
      ]
     },
     "execution_count": 6,
     "metadata": {},
     "output_type": "execute_result"
    }
   ],
   "source": [
    "torch.zeros((2, 3, 4))"
   ]
  },
  {
   "cell_type": "code",
   "execution_count": 7,
   "id": "ed76e05e",
   "metadata": {
    "execution": {
     "iopub.execute_input": "2023-08-14T16:43:15.480266Z",
     "iopub.status.busy": "2023-08-14T16:43:15.479488Z",
     "iopub.status.idle": "2023-08-14T16:43:15.487155Z",
     "shell.execute_reply": "2023-08-14T16:43:15.486158Z"
    },
    "origin_pos": 35,
    "tab": [
     "pytorch"
    ]
   },
   "outputs": [
    {
     "data": {
      "text/plain": [
       "tensor([[[1., 1., 1., 1.],\n",
       "         [1., 1., 1., 1.],\n",
       "         [1., 1., 1., 1.]],\n",
       "\n",
       "        [[1., 1., 1., 1.],\n",
       "         [1., 1., 1., 1.],\n",
       "         [1., 1., 1., 1.]]])"
      ]
     },
     "execution_count": 7,
     "metadata": {},
     "output_type": "execute_result"
    }
   ],
   "source": [
    "torch.ones((2, 3, 4))"
   ]
  },
  {
   "cell_type": "markdown",
   "id": "495d396e",
   "metadata": {
    "slideshow": {
     "slide_type": "slide"
    }
   },
   "source": [
    "Sample each element randomly (and independently)"
   ]
  },
  {
   "cell_type": "code",
   "execution_count": 8,
   "id": "546645e0",
   "metadata": {
    "execution": {
     "iopub.execute_input": "2023-08-14T16:43:15.490853Z",
     "iopub.status.busy": "2023-08-14T16:43:15.490567Z",
     "iopub.status.idle": "2023-08-14T16:43:15.498278Z",
     "shell.execute_reply": "2023-08-14T16:43:15.497258Z"
    },
    "origin_pos": 40,
    "tab": [
     "pytorch"
    ]
   },
   "outputs": [
    {
     "data": {
      "text/plain": [
       "tensor([[ 1.3409, -0.1467,  1.6857, -1.7043],\n",
       "        [-2.4909, -0.6642,  1.5676,  0.9263],\n",
       "        [ 1.1331, -1.0629,  0.3751, -0.7463]])"
      ]
     },
     "execution_count": 8,
     "metadata": {},
     "output_type": "execute_result"
    }
   ],
   "source": [
    "torch.randn(3, 4)"
   ]
  },
  {
   "cell_type": "markdown",
   "id": "97d750e8",
   "metadata": {
    "slideshow": {
     "slide_type": "slide"
    }
   },
   "source": [
    "Supplying the exact values for each element"
   ]
  },
  {
   "cell_type": "code",
   "execution_count": 9,
   "id": "291c8d64",
   "metadata": {
    "execution": {
     "iopub.execute_input": "2023-08-14T16:43:15.502310Z",
     "iopub.status.busy": "2023-08-14T16:43:15.501932Z",
     "iopub.status.idle": "2023-08-14T16:43:15.510167Z",
     "shell.execute_reply": "2023-08-14T16:43:15.508981Z"
    },
    "origin_pos": 45,
    "tab": [
     "pytorch"
    ]
   },
   "outputs": [
    {
     "data": {
      "text/plain": [
       "tensor([[2, 1, 4, 3],\n",
       "        [1, 2, 3, 4],\n",
       "        [4, 3, 2, 1]])"
      ]
     },
     "execution_count": 9,
     "metadata": {},
     "output_type": "execute_result"
    }
   ],
   "source": [
    "torch.tensor([[2, 1, 4, 3], [1, 2, 3, 4], [4, 3, 2, 1]])"
   ]
  },
  {
   "cell_type": "markdown",
   "id": "bb67f4a7",
   "metadata": {
    "slideshow": {
     "slide_type": "slide"
    }
   },
   "source": [
    "`[-1]` selects the last row and `[1:3]`\n",
    "selects the second and third rows"
   ]
  },
  {
   "cell_type": "code",
   "execution_count": 10,
   "id": "58ca7eb4",
   "metadata": {
    "execution": {
     "iopub.execute_input": "2023-08-14T16:43:15.514253Z",
     "iopub.status.busy": "2023-08-14T16:43:15.513647Z",
     "iopub.status.idle": "2023-08-14T16:43:15.521359Z",
     "shell.execute_reply": "2023-08-14T16:43:15.520515Z"
    },
    "origin_pos": 49,
    "tab": [
     "pytorch"
    ]
   },
   "outputs": [
    {
     "data": {
      "text/plain": [
       "(tensor([ 8.,  9., 10., 11.]),\n",
       " tensor([[ 4.,  5.,  6.,  7.],\n",
       "         [ 8.,  9., 10., 11.]]))"
      ]
     },
     "execution_count": 10,
     "metadata": {},
     "output_type": "execute_result"
    }
   ],
   "source": [
    "X[-1], X[1:3]"
   ]
  },
  {
   "cell_type": "markdown",
   "id": "e38a9891",
   "metadata": {
    "slideshow": {
     "slide_type": "-"
    }
   },
   "source": [
    "We can also *write* elements of a matrix by specifying indices"
   ]
  },
  {
   "cell_type": "code",
   "execution_count": 11,
   "id": "12534846",
   "metadata": {
    "execution": {
     "iopub.execute_input": "2023-08-14T16:43:15.525224Z",
     "iopub.status.busy": "2023-08-14T16:43:15.524854Z",
     "iopub.status.idle": "2023-08-14T16:43:15.532679Z",
     "shell.execute_reply": "2023-08-14T16:43:15.531637Z"
    },
    "origin_pos": 52,
    "tab": [
     "pytorch"
    ]
   },
   "outputs": [
    {
     "data": {
      "text/plain": [
       "tensor([[ 0.,  1.,  2.,  3.],\n",
       "        [ 4.,  5., 17.,  7.],\n",
       "        [ 8.,  9., 10., 11.]])"
      ]
     },
     "execution_count": 11,
     "metadata": {},
     "output_type": "execute_result"
    }
   ],
   "source": [
    "X[1, 2] = 17\n",
    "X"
   ]
  },
  {
   "cell_type": "markdown",
   "id": "7ddffafb",
   "metadata": {
    "slideshow": {
     "slide_type": "slide"
    }
   },
   "source": [
    "To assign multiple elements the same value,\n",
    "we apply the indexing on the left-hand side \n",
    "of the assignment operation"
   ]
  },
  {
   "cell_type": "code",
   "execution_count": 12,
   "id": "0d667dd2",
   "metadata": {
    "execution": {
     "iopub.execute_input": "2023-08-14T16:43:15.536461Z",
     "iopub.status.busy": "2023-08-14T16:43:15.536184Z",
     "iopub.status.idle": "2023-08-14T16:43:15.543214Z",
     "shell.execute_reply": "2023-08-14T16:43:15.542398Z"
    },
    "origin_pos": 56,
    "tab": [
     "pytorch"
    ]
   },
   "outputs": [
    {
     "data": {
      "text/plain": [
       "tensor([[12., 12., 12., 12.],\n",
       "        [12., 12., 12., 12.],\n",
       "        [ 8.,  9., 10., 11.]])"
      ]
     },
     "execution_count": 12,
     "metadata": {},
     "output_type": "execute_result"
    }
   ],
   "source": [
    "X[:2, :] = 12\n",
    "X"
   ]
  },
  {
   "cell_type": "code",
   "execution_count": 13,
   "id": "094bc79c",
   "metadata": {
    "execution": {
     "iopub.execute_input": "2023-08-14T16:43:15.547237Z",
     "iopub.status.busy": "2023-08-14T16:43:15.546543Z",
     "iopub.status.idle": "2023-08-14T16:43:15.555912Z",
     "shell.execute_reply": "2023-08-14T16:43:15.555133Z"
    },
    "origin_pos": 61,
    "tab": [
     "pytorch"
    ]
   },
   "outputs": [
    {
     "data": {
      "text/plain": [
       "tensor([162754.7969, 162754.7969, 162754.7969, 162754.7969, 162754.7969,\n",
       "        162754.7969, 162754.7969, 162754.7969,   2980.9580,   8103.0840,\n",
       "         22026.4648,  59874.1406])"
      ]
     },
     "execution_count": 13,
     "metadata": {},
     "output_type": "execute_result"
    }
   ],
   "source": [
    "torch.exp(x)"
   ]
  },
  {
   "cell_type": "code",
   "execution_count": 14,
   "id": "20e00a5b",
   "metadata": {
    "execution": {
     "iopub.execute_input": "2023-08-14T16:43:15.559932Z",
     "iopub.status.busy": "2023-08-14T16:43:15.559258Z",
     "iopub.status.idle": "2023-08-14T16:43:15.569256Z",
     "shell.execute_reply": "2023-08-14T16:43:15.568325Z"
    },
    "origin_pos": 66,
    "tab": [
     "pytorch"
    ]
   },
   "outputs": [
    {
     "data": {
      "text/plain": [
       "(tensor([ 3.,  4.,  6., 10.]),\n",
       " tensor([-1.,  0.,  2.,  6.]),\n",
       " tensor([ 2.,  4.,  8., 16.]),\n",
       " tensor([0.5000, 1.0000, 2.0000, 4.0000]),\n",
       " tensor([ 1.,  4., 16., 64.]))"
      ]
     },
     "execution_count": 14,
     "metadata": {},
     "output_type": "execute_result"
    }
   ],
   "source": [
    "x = torch.tensor([1.0, 2, 4, 8])\n",
    "y = torch.tensor([2, 2, 2, 2])\n",
    "x + y, x - y, x * y, x / y, x ** y"
   ]
  },
  {
   "cell_type": "markdown",
   "id": "afffb34e",
   "metadata": {
    "slideshow": {
     "slide_type": "slide"
    }
   },
   "source": [
    "*concatenate* multiple tensors"
   ]
  },
  {
   "cell_type": "code",
   "execution_count": 15,
   "id": "f6023cc0",
   "metadata": {
    "execution": {
     "iopub.execute_input": "2023-08-14T16:43:15.573547Z",
     "iopub.status.busy": "2023-08-14T16:43:15.572808Z",
     "iopub.status.idle": "2023-08-14T16:43:15.583445Z",
     "shell.execute_reply": "2023-08-14T16:43:15.582489Z"
    },
    "origin_pos": 71,
    "tab": [
     "pytorch"
    ]
   },
   "outputs": [
    {
     "data": {
      "text/plain": [
       "(tensor([[ 0.,  1.,  2.,  3.],\n",
       "         [ 4.,  5.,  6.,  7.],\n",
       "         [ 8.,  9., 10., 11.],\n",
       "         [ 2.,  1.,  4.,  3.],\n",
       "         [ 1.,  2.,  3.,  4.],\n",
       "         [ 4.,  3.,  2.,  1.]]),\n",
       " tensor([[ 0.,  1.,  2.,  3.,  2.,  1.,  4.,  3.],\n",
       "         [ 4.,  5.,  6.,  7.,  1.,  2.,  3.,  4.],\n",
       "         [ 8.,  9., 10., 11.,  4.,  3.,  2.,  1.]]))"
      ]
     },
     "execution_count": 15,
     "metadata": {},
     "output_type": "execute_result"
    }
   ],
   "source": [
    "X = torch.arange(12, dtype=torch.float32).reshape((3,4))\n",
    "Y = torch.tensor([[2.0, 1, 4, 3], [1, 2, 3, 4], [4, 3, 2, 1]])\n",
    "torch.cat((X, Y), dim=0), torch.cat((X, Y), dim=1)"
   ]
  },
  {
   "cell_type": "markdown",
   "id": "30dc9a09",
   "metadata": {
    "slideshow": {
     "slide_type": "slide"
    }
   },
   "source": [
    "Construct a binary tensor via *logical statements*"
   ]
  },
  {
   "cell_type": "code",
   "execution_count": 16,
   "id": "d0df93f3",
   "metadata": {
    "execution": {
     "iopub.execute_input": "2023-08-14T16:43:15.587802Z",
     "iopub.status.busy": "2023-08-14T16:43:15.587163Z",
     "iopub.status.idle": "2023-08-14T16:43:15.594146Z",
     "shell.execute_reply": "2023-08-14T16:43:15.593060Z"
    },
    "origin_pos": 75,
    "tab": [
     "pytorch"
    ]
   },
   "outputs": [
    {
     "data": {
      "text/plain": [
       "tensor([[False,  True, False,  True],\n",
       "        [False, False, False, False],\n",
       "        [False, False, False, False]])"
      ]
     },
     "execution_count": 16,
     "metadata": {},
     "output_type": "execute_result"
    }
   ],
   "source": [
    "X == Y"
   ]
  },
  {
   "cell_type": "markdown",
   "id": "c9ef6699",
   "metadata": {
    "slideshow": {
     "slide_type": "slide"
    }
   },
   "source": [
    "Summing all the elements in the tensor"
   ]
  },
  {
   "cell_type": "code",
   "execution_count": 17,
   "id": "dafefd98",
   "metadata": {
    "execution": {
     "iopub.execute_input": "2023-08-14T16:43:15.598170Z",
     "iopub.status.busy": "2023-08-14T16:43:15.597812Z",
     "iopub.status.idle": "2023-08-14T16:43:15.604751Z",
     "shell.execute_reply": "2023-08-14T16:43:15.603859Z"
    },
    "origin_pos": 77,
    "tab": [
     "pytorch"
    ]
   },
   "outputs": [
    {
     "data": {
      "text/plain": [
       "tensor(66.)"
      ]
     },
     "execution_count": 17,
     "metadata": {},
     "output_type": "execute_result"
    }
   ],
   "source": [
    "X.sum()"
   ]
  },
  {
   "cell_type": "markdown",
   "id": "fdd91afa",
   "metadata": {
    "slideshow": {
     "slide_type": "slide"
    }
   },
   "source": [
    "Perform elementwise binary operations\n",
    "by invoking the *broadcasting mechanism*"
   ]
  },
  {
   "cell_type": "code",
   "execution_count": 18,
   "id": "45b51d77",
   "metadata": {
    "execution": {
     "iopub.execute_input": "2023-08-14T16:43:15.608461Z",
     "iopub.status.busy": "2023-08-14T16:43:15.608121Z",
     "iopub.status.idle": "2023-08-14T16:43:15.615321Z",
     "shell.execute_reply": "2023-08-14T16:43:15.614363Z"
    },
    "origin_pos": 81,
    "tab": [
     "pytorch"
    ]
   },
   "outputs": [
    {
     "data": {
      "text/plain": [
       "(tensor([[0],\n",
       "         [1],\n",
       "         [2]]),\n",
       " tensor([[0, 1]]))"
      ]
     },
     "execution_count": 18,
     "metadata": {},
     "output_type": "execute_result"
    }
   ],
   "source": [
    "a = torch.arange(3).reshape((3, 1))\n",
    "b = torch.arange(2).reshape((1, 2))\n",
    "a, b"
   ]
  },
  {
   "cell_type": "code",
   "execution_count": 19,
   "id": "7c9e22ad",
   "metadata": {
    "execution": {
     "iopub.execute_input": "2023-08-14T16:43:15.619325Z",
     "iopub.status.busy": "2023-08-14T16:43:15.618733Z",
     "iopub.status.idle": "2023-08-14T16:43:15.624741Z",
     "shell.execute_reply": "2023-08-14T16:43:15.623931Z"
    },
    "origin_pos": 85,
    "tab": [
     "pytorch"
    ]
   },
   "outputs": [
    {
     "data": {
      "text/plain": [
       "tensor([[0, 1],\n",
       "        [1, 2],\n",
       "        [2, 3]])"
      ]
     },
     "execution_count": 19,
     "metadata": {},
     "output_type": "execute_result"
    }
   ],
   "source": [
    "a + b"
   ]
  },
  {
   "cell_type": "markdown",
   "id": "8fa8a76e",
   "metadata": {
    "slideshow": {
     "slide_type": "slide"
    }
   },
   "source": [
    "Running operations can cause new memory to be\n",
    "allocated to host results"
   ]
  },
  {
   "cell_type": "code",
   "execution_count": 20,
   "id": "eec3358e",
   "metadata": {
    "execution": {
     "iopub.execute_input": "2023-08-14T16:43:15.628006Z",
     "iopub.status.busy": "2023-08-14T16:43:15.627472Z",
     "iopub.status.idle": "2023-08-14T16:43:15.632622Z",
     "shell.execute_reply": "2023-08-14T16:43:15.631878Z"
    },
    "origin_pos": 87,
    "tab": [
     "pytorch"
    ]
   },
   "outputs": [
    {
     "data": {
      "text/plain": [
       "False"
      ]
     },
     "execution_count": 20,
     "metadata": {},
     "output_type": "execute_result"
    }
   ],
   "source": [
    "before = id(Y)\n",
    "Y = Y + X\n",
    "id(Y) == before"
   ]
  },
  {
   "cell_type": "markdown",
   "id": "2e4fd29c",
   "metadata": {
    "slideshow": {
     "slide_type": "-"
    }
   },
   "source": [
    "Performing in-place operations"
   ]
  },
  {
   "cell_type": "code",
   "execution_count": 21,
   "id": "3d539108",
   "metadata": {
    "execution": {
     "iopub.execute_input": "2023-08-14T16:43:15.635934Z",
     "iopub.status.busy": "2023-08-14T16:43:15.635412Z",
     "iopub.status.idle": "2023-08-14T16:43:15.640414Z",
     "shell.execute_reply": "2023-08-14T16:43:15.639541Z"
    },
    "origin_pos": 92,
    "tab": [
     "pytorch"
    ]
   },
   "outputs": [
    {
     "name": "stdout",
     "output_type": "stream",
     "text": [
      "id(Z): 140119269288032\n",
      "id(Z): 140119269288032\n"
     ]
    }
   ],
   "source": [
    "Z = torch.zeros_like(Y)\n",
    "print('id(Z):', id(Z))\n",
    "Z[:] = X + Y\n",
    "print('id(Z):', id(Z))"
   ]
  },
  {
   "cell_type": "markdown",
   "id": "2a2e15f9",
   "metadata": {
    "slideshow": {
     "slide_type": "slide"
    }
   },
   "source": [
    "If the value of `X` is not reused in subsequent computations,\n",
    "we can also use `X[:] = X + Y` or `X += Y`\n",
    "to reduce the memory overhead of the operation"
   ]
  },
  {
   "cell_type": "code",
   "execution_count": 22,
   "id": "d8b8dc8d",
   "metadata": {
    "execution": {
     "iopub.execute_input": "2023-08-14T16:43:15.643850Z",
     "iopub.status.busy": "2023-08-14T16:43:15.643187Z",
     "iopub.status.idle": "2023-08-14T16:43:15.648458Z",
     "shell.execute_reply": "2023-08-14T16:43:15.647672Z"
    },
    "origin_pos": 97,
    "tab": [
     "pytorch"
    ]
   },
   "outputs": [
    {
     "data": {
      "text/plain": [
       "True"
      ]
     },
     "execution_count": 22,
     "metadata": {},
     "output_type": "execute_result"
    }
   ],
   "source": [
    "before = id(X)\n",
    "X += Y\n",
    "id(X) == before"
   ]
  },
  {
   "cell_type": "markdown",
   "id": "6aa35421",
   "metadata": {
    "slideshow": {
     "slide_type": "slide"
    }
   },
   "source": [
    "Converting to a NumPy tensor (`ndarray`)"
   ]
  },
  {
   "cell_type": "code",
   "execution_count": 23,
   "id": "5f2251b2",
   "metadata": {
    "execution": {
     "iopub.execute_input": "2023-08-14T16:43:15.651872Z",
     "iopub.status.busy": "2023-08-14T16:43:15.651257Z",
     "iopub.status.idle": "2023-08-14T16:43:15.656574Z",
     "shell.execute_reply": "2023-08-14T16:43:15.655810Z"
    },
    "origin_pos": 103,
    "tab": [
     "pytorch"
    ]
   },
   "outputs": [
    {
     "data": {
      "text/plain": [
       "(numpy.ndarray, torch.Tensor)"
      ]
     },
     "execution_count": 23,
     "metadata": {},
     "output_type": "execute_result"
    }
   ],
   "source": [
    "A = X.numpy()\n",
    "B = torch.from_numpy(A)\n",
    "type(A), type(B)"
   ]
  },
  {
   "cell_type": "markdown",
   "id": "120bb98b",
   "metadata": {
    "slideshow": {
     "slide_type": "-"
    }
   },
   "source": [
    "Convert a size-1 tensor to a Python scalar"
   ]
  },
  {
   "cell_type": "code",
   "execution_count": 24,
   "id": "39414c3a",
   "metadata": {
    "execution": {
     "iopub.execute_input": "2023-08-14T16:43:15.660014Z",
     "iopub.status.busy": "2023-08-14T16:43:15.659382Z",
     "iopub.status.idle": "2023-08-14T16:43:15.665315Z",
     "shell.execute_reply": "2023-08-14T16:43:15.664525Z"
    },
    "origin_pos": 108,
    "tab": [
     "pytorch"
    ]
   },
   "outputs": [
    {
     "data": {
      "text/plain": [
       "(tensor([3.5000]), 3.5, 3.5, 3)"
      ]
     },
     "execution_count": 24,
     "metadata": {},
     "output_type": "execute_result"
    }
   ],
   "source": [
    "a = torch.tensor([3.5])\n",
    "a, a.item(), float(a), int(a)"
   ]
  }
 ],
 "metadata": {
  "celltoolbar": "Slideshow",
  "language_info": {
   "name": "python"
  },
  "required_libs": [],
  "rise": {
   "autolaunch": true,
   "enable_chalkboard": true,
   "overlay": "<div class='my-top-right'><img height=80px src='http://d2l.ai/_static/logo-with-text.png'/></div><div class='my-top-left'></div>",
   "scroll": true
  }
 },
 "nbformat": 4,
 "nbformat_minor": 5
}