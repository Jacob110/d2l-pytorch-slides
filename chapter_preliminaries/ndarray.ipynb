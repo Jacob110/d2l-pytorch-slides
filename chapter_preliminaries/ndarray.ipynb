{
 "cells": [
  {
   "cell_type": "markdown",
   "id": "dab6c765",
   "metadata": {
    "slideshow": {
     "slide_type": "-"
    }
   },
   "source": [
    "# Data Manipulation\n",
    "\n"
   ]
  },
  {
   "cell_type": "markdown",
   "id": "850c91a7",
   "metadata": {
    "slideshow": {
     "slide_type": "-"
    }
   },
   "source": [
    "To start, we import the PyTorch library.\n",
    "Note that the package name is `torch`"
   ]
  },
  {
   "cell_type": "code",
   "execution_count": 1,
   "id": "e5f8e672",
   "metadata": {
    "execution": {
     "iopub.execute_input": "2023-08-18T07:06:30.353702Z",
     "iopub.status.busy": "2023-08-18T07:06:30.352941Z",
     "iopub.status.idle": "2023-08-18T07:06:32.088267Z",
     "shell.execute_reply": "2023-08-18T07:06:32.087404Z"
    },
    "origin_pos": 6,
    "tab": [
     "pytorch"
    ]
   },
   "outputs": [],
   "source": [
    "import torch"
   ]
  },
  {
   "cell_type": "markdown",
   "id": "a3e7b039",
   "metadata": {
    "slideshow": {
     "slide_type": "slide"
    }
   },
   "source": [
    "A tensor represents a (possibly multidimensional) array of numerical values"
   ]
  },
  {
   "cell_type": "code",
   "execution_count": 2,
   "id": "3cda9ae2",
   "metadata": {
    "execution": {
     "iopub.execute_input": "2023-08-18T07:06:32.092303Z",
     "iopub.status.busy": "2023-08-18T07:06:32.091753Z",
     "iopub.status.idle": "2023-08-18T07:06:32.101686Z",
     "shell.execute_reply": "2023-08-18T07:06:32.100854Z"
    },
    "origin_pos": 14,
    "tab": [
     "pytorch"
    ]
   },
   "outputs": [
    {
     "data": {
      "text/plain": [
       "tensor([ 0.,  1.,  2.,  3.,  4.,  5.,  6.,  7.,  8.,  9., 10., 11.])"
      ]
     },
     "execution_count": 2,
     "metadata": {},
     "output_type": "execute_result"
    }
   ],
   "source": [
    "x = torch.arange(12, dtype=torch.float32)\n",
    "x"
   ]
  },
  {
   "cell_type": "code",
   "execution_count": 3,
   "id": "cc7c80d7",
   "metadata": {
    "execution": {
     "iopub.execute_input": "2023-08-18T07:06:32.105254Z",
     "iopub.status.busy": "2023-08-18T07:06:32.104648Z",
     "iopub.status.idle": "2023-08-18T07:06:32.111432Z",
     "shell.execute_reply": "2023-08-18T07:06:32.110387Z"
    },
    "origin_pos": 21,
    "tab": [
     "pytorch"
    ]
   },
   "outputs": [
    {
     "data": {
      "text/plain": [
       "12"
      ]
     },
     "execution_count": 3,
     "metadata": {},
     "output_type": "execute_result"
    }
   ],
   "source": [
    "x.numel()"
   ]
  },
  {
   "cell_type": "markdown",
   "id": "57c85d71",
   "metadata": {
    "slideshow": {
     "slide_type": "-"
    }
   },
   "source": [
    "We can access a tensor's *shape*"
   ]
  },
  {
   "cell_type": "code",
   "execution_count": 4,
   "id": "c3495b2d",
   "metadata": {
    "execution": {
     "iopub.execute_input": "2023-08-18T07:06:32.115169Z",
     "iopub.status.busy": "2023-08-18T07:06:32.114263Z",
     "iopub.status.idle": "2023-08-18T07:06:32.120487Z",
     "shell.execute_reply": "2023-08-18T07:06:32.119411Z"
    },
    "origin_pos": 24,
    "tab": [
     "pytorch"
    ]
   },
   "outputs": [
    {
     "data": {
      "text/plain": [
       "torch.Size([12])"
      ]
     },
     "execution_count": 4,
     "metadata": {},
     "output_type": "execute_result"
    }
   ],
   "source": [
    "x.shape"
   ]
  },
  {
   "cell_type": "markdown",
   "id": "ab661fce",
   "metadata": {
    "slideshow": {
     "slide_type": "slide"
    }
   },
   "source": [
    "Change the shape of a tensor\n",
    "without altering its size or values"
   ]
  },
  {
   "cell_type": "code",
   "execution_count": 5,
   "id": "c398753a",
   "metadata": {
    "execution": {
     "iopub.execute_input": "2023-08-18T07:06:32.124340Z",
     "iopub.status.busy": "2023-08-18T07:06:32.123461Z",
     "iopub.status.idle": "2023-08-18T07:06:32.130536Z",
     "shell.execute_reply": "2023-08-18T07:06:32.129460Z"
    },
    "origin_pos": 26,
    "tab": [
     "pytorch"
    ]
   },
   "outputs": [
    {
     "data": {
      "text/plain": [
       "tensor([[ 0.,  1.,  2.,  3.],\n",
       "        [ 4.,  5.,  6.,  7.],\n",
       "        [ 8.,  9., 10., 11.]])"
      ]
     },
     "execution_count": 5,
     "metadata": {},
     "output_type": "execute_result"
    }
   ],
   "source": [
    "X = x.reshape(3, 4)\n",
    "X"
   ]
  },
  {
   "cell_type": "markdown",
   "id": "9be066a3",
   "metadata": {
    "slideshow": {
     "slide_type": "slide"
    }
   },
   "source": [
    "We can construct a tensor with all elements set to 0\n",
    "or one"
   ]
  },
  {
   "cell_type": "code",
   "execution_count": 6,
   "id": "2e75b6d7",
   "metadata": {
    "execution": {
     "iopub.execute_input": "2023-08-18T07:06:32.134165Z",
     "iopub.status.busy": "2023-08-18T07:06:32.133424Z",
     "iopub.status.idle": "2023-08-18T07:06:32.140287Z",
     "shell.execute_reply": "2023-08-18T07:06:32.139207Z"
    },
    "origin_pos": 30,
    "tab": [
     "pytorch"
    ]
   },
   "outputs": [
    {
     "data": {
      "text/plain": [
       "tensor([[[0., 0., 0., 0.],\n",
       "         [0., 0., 0., 0.],\n",
       "         [0., 0., 0., 0.]],\n",
       "\n",
       "        [[0., 0., 0., 0.],\n",
       "         [0., 0., 0., 0.],\n",
       "         [0., 0., 0., 0.]]])"
      ]
     },
     "execution_count": 6,
     "metadata": {},
     "output_type": "execute_result"
    }
   ],
   "source": [
    "torch.zeros((2, 3, 4))"
   ]
  },
  {
   "cell_type": "code",
   "execution_count": 7,
   "id": "1c7ccfc3",
   "metadata": {
    "execution": {
     "iopub.execute_input": "2023-08-18T07:06:32.144010Z",
     "iopub.status.busy": "2023-08-18T07:06:32.143193Z",
     "iopub.status.idle": "2023-08-18T07:06:32.150279Z",
     "shell.execute_reply": "2023-08-18T07:06:32.149441Z"
    },
    "origin_pos": 35,
    "tab": [
     "pytorch"
    ]
   },
   "outputs": [
    {
     "data": {
      "text/plain": [
       "tensor([[[1., 1., 1., 1.],\n",
       "         [1., 1., 1., 1.],\n",
       "         [1., 1., 1., 1.]],\n",
       "\n",
       "        [[1., 1., 1., 1.],\n",
       "         [1., 1., 1., 1.],\n",
       "         [1., 1., 1., 1.]]])"
      ]
     },
     "execution_count": 7,
     "metadata": {},
     "output_type": "execute_result"
    }
   ],
   "source": [
    "torch.ones((2, 3, 4))"
   ]
  },
  {
   "cell_type": "markdown",
   "id": "f2254a55",
   "metadata": {
    "slideshow": {
     "slide_type": "slide"
    }
   },
   "source": [
    "Sample each element randomly (and independently)"
   ]
  },
  {
   "cell_type": "code",
   "execution_count": 8,
   "id": "82af3450",
   "metadata": {
    "execution": {
     "iopub.execute_input": "2023-08-18T07:06:32.153751Z",
     "iopub.status.busy": "2023-08-18T07:06:32.152986Z",
     "iopub.status.idle": "2023-08-18T07:06:32.159168Z",
     "shell.execute_reply": "2023-08-18T07:06:32.158391Z"
    },
    "origin_pos": 40,
    "tab": [
     "pytorch"
    ]
   },
   "outputs": [
    {
     "data": {
      "text/plain": [
       "tensor([[ 1.5124,  0.2588,  0.5924,  0.2041],\n",
       "        [-0.9516,  1.5309,  0.7024,  0.0892],\n",
       "        [ 1.4337, -0.3017, -1.4316,  0.5385]])"
      ]
     },
     "execution_count": 8,
     "metadata": {},
     "output_type": "execute_result"
    }
   ],
   "source": [
    "torch.randn(3, 4)"
   ]
  },
  {
   "cell_type": "markdown",
   "id": "9c664dd9",
   "metadata": {
    "slideshow": {
     "slide_type": "slide"
    }
   },
   "source": [
    "Supplying the exact values for each element"
   ]
  },
  {
   "cell_type": "code",
   "execution_count": 9,
   "id": "08fdb9e0",
   "metadata": {
    "execution": {
     "iopub.execute_input": "2023-08-18T07:06:32.162251Z",
     "iopub.status.busy": "2023-08-18T07:06:32.161977Z",
     "iopub.status.idle": "2023-08-18T07:06:32.168790Z",
     "shell.execute_reply": "2023-08-18T07:06:32.167645Z"
    },
    "origin_pos": 45,
    "tab": [
     "pytorch"
    ]
   },
   "outputs": [
    {
     "data": {
      "text/plain": [
       "tensor([[2, 1, 4, 3],\n",
       "        [1, 2, 3, 4],\n",
       "        [4, 3, 2, 1]])"
      ]
     },
     "execution_count": 9,
     "metadata": {},
     "output_type": "execute_result"
    }
   ],
   "source": [
    "torch.tensor([[2, 1, 4, 3], [1, 2, 3, 4], [4, 3, 2, 1]])"
   ]
  },
  {
   "cell_type": "markdown",
   "id": "429ed354",
   "metadata": {
    "slideshow": {
     "slide_type": "slide"
    }
   },
   "source": [
    "`[-1]` selects the last row and `[1:3]`\n",
    "selects the second and third rows"
   ]
  },
  {
   "cell_type": "code",
   "execution_count": 10,
   "id": "7d2e1365",
   "metadata": {
    "execution": {
     "iopub.execute_input": "2023-08-18T07:06:32.172566Z",
     "iopub.status.busy": "2023-08-18T07:06:32.171672Z",
     "iopub.status.idle": "2023-08-18T07:06:32.179107Z",
     "shell.execute_reply": "2023-08-18T07:06:32.178066Z"
    },
    "origin_pos": 49,
    "tab": [
     "pytorch"
    ]
   },
   "outputs": [
    {
     "data": {
      "text/plain": [
       "(tensor([ 8.,  9., 10., 11.]),\n",
       " tensor([[ 4.,  5.,  6.,  7.],\n",
       "         [ 8.,  9., 10., 11.]]))"
      ]
     },
     "execution_count": 10,
     "metadata": {},
     "output_type": "execute_result"
    }
   ],
   "source": [
    "X[-1], X[1:3]"
   ]
  },
  {
   "cell_type": "markdown",
   "id": "d614115e",
   "metadata": {
    "slideshow": {
     "slide_type": "-"
    }
   },
   "source": [
    "We can also *write* elements of a matrix by specifying indices"
   ]
  },
  {
   "cell_type": "code",
   "execution_count": 11,
   "id": "832ffa69",
   "metadata": {
    "execution": {
     "iopub.execute_input": "2023-08-18T07:06:32.182822Z",
     "iopub.status.busy": "2023-08-18T07:06:32.181967Z",
     "iopub.status.idle": "2023-08-18T07:06:32.188942Z",
     "shell.execute_reply": "2023-08-18T07:06:32.187923Z"
    },
    "origin_pos": 52,
    "tab": [
     "pytorch"
    ]
   },
   "outputs": [
    {
     "data": {
      "text/plain": [
       "tensor([[ 0.,  1.,  2.,  3.],\n",
       "        [ 4.,  5., 17.,  7.],\n",
       "        [ 8.,  9., 10., 11.]])"
      ]
     },
     "execution_count": 11,
     "metadata": {},
     "output_type": "execute_result"
    }
   ],
   "source": [
    "X[1, 2] = 17\n",
    "X"
   ]
  },
  {
   "cell_type": "markdown",
   "id": "81885762",
   "metadata": {
    "slideshow": {
     "slide_type": "slide"
    }
   },
   "source": [
    "To assign multiple elements the same value,\n",
    "we apply the indexing on the left-hand side \n",
    "of the assignment operation"
   ]
  },
  {
   "cell_type": "code",
   "execution_count": 12,
   "id": "ffdc9e0b",
   "metadata": {
    "execution": {
     "iopub.execute_input": "2023-08-18T07:06:32.192389Z",
     "iopub.status.busy": "2023-08-18T07:06:32.191654Z",
     "iopub.status.idle": "2023-08-18T07:06:32.198592Z",
     "shell.execute_reply": "2023-08-18T07:06:32.197521Z"
    },
    "origin_pos": 56,
    "tab": [
     "pytorch"
    ]
   },
   "outputs": [
    {
     "data": {
      "text/plain": [
       "tensor([[12., 12., 12., 12.],\n",
       "        [12., 12., 12., 12.],\n",
       "        [ 8.,  9., 10., 11.]])"
      ]
     },
     "execution_count": 12,
     "metadata": {},
     "output_type": "execute_result"
    }
   ],
   "source": [
    "X[:2, :] = 12\n",
    "X"
   ]
  },
  {
   "cell_type": "code",
   "execution_count": 13,
   "id": "72f9255d",
   "metadata": {
    "execution": {
     "iopub.execute_input": "2023-08-18T07:06:32.202247Z",
     "iopub.status.busy": "2023-08-18T07:06:32.201722Z",
     "iopub.status.idle": "2023-08-18T07:06:32.210396Z",
     "shell.execute_reply": "2023-08-18T07:06:32.209564Z"
    },
    "origin_pos": 61,
    "tab": [
     "pytorch"
    ]
   },
   "outputs": [
    {
     "data": {
      "text/plain": [
       "tensor([162754.7969, 162754.7969, 162754.7969, 162754.7969, 162754.7969,\n",
       "        162754.7969, 162754.7969, 162754.7969,   2980.9580,   8103.0840,\n",
       "         22026.4648,  59874.1406])"
      ]
     },
     "execution_count": 13,
     "metadata": {},
     "output_type": "execute_result"
    }
   ],
   "source": [
    "torch.exp(x)"
   ]
  },
  {
   "cell_type": "code",
   "execution_count": 14,
   "id": "9e8de044",
   "metadata": {
    "execution": {
     "iopub.execute_input": "2023-08-18T07:06:32.213918Z",
     "iopub.status.busy": "2023-08-18T07:06:32.213320Z",
     "iopub.status.idle": "2023-08-18T07:06:32.222317Z",
     "shell.execute_reply": "2023-08-18T07:06:32.221190Z"
    },
    "origin_pos": 66,
    "tab": [
     "pytorch"
    ]
   },
   "outputs": [
    {
     "data": {
      "text/plain": [
       "(tensor([ 3.,  4.,  6., 10.]),\n",
       " tensor([-1.,  0.,  2.,  6.]),\n",
       " tensor([ 2.,  4.,  8., 16.]),\n",
       " tensor([0.5000, 1.0000, 2.0000, 4.0000]),\n",
       " tensor([ 1.,  4., 16., 64.]))"
      ]
     },
     "execution_count": 14,
     "metadata": {},
     "output_type": "execute_result"
    }
   ],
   "source": [
    "x = torch.tensor([1.0, 2, 4, 8])\n",
    "y = torch.tensor([2, 2, 2, 2])\n",
    "x + y, x - y, x * y, x / y, x ** y"
   ]
  },
  {
   "cell_type": "markdown",
   "id": "328bbf90",
   "metadata": {
    "slideshow": {
     "slide_type": "slide"
    }
   },
   "source": [
    "*concatenate* multiple tensors"
   ]
  },
  {
   "cell_type": "code",
   "execution_count": 15,
   "id": "a7db1c88",
   "metadata": {
    "execution": {
     "iopub.execute_input": "2023-08-18T07:06:32.226573Z",
     "iopub.status.busy": "2023-08-18T07:06:32.225747Z",
     "iopub.status.idle": "2023-08-18T07:06:32.238622Z",
     "shell.execute_reply": "2023-08-18T07:06:32.237495Z"
    },
    "origin_pos": 71,
    "tab": [
     "pytorch"
    ]
   },
   "outputs": [
    {
     "data": {
      "text/plain": [
       "(tensor([[ 0.,  1.,  2.,  3.],\n",
       "         [ 4.,  5.,  6.,  7.],\n",
       "         [ 8.,  9., 10., 11.],\n",
       "         [ 2.,  1.,  4.,  3.],\n",
       "         [ 1.,  2.,  3.,  4.],\n",
       "         [ 4.,  3.,  2.,  1.]]),\n",
       " tensor([[ 0.,  1.,  2.,  3.,  2.,  1.,  4.,  3.],\n",
       "         [ 4.,  5.,  6.,  7.,  1.,  2.,  3.,  4.],\n",
       "         [ 8.,  9., 10., 11.,  4.,  3.,  2.,  1.]]))"
      ]
     },
     "execution_count": 15,
     "metadata": {},
     "output_type": "execute_result"
    }
   ],
   "source": [
    "X = torch.arange(12, dtype=torch.float32).reshape((3,4))\n",
    "Y = torch.tensor([[2.0, 1, 4, 3], [1, 2, 3, 4], [4, 3, 2, 1]])\n",
    "torch.cat((X, Y), dim=0), torch.cat((X, Y), dim=1)"
   ]
  },
  {
   "cell_type": "markdown",
   "id": "8b372822",
   "metadata": {
    "slideshow": {
     "slide_type": "slide"
    }
   },
   "source": [
    "Construct a binary tensor via *logical statements*"
   ]
  },
  {
   "cell_type": "code",
   "execution_count": 16,
   "id": "fac68fee",
   "metadata": {
    "execution": {
     "iopub.execute_input": "2023-08-18T07:06:32.241995Z",
     "iopub.status.busy": "2023-08-18T07:06:32.241523Z",
     "iopub.status.idle": "2023-08-18T07:06:32.248156Z",
     "shell.execute_reply": "2023-08-18T07:06:32.247079Z"
    },
    "origin_pos": 75,
    "tab": [
     "pytorch"
    ]
   },
   "outputs": [
    {
     "data": {
      "text/plain": [
       "tensor([[False,  True, False,  True],\n",
       "        [False, False, False, False],\n",
       "        [False, False, False, False]])"
      ]
     },
     "execution_count": 16,
     "metadata": {},
     "output_type": "execute_result"
    }
   ],
   "source": [
    "X == Y"
   ]
  },
  {
   "cell_type": "markdown",
   "id": "9e74e626",
   "metadata": {
    "slideshow": {
     "slide_type": "slide"
    }
   },
   "source": [
    "Summing all the elements in the tensor"
   ]
  },
  {
   "cell_type": "code",
   "execution_count": 17,
   "id": "be1f091a",
   "metadata": {
    "execution": {
     "iopub.execute_input": "2023-08-18T07:06:32.251909Z",
     "iopub.status.busy": "2023-08-18T07:06:32.251123Z",
     "iopub.status.idle": "2023-08-18T07:06:32.257842Z",
     "shell.execute_reply": "2023-08-18T07:06:32.256760Z"
    },
    "origin_pos": 77,
    "tab": [
     "pytorch"
    ]
   },
   "outputs": [
    {
     "data": {
      "text/plain": [
       "tensor(66.)"
      ]
     },
     "execution_count": 17,
     "metadata": {},
     "output_type": "execute_result"
    }
   ],
   "source": [
    "X.sum()"
   ]
  },
  {
   "cell_type": "markdown",
   "id": "580d316e",
   "metadata": {
    "slideshow": {
     "slide_type": "slide"
    }
   },
   "source": [
    "Perform elementwise binary operations\n",
    "by invoking the *broadcasting mechanism*"
   ]
  },
  {
   "cell_type": "code",
   "execution_count": 18,
   "id": "2c723202",
   "metadata": {
    "execution": {
     "iopub.execute_input": "2023-08-18T07:06:32.261521Z",
     "iopub.status.busy": "2023-08-18T07:06:32.260732Z",
     "iopub.status.idle": "2023-08-18T07:06:32.267764Z",
     "shell.execute_reply": "2023-08-18T07:06:32.266985Z"
    },
    "origin_pos": 81,
    "tab": [
     "pytorch"
    ]
   },
   "outputs": [
    {
     "data": {
      "text/plain": [
       "(tensor([[0],\n",
       "         [1],\n",
       "         [2]]),\n",
       " tensor([[0, 1]]))"
      ]
     },
     "execution_count": 18,
     "metadata": {},
     "output_type": "execute_result"
    }
   ],
   "source": [
    "a = torch.arange(3).reshape((3, 1))\n",
    "b = torch.arange(2).reshape((1, 2))\n",
    "a, b"
   ]
  },
  {
   "cell_type": "code",
   "execution_count": 19,
   "id": "46c065d6",
   "metadata": {
    "execution": {
     "iopub.execute_input": "2023-08-18T07:06:32.270896Z",
     "iopub.status.busy": "2023-08-18T07:06:32.270612Z",
     "iopub.status.idle": "2023-08-18T07:06:32.276479Z",
     "shell.execute_reply": "2023-08-18T07:06:32.275700Z"
    },
    "origin_pos": 85,
    "tab": [
     "pytorch"
    ]
   },
   "outputs": [
    {
     "data": {
      "text/plain": [
       "tensor([[0, 1],\n",
       "        [1, 2],\n",
       "        [2, 3]])"
      ]
     },
     "execution_count": 19,
     "metadata": {},
     "output_type": "execute_result"
    }
   ],
   "source": [
    "a + b"
   ]
  },
  {
   "cell_type": "markdown",
   "id": "5a4a4b9f",
   "metadata": {
    "slideshow": {
     "slide_type": "slide"
    }
   },
   "source": [
    "Running operations can cause new memory to be\n",
    "allocated to host results"
   ]
  },
  {
   "cell_type": "code",
   "execution_count": 20,
   "id": "1fa8055b",
   "metadata": {
    "execution": {
     "iopub.execute_input": "2023-08-18T07:06:32.279849Z",
     "iopub.status.busy": "2023-08-18T07:06:32.279313Z",
     "iopub.status.idle": "2023-08-18T07:06:32.284708Z",
     "shell.execute_reply": "2023-08-18T07:06:32.283941Z"
    },
    "origin_pos": 87,
    "tab": [
     "pytorch"
    ]
   },
   "outputs": [
    {
     "data": {
      "text/plain": [
       "False"
      ]
     },
     "execution_count": 20,
     "metadata": {},
     "output_type": "execute_result"
    }
   ],
   "source": [
    "before = id(Y)\n",
    "Y = Y + X\n",
    "id(Y) == before"
   ]
  },
  {
   "cell_type": "markdown",
   "id": "7b3353e6",
   "metadata": {
    "slideshow": {
     "slide_type": "-"
    }
   },
   "source": [
    "Performing in-place operations"
   ]
  },
  {
   "cell_type": "code",
   "execution_count": 21,
   "id": "f0930e03",
   "metadata": {
    "execution": {
     "iopub.execute_input": "2023-08-18T07:06:32.288185Z",
     "iopub.status.busy": "2023-08-18T07:06:32.287644Z",
     "iopub.status.idle": "2023-08-18T07:06:32.292727Z",
     "shell.execute_reply": "2023-08-18T07:06:32.291918Z"
    },
    "origin_pos": 92,
    "tab": [
     "pytorch"
    ]
   },
   "outputs": [
    {
     "name": "stdout",
     "output_type": "stream",
     "text": [
      "id(Z): 139859127252688\n",
      "id(Z): 139859127252688\n"
     ]
    }
   ],
   "source": [
    "Z = torch.zeros_like(Y)\n",
    "print('id(Z):', id(Z))\n",
    "Z[:] = X + Y\n",
    "print('id(Z):', id(Z))"
   ]
  },
  {
   "cell_type": "markdown",
   "id": "174ca7d6",
   "metadata": {
    "slideshow": {
     "slide_type": "slide"
    }
   },
   "source": [
    "If the value of `X` is not reused in subsequent computations,\n",
    "we can also use `X[:] = X + Y` or `X += Y`\n",
    "to reduce the memory overhead of the operation"
   ]
  },
  {
   "cell_type": "code",
   "execution_count": 22,
   "id": "2f9a87d8",
   "metadata": {
    "execution": {
     "iopub.execute_input": "2023-08-18T07:06:32.296107Z",
     "iopub.status.busy": "2023-08-18T07:06:32.295465Z",
     "iopub.status.idle": "2023-08-18T07:06:32.300880Z",
     "shell.execute_reply": "2023-08-18T07:06:32.300031Z"
    },
    "origin_pos": 97,
    "tab": [
     "pytorch"
    ]
   },
   "outputs": [
    {
     "data": {
      "text/plain": [
       "True"
      ]
     },
     "execution_count": 22,
     "metadata": {},
     "output_type": "execute_result"
    }
   ],
   "source": [
    "before = id(X)\n",
    "X += Y\n",
    "id(X) == before"
   ]
  },
  {
   "cell_type": "markdown",
   "id": "f802857f",
   "metadata": {
    "slideshow": {
     "slide_type": "slide"
    }
   },
   "source": [
    "Converting to a NumPy tensor (`ndarray`)"
   ]
  },
  {
   "cell_type": "code",
   "execution_count": 23,
   "id": "28e3bfd0",
   "metadata": {
    "execution": {
     "iopub.execute_input": "2023-08-18T07:06:32.304498Z",
     "iopub.status.busy": "2023-08-18T07:06:32.303826Z",
     "iopub.status.idle": "2023-08-18T07:06:32.309360Z",
     "shell.execute_reply": "2023-08-18T07:06:32.308517Z"
    },
    "origin_pos": 103,
    "tab": [
     "pytorch"
    ]
   },
   "outputs": [
    {
     "data": {
      "text/plain": [
       "(numpy.ndarray, torch.Tensor)"
      ]
     },
     "execution_count": 23,
     "metadata": {},
     "output_type": "execute_result"
    }
   ],
   "source": [
    "A = X.numpy()\n",
    "B = torch.from_numpy(A)\n",
    "type(A), type(B)"
   ]
  },
  {
   "cell_type": "markdown",
   "id": "ebaa7878",
   "metadata": {
    "slideshow": {
     "slide_type": "-"
    }
   },
   "source": [
    "Convert a size-1 tensor to a Python scalar"
   ]
  },
  {
   "cell_type": "code",
   "execution_count": 24,
   "id": "446aa0f9",
   "metadata": {
    "execution": {
     "iopub.execute_input": "2023-08-18T07:06:32.312767Z",
     "iopub.status.busy": "2023-08-18T07:06:32.312108Z",
     "iopub.status.idle": "2023-08-18T07:06:32.318256Z",
     "shell.execute_reply": "2023-08-18T07:06:32.317478Z"
    },
    "origin_pos": 108,
    "tab": [
     "pytorch"
    ]
   },
   "outputs": [
    {
     "data": {
      "text/plain": [
       "(tensor([3.5000]), 3.5, 3.5, 3)"
      ]
     },
     "execution_count": 24,
     "metadata": {},
     "output_type": "execute_result"
    }
   ],
   "source": [
    "a = torch.tensor([3.5])\n",
    "a, a.item(), float(a), int(a)"
   ]
  }
 ],
 "metadata": {
  "celltoolbar": "Slideshow",
  "language_info": {
   "name": "python"
  },
  "required_libs": [],
  "rise": {
   "autolaunch": true,
   "enable_chalkboard": true,
   "overlay": "<div class='my-top-right'><img height=80px src='http://d2l.ai/_static/logo-with-text.png'/></div><div class='my-top-left'></div>",
   "scroll": true
  }
 },
 "nbformat": 4,
 "nbformat_minor": 5
}