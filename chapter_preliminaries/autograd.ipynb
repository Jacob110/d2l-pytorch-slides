{
 "cells": [
  {
   "cell_type": "markdown",
   "id": "e7c04cce",
   "metadata": {
    "slideshow": {
     "slide_type": "-"
    }
   },
   "source": [
    "# Automatic Differentiation\n",
    "\n"
   ]
  },
  {
   "cell_type": "code",
   "execution_count": 1,
   "id": "8cfd4b8d",
   "metadata": {
    "execution": {
     "iopub.execute_input": "2023-08-18T07:07:58.435303Z",
     "iopub.status.busy": "2023-08-18T07:07:58.434780Z",
     "iopub.status.idle": "2023-08-18T07:08:00.103273Z",
     "shell.execute_reply": "2023-08-18T07:08:00.102355Z"
    },
    "origin_pos": 3,
    "tab": [
     "pytorch"
    ]
   },
   "outputs": [],
   "source": [
    "import torch"
   ]
  },
  {
   "cell_type": "markdown",
   "id": "050016c3",
   "metadata": {
    "slideshow": {
     "slide_type": "-"
    }
   },
   "source": [
    "Differentiating the function\n",
    "$y = 2\\mathbf{x}^{\\top}\\mathbf{x}$\n",
    "with respect to the column vector $\\mathbf{x}$"
   ]
  },
  {
   "cell_type": "code",
   "execution_count": 2,
   "id": "294aee12",
   "metadata": {
    "attributes": {
     "classes": [],
     "id": "",
     "n": "7"
    },
    "execution": {
     "iopub.execute_input": "2023-08-18T07:08:00.107463Z",
     "iopub.status.busy": "2023-08-18T07:08:00.106829Z",
     "iopub.status.idle": "2023-08-18T07:08:00.133256Z",
     "shell.execute_reply": "2023-08-18T07:08:00.132452Z"
    },
    "origin_pos": 8,
    "tab": [
     "pytorch"
    ]
   },
   "outputs": [
    {
     "data": {
      "text/plain": [
       "tensor([0., 1., 2., 3.])"
      ]
     },
     "execution_count": 2,
     "metadata": {},
     "output_type": "execute_result"
    }
   ],
   "source": [
    "x = torch.arange(4.0)\n",
    "x"
   ]
  },
  {
   "cell_type": "markdown",
   "id": "d195a7d8",
   "metadata": {
    "slideshow": {
     "slide_type": "slide"
    }
   },
   "source": [
    "Before we calculate the gradient\n",
    "of $y$ with respect to $\\mathbf{x}$,\n",
    "we need a place to store it"
   ]
  },
  {
   "cell_type": "code",
   "execution_count": 3,
   "id": "d09b5cd9",
   "metadata": {
    "attributes": {
     "classes": [],
     "id": "",
     "n": "9"
    },
    "execution": {
     "iopub.execute_input": "2023-08-18T07:08:00.136733Z",
     "iopub.status.busy": "2023-08-18T07:08:00.136185Z",
     "iopub.status.idle": "2023-08-18T07:08:00.140012Z",
     "shell.execute_reply": "2023-08-18T07:08:00.139250Z"
    },
    "origin_pos": 13,
    "tab": [
     "pytorch"
    ]
   },
   "outputs": [],
   "source": [
    "x.requires_grad_(True)\n",
    "x.grad"
   ]
  },
  {
   "cell_type": "markdown",
   "id": "0832bdbe",
   "metadata": {
    "slideshow": {
     "slide_type": "-"
    }
   },
   "source": [
    "We now calculate our function of `x` and assign the result to `y`"
   ]
  },
  {
   "cell_type": "code",
   "execution_count": 4,
   "id": "4081649d",
   "metadata": {
    "attributes": {
     "classes": [],
     "id": "",
     "n": "11"
    },
    "execution": {
     "iopub.execute_input": "2023-08-18T07:08:00.143353Z",
     "iopub.status.busy": "2023-08-18T07:08:00.142827Z",
     "iopub.status.idle": "2023-08-18T07:08:00.150753Z",
     "shell.execute_reply": "2023-08-18T07:08:00.149968Z"
    },
    "origin_pos": 17,
    "tab": [
     "pytorch"
    ]
   },
   "outputs": [
    {
     "data": {
      "text/plain": [
       "tensor(28., grad_fn=<MulBackward0>)"
      ]
     },
     "execution_count": 4,
     "metadata": {},
     "output_type": "execute_result"
    }
   ],
   "source": [
    "y = 2 * torch.dot(x, x)\n",
    "y"
   ]
  },
  {
   "cell_type": "markdown",
   "id": "a4c8d150",
   "metadata": {
    "slideshow": {
     "slide_type": "slide"
    }
   },
   "source": [
    "We can now take the gradient of `y`\n",
    "with respect to `x`"
   ]
  },
  {
   "cell_type": "code",
   "execution_count": 5,
   "id": "34612969",
   "metadata": {
    "attributes": {
     "classes": [],
     "id": "",
     "n": "12"
    },
    "execution": {
     "iopub.execute_input": "2023-08-18T07:08:00.154267Z",
     "iopub.status.busy": "2023-08-18T07:08:00.153616Z",
     "iopub.status.idle": "2023-08-18T07:08:00.205060Z",
     "shell.execute_reply": "2023-08-18T07:08:00.204258Z"
    },
    "origin_pos": 25,
    "tab": [
     "pytorch"
    ]
   },
   "outputs": [
    {
     "data": {
      "text/plain": [
       "tensor([ 0.,  4.,  8., 12.])"
      ]
     },
     "execution_count": 5,
     "metadata": {},
     "output_type": "execute_result"
    }
   ],
   "source": [
    "y.backward()\n",
    "x.grad"
   ]
  },
  {
   "cell_type": "markdown",
   "id": "7667a83c",
   "metadata": {
    "slideshow": {
     "slide_type": "-"
    }
   },
   "source": [
    "We already know that the gradient of the function $y = 2\\mathbf{x}^{\\top}\\mathbf{x}$\n",
    "with respect to $\\mathbf{x}$ should be $4\\mathbf{x}$"
   ]
  },
  {
   "cell_type": "code",
   "execution_count": 6,
   "id": "5628a103",
   "metadata": {
    "attributes": {
     "classes": [],
     "id": "",
     "n": "14"
    },
    "execution": {
     "iopub.execute_input": "2023-08-18T07:08:00.208496Z",
     "iopub.status.busy": "2023-08-18T07:08:00.207964Z",
     "iopub.status.idle": "2023-08-18T07:08:00.213571Z",
     "shell.execute_reply": "2023-08-18T07:08:00.212762Z"
    },
    "origin_pos": 30,
    "tab": [
     "pytorch"
    ]
   },
   "outputs": [
    {
     "data": {
      "text/plain": [
       "tensor([True, True, True, True])"
      ]
     },
     "execution_count": 6,
     "metadata": {},
     "output_type": "execute_result"
    }
   ],
   "source": [
    "x.grad == 4 * x"
   ]
  },
  {
   "cell_type": "markdown",
   "id": "445801c7",
   "metadata": {
    "slideshow": {
     "slide_type": "slide"
    }
   },
   "source": [
    "Now let's calculate \n",
    "another function of `x`\n",
    "and take its gradient"
   ]
  },
  {
   "cell_type": "code",
   "execution_count": 7,
   "id": "bf60d911",
   "metadata": {
    "attributes": {
     "classes": [],
     "id": "",
     "n": "20"
    },
    "execution": {
     "iopub.execute_input": "2023-08-18T07:08:00.216878Z",
     "iopub.status.busy": "2023-08-18T07:08:00.216261Z",
     "iopub.status.idle": "2023-08-18T07:08:00.222315Z",
     "shell.execute_reply": "2023-08-18T07:08:00.221584Z"
    },
    "origin_pos": 37,
    "tab": [
     "pytorch"
    ]
   },
   "outputs": [
    {
     "data": {
      "text/plain": [
       "tensor([1., 1., 1., 1.])"
      ]
     },
     "execution_count": 7,
     "metadata": {},
     "output_type": "execute_result"
    }
   ],
   "source": [
    "x.grad.zero_()\n",
    "y = x.sum()\n",
    "y.backward()\n",
    "x.grad"
   ]
  },
  {
   "cell_type": "markdown",
   "id": "4135162d",
   "metadata": {
    "slideshow": {
     "slide_type": "-"
    }
   },
   "source": [
    "Sum up the gradients\n",
    "computed individually for each example"
   ]
  },
  {
   "cell_type": "code",
   "execution_count": 8,
   "id": "488e15c2",
   "metadata": {
    "execution": {
     "iopub.execute_input": "2023-08-18T07:08:00.225757Z",
     "iopub.status.busy": "2023-08-18T07:08:00.225093Z",
     "iopub.status.idle": "2023-08-18T07:08:00.231401Z",
     "shell.execute_reply": "2023-08-18T07:08:00.230657Z"
    },
    "origin_pos": 45,
    "tab": [
     "pytorch"
    ]
   },
   "outputs": [
    {
     "data": {
      "text/plain": [
       "tensor([0., 2., 4., 6.])"
      ]
     },
     "execution_count": 8,
     "metadata": {},
     "output_type": "execute_result"
    }
   ],
   "source": [
    "x.grad.zero_()\n",
    "y = x * x\n",
    "y.backward(gradient=torch.ones(len(y)))\n",
    "x.grad"
   ]
  },
  {
   "cell_type": "markdown",
   "id": "6dec5f9b",
   "metadata": {
    "slideshow": {
     "slide_type": "slide"
    }
   },
   "source": [
    "Move some calculations\n",
    "outside of the recorded computational graph"
   ]
  },
  {
   "cell_type": "code",
   "execution_count": 9,
   "id": "d4b0e5ad",
   "metadata": {
    "attributes": {
     "classes": [],
     "id": "",
     "n": "21"
    },
    "execution": {
     "iopub.execute_input": "2023-08-18T07:08:00.234692Z",
     "iopub.status.busy": "2023-08-18T07:08:00.234073Z",
     "iopub.status.idle": "2023-08-18T07:08:00.240408Z",
     "shell.execute_reply": "2023-08-18T07:08:00.239602Z"
    },
    "origin_pos": 50,
    "tab": [
     "pytorch"
    ]
   },
   "outputs": [
    {
     "data": {
      "text/plain": [
       "tensor([True, True, True, True])"
      ]
     },
     "execution_count": 9,
     "metadata": {},
     "output_type": "execute_result"
    }
   ],
   "source": [
    "x.grad.zero_()\n",
    "y = x * x\n",
    "u = y.detach()\n",
    "z = u * x\n",
    "\n",
    "z.sum().backward()\n",
    "x.grad == u"
   ]
  },
  {
   "cell_type": "code",
   "execution_count": 10,
   "id": "45c0f7a9",
   "metadata": {
    "execution": {
     "iopub.execute_input": "2023-08-18T07:08:00.243744Z",
     "iopub.status.busy": "2023-08-18T07:08:00.243131Z",
     "iopub.status.idle": "2023-08-18T07:08:00.248903Z",
     "shell.execute_reply": "2023-08-18T07:08:00.248164Z"
    },
    "origin_pos": 55,
    "tab": [
     "pytorch"
    ]
   },
   "outputs": [
    {
     "data": {
      "text/plain": [
       "tensor([True, True, True, True])"
      ]
     },
     "execution_count": 10,
     "metadata": {},
     "output_type": "execute_result"
    }
   ],
   "source": [
    "x.grad.zero_()\n",
    "y.sum().backward()\n",
    "x.grad == 2 * x"
   ]
  },
  {
   "cell_type": "markdown",
   "id": "bdb28ff1",
   "metadata": {
    "slideshow": {
     "slide_type": "slide"
    }
   },
   "source": [
    "Even if\n",
    "a function required passing through a maze of Python control flow\n",
    "we can still calculate the gradient of the resulting variable"
   ]
  },
  {
   "cell_type": "code",
   "execution_count": 13,
   "id": "63a941fe",
   "metadata": {
    "execution": {
     "iopub.execute_input": "2023-08-18T07:08:00.267200Z",
     "iopub.status.busy": "2023-08-18T07:08:00.266580Z",
     "iopub.status.idle": "2023-08-18T07:08:00.271874Z",
     "shell.execute_reply": "2023-08-18T07:08:00.271122Z"
    },
    "origin_pos": 70,
    "tab": [
     "pytorch"
    ]
   },
   "outputs": [
    {
     "data": {
      "text/plain": [
       "tensor(True)"
      ]
     },
     "execution_count": 13,
     "metadata": {},
     "output_type": "execute_result"
    }
   ],
   "source": [
    "def f(a):\n",
    "    b = a * 2\n",
    "    while b.norm() < 1000:\n",
    "        b = b * 2\n",
    "    if b.sum() > 0:\n",
    "        c = b\n",
    "    else:\n",
    "        c = 100 * b\n",
    "    return c\n",
    "\n",
    "a = torch.randn(size=(), requires_grad=True)\n",
    "d = f(a)\n",
    "d.backward()\n",
    "\n",
    "a.grad == d / a"
   ]
  }
 ],
 "metadata": {
  "celltoolbar": "Slideshow",
  "language_info": {
   "name": "python"
  },
  "required_libs": [],
  "rise": {
   "autolaunch": true,
   "enable_chalkboard": true,
   "overlay": "<div class='my-top-right'><img height=80px src='http://d2l.ai/_static/logo-with-text.png'/></div><div class='my-top-left'></div>",
   "scroll": true
  }
 },
 "nbformat": 4,
 "nbformat_minor": 5
}