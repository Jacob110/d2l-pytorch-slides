{
 "cells": [
  {
   "cell_type": "markdown",
   "id": "f4486c83",
   "metadata": {
    "slideshow": {
     "slide_type": "-"
    }
   },
   "source": [
    "# Padding and Stride\n",
    "\n"
   ]
  },
  {
   "cell_type": "code",
   "execution_count": 1,
   "id": "6f1e93ea",
   "metadata": {
    "execution": {
     "iopub.execute_input": "2023-08-18T07:09:11.651657Z",
     "iopub.status.busy": "2023-08-18T07:09:11.651119Z",
     "iopub.status.idle": "2023-08-18T07:09:13.536667Z",
     "shell.execute_reply": "2023-08-18T07:09:13.535729Z"
    },
    "origin_pos": 3,
    "tab": [
     "pytorch"
    ]
   },
   "outputs": [],
   "source": [
    "import torch\n",
    "from torch import nn"
   ]
  },
  {
   "cell_type": "markdown",
   "id": "cfdeda28",
   "metadata": {
    "slideshow": {
     "slide_type": "-"
    }
   },
   "source": [
    "Apply 1 pixel of padding on all sides"
   ]
  },
  {
   "cell_type": "code",
   "execution_count": 2,
   "id": "6f733253",
   "metadata": {
    "execution": {
     "iopub.execute_input": "2023-08-18T07:09:13.540698Z",
     "iopub.status.busy": "2023-08-18T07:09:13.540158Z",
     "iopub.status.idle": "2023-08-18T07:09:13.588177Z",
     "shell.execute_reply": "2023-08-18T07:09:13.587160Z"
    },
    "origin_pos": 8,
    "tab": [
     "pytorch"
    ]
   },
   "outputs": [
    {
     "data": {
      "text/plain": [
       "torch.Size([8, 8])"
      ]
     },
     "execution_count": 2,
     "metadata": {},
     "output_type": "execute_result"
    }
   ],
   "source": [
    "def comp_conv2d(conv2d, X):\n",
    "    X = X.reshape((1, 1) + X.shape)\n",
    "    Y = conv2d(X)\n",
    "    return Y.reshape(Y.shape[2:])\n",
    "\n",
    "conv2d = nn.LazyConv2d(1, kernel_size=3, padding=1)\n",
    "X = torch.rand(size=(8, 8))\n",
    "comp_conv2d(conv2d, X).shape"
   ]
  },
  {
   "cell_type": "markdown",
   "id": "a82ead76",
   "metadata": {
    "slideshow": {
     "slide_type": "slide"
    }
   },
   "source": [
    "Setting different padding numbers for height and width"
   ]
  },
  {
   "cell_type": "code",
   "execution_count": 3,
   "id": "b2ff32fd",
   "metadata": {
    "execution": {
     "iopub.execute_input": "2023-08-18T07:09:13.593762Z",
     "iopub.status.busy": "2023-08-18T07:09:13.592844Z",
     "iopub.status.idle": "2023-08-18T07:09:13.605804Z",
     "shell.execute_reply": "2023-08-18T07:09:13.604686Z"
    },
    "origin_pos": 13,
    "tab": [
     "pytorch"
    ]
   },
   "outputs": [
    {
     "data": {
      "text/plain": [
       "torch.Size([8, 8])"
      ]
     },
     "execution_count": 3,
     "metadata": {},
     "output_type": "execute_result"
    }
   ],
   "source": [
    "conv2d = nn.LazyConv2d(1, kernel_size=(5, 3), padding=(2, 1))\n",
    "comp_conv2d(conv2d, X).shape"
   ]
  },
  {
   "cell_type": "markdown",
   "id": "2fcc00b2",
   "metadata": {
    "slideshow": {
     "slide_type": "slide"
    }
   },
   "source": [
    "Set the strides on both the height and width to 2"
   ]
  },
  {
   "cell_type": "code",
   "execution_count": 4,
   "id": "0c0c04c2",
   "metadata": {
    "execution": {
     "iopub.execute_input": "2023-08-18T07:09:13.610175Z",
     "iopub.status.busy": "2023-08-18T07:09:13.609896Z",
     "iopub.status.idle": "2023-08-18T07:09:13.630721Z",
     "shell.execute_reply": "2023-08-18T07:09:13.626763Z"
    },
    "origin_pos": 18,
    "tab": [
     "pytorch"
    ]
   },
   "outputs": [
    {
     "data": {
      "text/plain": [
       "torch.Size([4, 4])"
      ]
     },
     "execution_count": 4,
     "metadata": {},
     "output_type": "execute_result"
    }
   ],
   "source": [
    "conv2d = nn.LazyConv2d(1, kernel_size=3, padding=1, stride=2)\n",
    "comp_conv2d(conv2d, X).shape"
   ]
  },
  {
   "cell_type": "markdown",
   "id": "da2f6946",
   "metadata": {
    "slideshow": {
     "slide_type": "-"
    }
   },
   "source": [
    "A slightly more complicated example"
   ]
  },
  {
   "cell_type": "code",
   "execution_count": 5,
   "id": "32aba067",
   "metadata": {
    "execution": {
     "iopub.execute_input": "2023-08-18T07:09:13.636530Z",
     "iopub.status.busy": "2023-08-18T07:09:13.635736Z",
     "iopub.status.idle": "2023-08-18T07:09:13.646915Z",
     "shell.execute_reply": "2023-08-18T07:09:13.645901Z"
    },
    "origin_pos": 23,
    "tab": [
     "pytorch"
    ]
   },
   "outputs": [
    {
     "data": {
      "text/plain": [
       "torch.Size([2, 2])"
      ]
     },
     "execution_count": 5,
     "metadata": {},
     "output_type": "execute_result"
    }
   ],
   "source": [
    "conv2d = nn.LazyConv2d(1, kernel_size=(3, 5), padding=(0, 1), stride=(3, 4))\n",
    "comp_conv2d(conv2d, X).shape"
   ]
  }
 ],
 "metadata": {
  "celltoolbar": "Slideshow",
  "language_info": {
   "name": "python"
  },
  "required_libs": [],
  "rise": {
   "autolaunch": true,
   "enable_chalkboard": true,
   "overlay": "<div class='my-top-right'><img height=80px src='http://d2l.ai/_static/logo-with-text.png'/></div><div class='my-top-left'></div>",
   "scroll": true
  }
 },
 "nbformat": 4,
 "nbformat_minor": 5
}