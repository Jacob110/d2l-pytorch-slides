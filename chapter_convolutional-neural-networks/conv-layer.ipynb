{
 "cells": [
  {
   "cell_type": "markdown",
   "id": "ee49b5e6",
   "metadata": {
    "slideshow": {
     "slide_type": "-"
    }
   },
   "source": [
    "# Convolutions for Images\n",
    "\n"
   ]
  },
  {
   "cell_type": "code",
   "execution_count": 1,
   "id": "12c9db69",
   "metadata": {
    "execution": {
     "iopub.execute_input": "2023-08-14T16:32:42.408299Z",
     "iopub.status.busy": "2023-08-14T16:32:42.407651Z",
     "iopub.status.idle": "2023-08-14T16:32:45.443777Z",
     "shell.execute_reply": "2023-08-14T16:32:45.442797Z"
    },
    "origin_pos": 3,
    "tab": [
     "pytorch"
    ]
   },
   "outputs": [],
   "source": [
    "import torch\n",
    "from torch import nn\n",
    "from d2l import torch as d2l"
   ]
  },
  {
   "cell_type": "markdown",
   "id": "8b8dfa85",
   "metadata": {
    "slideshow": {
     "slide_type": "-"
    }
   },
   "source": [
    "Cross-correlation operation"
   ]
  },
  {
   "cell_type": "code",
   "execution_count": 2,
   "id": "f10e7d2b",
   "metadata": {
    "execution": {
     "iopub.execute_input": "2023-08-14T16:32:45.450175Z",
     "iopub.status.busy": "2023-08-14T16:32:45.448971Z",
     "iopub.status.idle": "2023-08-14T16:32:45.463346Z",
     "shell.execute_reply": "2023-08-14T16:32:45.462209Z"
    },
    "origin_pos": 8,
    "tab": [
     "pytorch"
    ]
   },
   "outputs": [],
   "source": [
    "def corr2d(X, K):  \n",
    "    \"\"\"Compute 2D cross-correlation.\"\"\"\n",
    "    h, w = K.shape\n",
    "    Y = torch.zeros((X.shape[0] - h + 1, X.shape[1] - w + 1))\n",
    "    for i in range(Y.shape[0]):\n",
    "        for j in range(Y.shape[1]):\n",
    "            Y[i, j] = (X[i:i + h, j:j + w] * K).sum()\n",
    "    return Y"
   ]
  },
  {
   "cell_type": "markdown",
   "id": "226c351d",
   "metadata": {
    "slideshow": {
     "slide_type": "slide"
    }
   },
   "source": [
    "Validate the output of the above implementation"
   ]
  },
  {
   "cell_type": "code",
   "execution_count": 3,
   "id": "36e60415",
   "metadata": {
    "execution": {
     "iopub.execute_input": "2023-08-14T16:32:45.467844Z",
     "iopub.status.busy": "2023-08-14T16:32:45.467557Z",
     "iopub.status.idle": "2023-08-14T16:32:45.498326Z",
     "shell.execute_reply": "2023-08-14T16:32:45.496677Z"
    },
    "origin_pos": 12,
    "tab": [
     "pytorch"
    ]
   },
   "outputs": [
    {
     "data": {
      "text/plain": [
       "tensor([[19., 25.],\n",
       "        [37., 43.]])"
      ]
     },
     "execution_count": 3,
     "metadata": {},
     "output_type": "execute_result"
    }
   ],
   "source": [
    "X = torch.tensor([[0.0, 1.0, 2.0], [3.0, 4.0, 5.0], [6.0, 7.0, 8.0]])\n",
    "K = torch.tensor([[0.0, 1.0], [2.0, 3.0]])\n",
    "corr2d(X, K)"
   ]
  },
  {
   "cell_type": "markdown",
   "id": "06c8c304",
   "metadata": {
    "slideshow": {
     "slide_type": "slide"
    }
   },
   "source": [
    "Implement a two-dimensional convolutional layer"
   ]
  },
  {
   "cell_type": "code",
   "execution_count": 4,
   "id": "6c40e4bd",
   "metadata": {
    "execution": {
     "iopub.execute_input": "2023-08-14T16:32:45.503759Z",
     "iopub.status.busy": "2023-08-14T16:32:45.502904Z",
     "iopub.status.idle": "2023-08-14T16:32:45.508998Z",
     "shell.execute_reply": "2023-08-14T16:32:45.507922Z"
    },
    "origin_pos": 15,
    "tab": [
     "pytorch"
    ]
   },
   "outputs": [],
   "source": [
    "class Conv2D(nn.Module):\n",
    "    def __init__(self, kernel_size):\n",
    "        super().__init__()\n",
    "        self.weight = nn.Parameter(torch.rand(kernel_size))\n",
    "        self.bias = nn.Parameter(torch.zeros(1))\n",
    "\n",
    "    def forward(self, x):\n",
    "        return corr2d(x, self.weight) + self.bias"
   ]
  },
  {
   "cell_type": "markdown",
   "id": "ff82a189",
   "metadata": {
    "slideshow": {
     "slide_type": "slide"
    }
   },
   "source": [
    "A simple application of a convolutional layer:\n",
    "detecting the edge of an object in an image"
   ]
  },
  {
   "cell_type": "code",
   "execution_count": 5,
   "id": "0db4eedb",
   "metadata": {
    "execution": {
     "iopub.execute_input": "2023-08-14T16:32:45.512915Z",
     "iopub.status.busy": "2023-08-14T16:32:45.512265Z",
     "iopub.status.idle": "2023-08-14T16:32:45.521744Z",
     "shell.execute_reply": "2023-08-14T16:32:45.520838Z"
    },
    "origin_pos": 19,
    "tab": [
     "pytorch"
    ]
   },
   "outputs": [
    {
     "data": {
      "text/plain": [
       "tensor([[1., 1., 0., 0., 0., 0., 1., 1.],\n",
       "        [1., 1., 0., 0., 0., 0., 1., 1.],\n",
       "        [1., 1., 0., 0., 0., 0., 1., 1.],\n",
       "        [1., 1., 0., 0., 0., 0., 1., 1.],\n",
       "        [1., 1., 0., 0., 0., 0., 1., 1.],\n",
       "        [1., 1., 0., 0., 0., 0., 1., 1.]])"
      ]
     },
     "execution_count": 5,
     "metadata": {},
     "output_type": "execute_result"
    }
   ],
   "source": [
    "X = torch.ones((6, 8))\n",
    "X[:, 2:6] = 0\n",
    "X"
   ]
  },
  {
   "cell_type": "code",
   "execution_count": 6,
   "id": "80798d8a",
   "metadata": {
    "execution": {
     "iopub.execute_input": "2023-08-14T16:32:45.525727Z",
     "iopub.status.busy": "2023-08-14T16:32:45.525050Z",
     "iopub.status.idle": "2023-08-14T16:32:45.529699Z",
     "shell.execute_reply": "2023-08-14T16:32:45.528850Z"
    },
    "origin_pos": 23,
    "tab": [
     "pytorch"
    ]
   },
   "outputs": [],
   "source": [
    "K = torch.tensor([[1.0, -1.0]])"
   ]
  },
  {
   "cell_type": "markdown",
   "id": "9359fd95",
   "metadata": {
    "slideshow": {
     "slide_type": "slide"
    }
   },
   "source": [
    "We detect $1$ for the edge from white to black\n",
    "and $-1$ for the edge from black to white"
   ]
  },
  {
   "cell_type": "code",
   "execution_count": 7,
   "id": "cb2989e9",
   "metadata": {
    "execution": {
     "iopub.execute_input": "2023-08-14T16:32:45.533993Z",
     "iopub.status.busy": "2023-08-14T16:32:45.533726Z",
     "iopub.status.idle": "2023-08-14T16:32:45.542206Z",
     "shell.execute_reply": "2023-08-14T16:32:45.541059Z"
    },
    "origin_pos": 25,
    "tab": [
     "pytorch"
    ]
   },
   "outputs": [
    {
     "data": {
      "text/plain": [
       "tensor([[ 0.,  1.,  0.,  0.,  0., -1.,  0.],\n",
       "        [ 0.,  1.,  0.,  0.,  0., -1.,  0.],\n",
       "        [ 0.,  1.,  0.,  0.,  0., -1.,  0.],\n",
       "        [ 0.,  1.,  0.,  0.,  0., -1.,  0.],\n",
       "        [ 0.,  1.,  0.,  0.,  0., -1.,  0.],\n",
       "        [ 0.,  1.,  0.,  0.,  0., -1.,  0.]])"
      ]
     },
     "execution_count": 7,
     "metadata": {},
     "output_type": "execute_result"
    }
   ],
   "source": [
    "Y = corr2d(X, K)\n",
    "Y"
   ]
  },
  {
   "cell_type": "markdown",
   "id": "d338ca9d",
   "metadata": {
    "slideshow": {
     "slide_type": "slide"
    }
   },
   "source": [
    "The kernel `K` only detects vertical edges"
   ]
  },
  {
   "cell_type": "code",
   "execution_count": 8,
   "id": "330bc659",
   "metadata": {
    "execution": {
     "iopub.execute_input": "2023-08-14T16:32:45.546977Z",
     "iopub.status.busy": "2023-08-14T16:32:45.546425Z",
     "iopub.status.idle": "2023-08-14T16:32:45.555914Z",
     "shell.execute_reply": "2023-08-14T16:32:45.554761Z"
    },
    "origin_pos": 27,
    "tab": [
     "pytorch"
    ]
   },
   "outputs": [
    {
     "data": {
      "text/plain": [
       "tensor([[0., 0., 0., 0., 0.],\n",
       "        [0., 0., 0., 0., 0.],\n",
       "        [0., 0., 0., 0., 0.],\n",
       "        [0., 0., 0., 0., 0.],\n",
       "        [0., 0., 0., 0., 0.],\n",
       "        [0., 0., 0., 0., 0.],\n",
       "        [0., 0., 0., 0., 0.],\n",
       "        [0., 0., 0., 0., 0.]])"
      ]
     },
     "execution_count": 8,
     "metadata": {},
     "output_type": "execute_result"
    }
   ],
   "source": [
    "corr2d(X.t(), K)"
   ]
  },
  {
   "cell_type": "markdown",
   "id": "19392224",
   "metadata": {
    "slideshow": {
     "slide_type": "slide"
    }
   },
   "source": [
    "Learn the kernel that generated `Y` from `X`"
   ]
  },
  {
   "cell_type": "code",
   "execution_count": 9,
   "id": "c3634a68",
   "metadata": {
    "execution": {
     "iopub.execute_input": "2023-08-14T16:32:45.560920Z",
     "iopub.status.busy": "2023-08-14T16:32:45.560025Z",
     "iopub.status.idle": "2023-08-14T16:32:45.640562Z",
     "shell.execute_reply": "2023-08-14T16:32:45.639328Z"
    },
    "origin_pos": 30,
    "tab": [
     "pytorch"
    ]
   },
   "outputs": [
    {
     "name": "stdout",
     "output_type": "stream",
     "text": [
      "epoch 2, loss 2.636\n",
      "epoch 4, loss 0.717\n",
      "epoch 6, loss 0.233\n",
      "epoch 8, loss 0.085\n",
      "epoch 10, loss 0.033\n"
     ]
    }
   ],
   "source": [
    "conv2d = nn.LazyConv2d(1, kernel_size=(1, 2), bias=False)\n",
    "\n",
    "X = X.reshape((1, 1, 6, 8))\n",
    "Y = Y.reshape((1, 1, 6, 7))\n",
    "lr = 3e-2\n",
    "\n",
    "for i in range(10):\n",
    "    Y_hat = conv2d(X)\n",
    "    l = (Y_hat - Y) ** 2\n",
    "    conv2d.zero_grad()\n",
    "    l.sum().backward()\n",
    "    conv2d.weight.data[:] -= lr * conv2d.weight.grad\n",
    "    if (i + 1) % 2 == 0:\n",
    "        print(f'epoch {i + 1}, loss {l.sum():.3f}')"
   ]
  },
  {
   "cell_type": "markdown",
   "id": "099e17e2",
   "metadata": {
    "slideshow": {
     "slide_type": "slide"
    }
   },
   "source": [
    "Take a look at the kernel tensor we learned"
   ]
  },
  {
   "cell_type": "code",
   "execution_count": 10,
   "id": "dc0e442b",
   "metadata": {
    "execution": {
     "iopub.execute_input": "2023-08-14T16:32:45.645507Z",
     "iopub.status.busy": "2023-08-14T16:32:45.645131Z",
     "iopub.status.idle": "2023-08-14T16:32:45.651517Z",
     "shell.execute_reply": "2023-08-14T16:32:45.650741Z"
    },
    "origin_pos": 35,
    "tab": [
     "pytorch"
    ]
   },
   "outputs": [
    {
     "data": {
      "text/plain": [
       "tensor([[ 1.0121, -0.9752]])"
      ]
     },
     "execution_count": 10,
     "metadata": {},
     "output_type": "execute_result"
    }
   ],
   "source": [
    "conv2d.weight.data.reshape((1, 2))"
   ]
  }
 ],
 "metadata": {
  "celltoolbar": "Slideshow",
  "language_info": {
   "name": "python"
  },
  "required_libs": [],
  "rise": {
   "autolaunch": true,
   "enable_chalkboard": true,
   "overlay": "<div class='my-top-right'><img height=80px src='http://d2l.ai/_static/logo-with-text.png'/></div><div class='my-top-left'></div>",
   "scroll": true
  }
 },
 "nbformat": 4,
 "nbformat_minor": 5
}