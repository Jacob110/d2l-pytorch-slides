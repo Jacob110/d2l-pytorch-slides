{
 "cells": [
  {
   "cell_type": "markdown",
   "id": "182d5fee",
   "metadata": {
    "slideshow": {
     "slide_type": "-"
    }
   },
   "source": [
    "# Synthetic Regression Data\n",
    "\n"
   ]
  },
  {
   "cell_type": "code",
   "execution_count": 1,
   "id": "17aeaf16",
   "metadata": {
    "execution": {
     "iopub.execute_input": "2023-08-18T07:09:58.333941Z",
     "iopub.status.busy": "2023-08-18T07:09:58.333398Z",
     "iopub.status.idle": "2023-08-18T07:10:01.592440Z",
     "shell.execute_reply": "2023-08-18T07:10:01.591504Z"
    },
    "origin_pos": 3,
    "tab": [
     "pytorch"
    ]
   },
   "outputs": [],
   "source": [
    "%matplotlib inline\n",
    "import random\n",
    "import torch\n",
    "from d2l import torch as d2l"
   ]
  },
  {
   "cell_type": "markdown",
   "id": "2b5c2afe",
   "metadata": {
    "slideshow": {
     "slide_type": "-"
    }
   },
   "source": [
    "$$\\mathbf{y}= \\mathbf{X} \\mathbf{w} + b + \\boldsymbol{\\epsilon}$$"
   ]
  },
  {
   "cell_type": "code",
   "execution_count": 3,
   "id": "0c5767b5",
   "metadata": {
    "execution": {
     "iopub.execute_input": "2023-08-18T07:10:01.606062Z",
     "iopub.status.busy": "2023-08-18T07:10:01.605394Z",
     "iopub.status.idle": "2023-08-18T07:10:01.637536Z",
     "shell.execute_reply": "2023-08-18T07:10:01.636599Z"
    },
    "origin_pos": 9,
    "tab": [
     "pytorch"
    ]
   },
   "outputs": [],
   "source": [
    "class SyntheticRegressionData(d2l.DataModule):  \n",
    "    \"\"\"Synthetic data for linear regression.\"\"\"\n",
    "    def __init__(self, w, b, noise=0.01, num_train=1000, num_val=1000,\n",
    "                 batch_size=32):\n",
    "        super().__init__()\n",
    "        self.save_hyperparameters()\n",
    "        n = num_train + num_val\n",
    "        self.X = torch.randn(n, len(w))\n",
    "        noise = torch.randn(n, 1) * noise\n",
    "        self.y = torch.matmul(self.X, w.reshape((-1, 1))) + b + noise\n",
    "\n",
    "data = SyntheticRegressionData(w=torch.tensor([2, -3.4]), b=4.2)"
   ]
  },
  {
   "cell_type": "markdown",
   "id": "b45ed15a",
   "metadata": {
    "slideshow": {
     "slide_type": "slide"
    }
   },
   "source": [
    "Each row in `features` consists of a vector in $\\mathbb{R}^2$ and each row in `labels` is a scalar"
   ]
  },
  {
   "cell_type": "code",
   "execution_count": 4,
   "id": "7c510ba0",
   "metadata": {
    "execution": {
     "iopub.execute_input": "2023-08-18T07:10:01.641444Z",
     "iopub.status.busy": "2023-08-18T07:10:01.640811Z",
     "iopub.status.idle": "2023-08-18T07:10:01.647126Z",
     "shell.execute_reply": "2023-08-18T07:10:01.646317Z"
    },
    "origin_pos": 11,
    "tab": [
     "pytorch"
    ]
   },
   "outputs": [
    {
     "name": "stdout",
     "output_type": "stream",
     "text": [
      "features: tensor([ 0.1966, -0.6143]) \n",
      "label: tensor([6.6860])\n"
     ]
    }
   ],
   "source": [
    "print('features:', data.X[0],'\\nlabel:', data.y[0])"
   ]
  },
  {
   "cell_type": "markdown",
   "id": "87ecf5e2",
   "metadata": {
    "slideshow": {
     "slide_type": "slide"
    }
   },
   "source": [
    "Implement the `get_dataloader` method,\n",
    "takes a batch size, a matrix of features,\n",
    "and a vector of labels, and generates minibatches of size `batch_size`"
   ]
  },
  {
   "cell_type": "code",
   "execution_count": 6,
   "id": "e0446921",
   "metadata": {
    "execution": {
     "iopub.execute_input": "2023-08-18T07:10:01.658881Z",
     "iopub.status.busy": "2023-08-18T07:10:01.658306Z",
     "iopub.status.idle": "2023-08-18T07:10:01.665056Z",
     "shell.execute_reply": "2023-08-18T07:10:01.664092Z"
    },
    "origin_pos": 15,
    "tab": [
     "pytorch"
    ]
   },
   "outputs": [
    {
     "name": "stdout",
     "output_type": "stream",
     "text": [
      "X shape: torch.Size([32, 2]) \n",
      "y shape: torch.Size([32, 1])\n"
     ]
    }
   ],
   "source": [
    "@d2l.add_to_class(SyntheticRegressionData)\n",
    "def get_dataloader(self, train):\n",
    "    if train:\n",
    "        indices = list(range(0, self.num_train))\n",
    "        random.shuffle(indices)\n",
    "    else:\n",
    "        indices = list(range(self.num_train, self.num_train+self.num_val))\n",
    "    for i in range(0, len(indices), self.batch_size):\n",
    "        batch_indices = torch.tensor(indices[i: i+self.batch_size])\n",
    "        yield self.X[batch_indices], self.y[batch_indices]\n",
    "\n",
    "X, y = next(iter(data.train_dataloader()))\n",
    "print('X shape:', X.shape, '\\ny shape:', y.shape)"
   ]
  },
  {
   "cell_type": "markdown",
   "id": "f27429cd",
   "metadata": {
    "slideshow": {
     "slide_type": "slide"
    }
   },
   "source": [
    "Call the existing API in a framework to load data"
   ]
  },
  {
   "cell_type": "code",
   "execution_count": 9,
   "id": "1cde8331",
   "metadata": {
    "attributes": {
     "classes": [],
     "id": "",
     "n": "4"
    },
    "execution": {
     "iopub.execute_input": "2023-08-18T07:10:01.688038Z",
     "iopub.status.busy": "2023-08-18T07:10:01.687182Z",
     "iopub.status.idle": "2023-08-18T07:10:01.694340Z",
     "shell.execute_reply": "2023-08-18T07:10:01.693442Z"
    },
    "origin_pos": 21,
    "tab": [
     "pytorch"
    ]
   },
   "outputs": [
    {
     "name": "stdout",
     "output_type": "stream",
     "text": [
      "X shape: torch.Size([32, 2]) \n",
      "y shape: torch.Size([32, 1])\n"
     ]
    }
   ],
   "source": [
    "@d2l.add_to_class(d2l.DataModule)  \n",
    "def get_tensorloader(self, tensors, train, indices=slice(0, None)):\n",
    "    tensors = tuple(a[indices] for a in tensors)\n",
    "    dataset = torch.utils.data.TensorDataset(*tensors)\n",
    "    return torch.utils.data.DataLoader(dataset, self.batch_size,\n",
    "                                       shuffle=train)\n",
    "\n",
    "@d2l.add_to_class(SyntheticRegressionData)  \n",
    "def get_dataloader(self, train):\n",
    "    i = slice(0, self.num_train) if train else slice(self.num_train, None)\n",
    "    return self.get_tensorloader((self.X, self.y), train, i)\n",
    "\n",
    "X, y = next(iter(data.train_dataloader()))\n",
    "print('X shape:', X.shape, '\\ny shape:', y.shape)"
   ]
  },
  {
   "cell_type": "code",
   "execution_count": 10,
   "id": "b1a9fde5",
   "metadata": {
    "execution": {
     "iopub.execute_input": "2023-08-18T07:10:01.697798Z",
     "iopub.status.busy": "2023-08-18T07:10:01.697189Z",
     "iopub.status.idle": "2023-08-18T07:10:01.704443Z",
     "shell.execute_reply": "2023-08-18T07:10:01.703485Z"
    },
    "origin_pos": 23,
    "tab": [
     "pytorch"
    ]
   },
   "outputs": [
    {
     "data": {
      "text/plain": [
       "32"
      ]
     },
     "execution_count": 10,
     "metadata": {},
     "output_type": "execute_result"
    }
   ],
   "source": [
    "len(data.train_dataloader())"
   ]
  }
 ],
 "metadata": {
  "celltoolbar": "Slideshow",
  "language_info": {
   "name": "python"
  },
  "required_libs": [],
  "rise": {
   "autolaunch": true,
   "enable_chalkboard": true,
   "overlay": "<div class='my-top-right'><img height=80px src='http://d2l.ai/_static/logo-with-text.png'/></div><div class='my-top-left'></div>",
   "scroll": true
  }
 },
 "nbformat": 4,
 "nbformat_minor": 5
}