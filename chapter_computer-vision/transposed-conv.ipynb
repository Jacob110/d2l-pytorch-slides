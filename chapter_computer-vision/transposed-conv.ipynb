{
 "cells": [
  {
   "cell_type": "markdown",
   "id": "aa5d7a1e",
   "metadata": {
    "slideshow": {
     "slide_type": "-"
    }
   },
   "source": [
    "# Transposed Convolution\n",
    "\n"
   ]
  },
  {
   "cell_type": "code",
   "execution_count": 1,
   "id": "e2255850",
   "metadata": {
    "execution": {
     "iopub.execute_input": "2023-08-18T07:07:27.065060Z",
     "iopub.status.busy": "2023-08-18T07:07:27.064213Z",
     "iopub.status.idle": "2023-08-18T07:07:29.814657Z",
     "shell.execute_reply": "2023-08-18T07:07:29.813272Z"
    },
    "origin_pos": 2,
    "tab": [
     "pytorch"
    ]
   },
   "outputs": [],
   "source": [
    "import torch\n",
    "from torch import nn\n",
    "from d2l import torch as d2l"
   ]
  },
  {
   "cell_type": "markdown",
   "id": "828ec467",
   "metadata": {
    "slideshow": {
     "slide_type": "-"
    }
   },
   "source": [
    "Implement this basic transposed convolution operation"
   ]
  },
  {
   "cell_type": "code",
   "execution_count": 2,
   "id": "60958f44",
   "metadata": {
    "execution": {
     "iopub.execute_input": "2023-08-18T07:07:29.823478Z",
     "iopub.status.busy": "2023-08-18T07:07:29.821186Z",
     "iopub.status.idle": "2023-08-18T07:07:29.831962Z",
     "shell.execute_reply": "2023-08-18T07:07:29.831022Z"
    },
    "origin_pos": 4,
    "tab": [
     "pytorch"
    ]
   },
   "outputs": [],
   "source": [
    "def trans_conv(X, K):\n",
    "    h, w = K.shape\n",
    "    Y = torch.zeros((X.shape[0] + h - 1, X.shape[1] + w - 1))\n",
    "    for i in range(X.shape[0]):\n",
    "        for j in range(X.shape[1]):\n",
    "            Y[i: i + h, j: j + w] += X[i, j] * K\n",
    "    return Y"
   ]
  },
  {
   "cell_type": "markdown",
   "id": "50f4cefa",
   "metadata": {
    "slideshow": {
     "slide_type": "slide"
    }
   },
   "source": [
    "Validate the output of the above implementation"
   ]
  },
  {
   "cell_type": "code",
   "execution_count": 3,
   "id": "9355bc19",
   "metadata": {
    "execution": {
     "iopub.execute_input": "2023-08-18T07:07:29.835690Z",
     "iopub.status.busy": "2023-08-18T07:07:29.835085Z",
     "iopub.status.idle": "2023-08-18T07:07:29.864125Z",
     "shell.execute_reply": "2023-08-18T07:07:29.863317Z"
    },
    "origin_pos": 6,
    "tab": [
     "pytorch"
    ]
   },
   "outputs": [
    {
     "data": {
      "text/plain": [
       "tensor([[ 0.,  0.,  1.],\n",
       "        [ 0.,  4.,  6.],\n",
       "        [ 4., 12.,  9.]])"
      ]
     },
     "execution_count": 3,
     "metadata": {},
     "output_type": "execute_result"
    }
   ],
   "source": [
    "X = torch.tensor([[0.0, 1.0], [2.0, 3.0]])\n",
    "K = torch.tensor([[0.0, 1.0], [2.0, 3.0]])\n",
    "trans_conv(X, K)"
   ]
  },
  {
   "cell_type": "markdown",
   "id": "9e0986d7",
   "metadata": {
    "slideshow": {
     "slide_type": "slide"
    }
   },
   "source": [
    "Use high-level APIs to obtain the same results"
   ]
  },
  {
   "cell_type": "code",
   "execution_count": 4,
   "id": "e54baf16",
   "metadata": {
    "execution": {
     "iopub.execute_input": "2023-08-18T07:07:29.867338Z",
     "iopub.status.busy": "2023-08-18T07:07:29.867048Z",
     "iopub.status.idle": "2023-08-18T07:07:29.876897Z",
     "shell.execute_reply": "2023-08-18T07:07:29.876131Z"
    },
    "origin_pos": 9,
    "tab": [
     "pytorch"
    ]
   },
   "outputs": [
    {
     "data": {
      "text/plain": [
       "tensor([[[[ 0.,  0.,  1.],\n",
       "          [ 0.,  4.,  6.],\n",
       "          [ 4., 12.,  9.]]]], grad_fn=<ConvolutionBackward0>)"
      ]
     },
     "execution_count": 4,
     "metadata": {},
     "output_type": "execute_result"
    }
   ],
   "source": [
    "X, K = X.reshape(1, 1, 2, 2), K.reshape(1, 1, 2, 2)\n",
    "tconv = nn.ConvTranspose2d(1, 1, kernel_size=2, bias=False)\n",
    "tconv.weight.data = K\n",
    "tconv(X)"
   ]
  },
  {
   "cell_type": "markdown",
   "id": "1a2e0654",
   "metadata": {
    "slideshow": {
     "slide_type": "slide"
    }
   },
   "source": [
    "Padding, Strides, and Multiple Channels"
   ]
  },
  {
   "cell_type": "code",
   "execution_count": 5,
   "id": "59fd04bb",
   "metadata": {
    "execution": {
     "iopub.execute_input": "2023-08-18T07:07:29.880307Z",
     "iopub.status.busy": "2023-08-18T07:07:29.879777Z",
     "iopub.status.idle": "2023-08-18T07:07:29.887825Z",
     "shell.execute_reply": "2023-08-18T07:07:29.886796Z"
    },
    "origin_pos": 12,
    "tab": [
     "pytorch"
    ]
   },
   "outputs": [
    {
     "data": {
      "text/plain": [
       "tensor([[[[4.]]]], grad_fn=<ConvolutionBackward0>)"
      ]
     },
     "execution_count": 5,
     "metadata": {},
     "output_type": "execute_result"
    }
   ],
   "source": [
    "tconv = nn.ConvTranspose2d(1, 1, kernel_size=2, padding=1, bias=False)\n",
    "tconv.weight.data = K\n",
    "tconv(X)"
   ]
  },
  {
   "cell_type": "code",
   "execution_count": 6,
   "id": "7d5a2921",
   "metadata": {
    "execution": {
     "iopub.execute_input": "2023-08-18T07:07:29.891191Z",
     "iopub.status.busy": "2023-08-18T07:07:29.890626Z",
     "iopub.status.idle": "2023-08-18T07:07:29.897158Z",
     "shell.execute_reply": "2023-08-18T07:07:29.896373Z"
    },
    "origin_pos": 15,
    "tab": [
     "pytorch"
    ]
   },
   "outputs": [
    {
     "data": {
      "text/plain": [
       "tensor([[[[0., 0., 0., 1.],\n",
       "          [0., 0., 2., 3.],\n",
       "          [0., 2., 0., 3.],\n",
       "          [4., 6., 6., 9.]]]], grad_fn=<ConvolutionBackward0>)"
      ]
     },
     "execution_count": 6,
     "metadata": {},
     "output_type": "execute_result"
    }
   ],
   "source": [
    "tconv = nn.ConvTranspose2d(1, 1, kernel_size=2, stride=2, bias=False)\n",
    "tconv.weight.data = K\n",
    "tconv(X)"
   ]
  },
  {
   "cell_type": "code",
   "execution_count": 7,
   "id": "b44d1f8a",
   "metadata": {
    "execution": {
     "iopub.execute_input": "2023-08-18T07:07:29.900221Z",
     "iopub.status.busy": "2023-08-18T07:07:29.899932Z",
     "iopub.status.idle": "2023-08-18T07:07:29.944154Z",
     "shell.execute_reply": "2023-08-18T07:07:29.943344Z"
    },
    "origin_pos": 18,
    "tab": [
     "pytorch"
    ]
   },
   "outputs": [
    {
     "data": {
      "text/plain": [
       "True"
      ]
     },
     "execution_count": 7,
     "metadata": {},
     "output_type": "execute_result"
    }
   ],
   "source": [
    "X = torch.rand(size=(1, 10, 16, 16))\n",
    "conv = nn.Conv2d(10, 20, kernel_size=5, padding=2, stride=3)\n",
    "tconv = nn.ConvTranspose2d(20, 10, kernel_size=5, padding=2, stride=3)\n",
    "tconv(conv(X)).shape == X.shape"
   ]
  },
  {
   "cell_type": "markdown",
   "id": "3bd5fcd6",
   "metadata": {
    "slideshow": {
     "slide_type": "slide"
    }
   },
   "source": [
    "Connection to Matrix Transposition"
   ]
  },
  {
   "cell_type": "code",
   "execution_count": 8,
   "id": "9cc0307e",
   "metadata": {
    "execution": {
     "iopub.execute_input": "2023-08-18T07:07:29.947623Z",
     "iopub.status.busy": "2023-08-18T07:07:29.947028Z",
     "iopub.status.idle": "2023-08-18T07:07:29.953997Z",
     "shell.execute_reply": "2023-08-18T07:07:29.953234Z"
    },
    "origin_pos": 20,
    "tab": [
     "pytorch"
    ]
   },
   "outputs": [
    {
     "data": {
      "text/plain": [
       "tensor([[27., 37.],\n",
       "        [57., 67.]])"
      ]
     },
     "execution_count": 8,
     "metadata": {},
     "output_type": "execute_result"
    }
   ],
   "source": [
    "X = torch.arange(9.0).reshape(3, 3)\n",
    "K = torch.tensor([[1.0, 2.0], [3.0, 4.0]])\n",
    "Y = d2l.corr2d(X, K)\n",
    "Y"
   ]
  },
  {
   "cell_type": "code",
   "execution_count": 9,
   "id": "91cc16e3",
   "metadata": {
    "execution": {
     "iopub.execute_input": "2023-08-18T07:07:29.957364Z",
     "iopub.status.busy": "2023-08-18T07:07:29.956759Z",
     "iopub.status.idle": "2023-08-18T07:07:29.964844Z",
     "shell.execute_reply": "2023-08-18T07:07:29.963986Z"
    },
    "origin_pos": 22,
    "tab": [
     "pytorch"
    ]
   },
   "outputs": [
    {
     "data": {
      "text/plain": [
       "tensor([[1., 2., 0., 3., 4., 0., 0., 0., 0.],\n",
       "        [0., 1., 2., 0., 3., 4., 0., 0., 0.],\n",
       "        [0., 0., 0., 1., 2., 0., 3., 4., 0.],\n",
       "        [0., 0., 0., 0., 1., 2., 0., 3., 4.]])"
      ]
     },
     "execution_count": 9,
     "metadata": {},
     "output_type": "execute_result"
    }
   ],
   "source": [
    "def kernel2matrix(K):\n",
    "    k, W = torch.zeros(5), torch.zeros((4, 9))\n",
    "    k[:2], k[3:5] = K[0, :], K[1, :]\n",
    "    W[0, :5], W[1, 1:6], W[2, 3:8], W[3, 4:] = k, k, k, k\n",
    "    return W\n",
    "\n",
    "W = kernel2matrix(K)\n",
    "W"
   ]
  },
  {
   "cell_type": "code",
   "execution_count": 10,
   "id": "94c69eaf",
   "metadata": {
    "execution": {
     "iopub.execute_input": "2023-08-18T07:07:29.967858Z",
     "iopub.status.busy": "2023-08-18T07:07:29.967582Z",
     "iopub.status.idle": "2023-08-18T07:07:29.973797Z",
     "shell.execute_reply": "2023-08-18T07:07:29.972931Z"
    },
    "origin_pos": 24,
    "tab": [
     "pytorch"
    ]
   },
   "outputs": [
    {
     "data": {
      "text/plain": [
       "tensor([[True, True],\n",
       "        [True, True]])"
      ]
     },
     "execution_count": 10,
     "metadata": {},
     "output_type": "execute_result"
    }
   ],
   "source": [
    "Y == torch.matmul(W, X.reshape(-1)).reshape(2, 2)"
   ]
  },
  {
   "cell_type": "code",
   "execution_count": 11,
   "id": "eaa8ec06",
   "metadata": {
    "execution": {
     "iopub.execute_input": "2023-08-18T07:07:29.976865Z",
     "iopub.status.busy": "2023-08-18T07:07:29.976589Z",
     "iopub.status.idle": "2023-08-18T07:07:29.983249Z",
     "shell.execute_reply": "2023-08-18T07:07:29.982395Z"
    },
    "origin_pos": 26,
    "tab": [
     "pytorch"
    ]
   },
   "outputs": [
    {
     "data": {
      "text/plain": [
       "tensor([[True, True, True],\n",
       "        [True, True, True],\n",
       "        [True, True, True]])"
      ]
     },
     "execution_count": 11,
     "metadata": {},
     "output_type": "execute_result"
    }
   ],
   "source": [
    "Z = trans_conv(Y, K)\n",
    "Z == torch.matmul(W.T, Y.reshape(-1)).reshape(3, 3)"
   ]
  }
 ],
 "metadata": {
  "celltoolbar": "Slideshow",
  "language_info": {
   "name": "python"
  },
  "required_libs": [],
  "rise": {
   "autolaunch": true,
   "enable_chalkboard": true,
   "overlay": "<div class='my-top-right'><img height=80px src='http://d2l.ai/_static/logo-with-text.png'/></div><div class='my-top-left'></div>",
   "scroll": true
  }
 },
 "nbformat": 4,
 "nbformat_minor": 5
}